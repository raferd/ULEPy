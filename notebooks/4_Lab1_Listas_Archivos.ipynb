{
 "cells": [
  {
   "cell_type": "markdown",
   "metadata": {
    "slideshow": {
     "slide_type": "slide"
    }
   },
   "source": [
    "# 4. Práctica: Almacenamiento de listas en el sistema de archivos"
   ]
  },
  {
   "cell_type": "markdown",
   "metadata": {
    "slideshow": {
     "slide_type": "slide"
    }
   },
   "source": [
    "## Objetivos\n",
    "\n",
    "* Construir y consultar listas de cadenas de caracteres\n",
    "* Almacenar listas y recuperarlas del disco duro utilizando el módulo `pickle`"
   ]
  },
  {
   "cell_type": "markdown",
   "metadata": {},
   "source": [
    "## El módulo ***pickle*** para lectura/escritura en el sistema de archivos"
   ]
  },
  {
   "cell_type": "markdown",
   "metadata": {},
   "source": [
    "\n",
    "El módulo pickle permite realizar las siguientes tareas:\n",
    "\n",
    "```python\n",
    "import pickle  # modulo de lectura/escritura de archivos\n",
    "```\n",
    "\n",
    "* Almacenar listas en el sistema de archivos (disco duro): *dump()*\n",
    "\n",
    "```python\n",
    "pickle.dump (lista_para_almacenar, open('nombre_de_archivo','wb')) # Guarda la lista en el archivo nombre_de_archivo\n",
    "```\n",
    "\n",
    "* Recuperar listas almacenadas en archivos: *load()*\n",
    "\n",
    "```python\n",
    "lista_recuperada=pickle.load(open('nombre_de_archivo','rb')) # Lee la lista almacenada en el archivo\n",
    "```"
   ]
  },
  {
   "cell_type": "markdown",
   "metadata": {},
   "source": [
    "## Parte 1. Almacenamiento de listas"
   ]
  },
  {
   "cell_type": "markdown",
   "metadata": {},
   "source": [
    "Escribe un programa con la siguiente funcionalidad:\n",
    "\n",
    "1. Importa el módulo `pickle` \n",
    "2. Crea una lista vacía de nombre `mi_lista` \n",
    "3. Guarda la variable `mi_lista` en el archivo `'palabras'` \n",
    "4. Lee el contenido del archivo `'palabras'`y guarda el resultado en la variable `mi_lista2`\n",
    "5. Si `mi_lista2` es igual a `mi_lista`, imprime el mensaje `'Lista guardada y leída correctamente'`"
   ]
  },
  {
   "cell_type": "code",
   "execution_count": 25,
   "metadata": {},
   "outputs": [
    {
     "name": "stdout",
     "output_type": "stream",
     "text": [
      "Lista guardada y leída correctamente\n"
     ]
    }
   ],
   "source": [
    "import pickle\n",
    "mi_lista=[]\n",
    "pickle.dump(mi_lista, open('palabras','wb'))\n",
    "mi_lista2=pickle.load(open('palabras','rb'))\n",
    "if mi_lista2==mi_lista:\n",
    "    print('Lista guardada y leída correctamente')"
   ]
  },
  {
   "cell_type": "markdown",
   "metadata": {},
   "source": [
    "## Parte 2. Adición de elementos a una lista"
   ]
  },
  {
   "cell_type": "markdown",
   "metadata": {},
   "source": [
    "Escribe un programa con la siguiente funcionalidad:\n",
    "    \n",
    "1. Ejecutar dentro de un bloque `try...except` el código adecuado para (bloque `try`) asignar a una lista, de nombre `mi_lista2`, el contenido del archivo `'palabras'` creado en la Parte 1. En el caso de que se produzca alguna excepción al leer el archivo (bloque `except`), entonces crear la variable `mi_lista2` como una lista vacía   \n",
    "2. Solicitar que el usuario escriba una palabra y guardarla en la variable `nueva_palabra`\n",
    "3. Mientras que `nueva_palabra` sea distinta de la cadena vacía (`''`), añadir `nueva_palabra` a `mi_lista2` y volver a solictar al usuario el valor de nueva_palabra\n",
    "4. Almacenar `mi_lista2` en el archivo `'palabras'`\n",
    "5. Mostrar por pantalla el número de palabras de la lista\n",
    "6. Si el número de palabras de la lista es mayor o igual que dos, entonces mostrar por pantalla las dos últimas palabras de la lista       \n",
    "   Si no, si el número de palabras es igual a 1, entonces mostrar por pantalla la palabra que hay en la lista    \n",
    "   Si no, mostrar el mensaje 'No hay datos en la lista'    \n",
    "   \n",
    "\n",
    "El siguiente **ejemplo** muestra cuál sería el comportamiento del programa **si el archivo `palabras` contuviese inicialmente la lista `['red']`**:\n",
    "\n",
    "``` shell\n",
    "Palabra? disco\n",
    "Palabra? cinta\n",
    "Palabra? \n",
    "Número de palabras en la lista: 3\n",
    "Dos últimas palabras: disco cinta\n",
    "```"
   ]
  },
  {
   "cell_type": "code",
   "execution_count": 21,
   "metadata": {},
   "outputs": [
    {
     "name": "stdin",
     "output_type": "stream",
     "text": [
      "Palabra? disco\n",
      "Palabra? cinta\n",
      "Palabra? \n"
     ]
    },
    {
     "name": "stdout",
     "output_type": "stream",
     "text": [
      "Número de palabras en la lista: 3\n",
      "Dos últimas palabras: disco cinta\n"
     ]
    }
   ],
   "source": [
    "#1 \n",
    "try:\n",
    "    mi_lista2=pickle.load(open('palabras','rb'))\n",
    "except:\n",
    "    mi_lista2=[]\n",
    "\n",
    "#2\n",
    "nueva_palabra=input('Palabra?')\n",
    "\n",
    "#3\n",
    "while nueva_palabra!='':\n",
    "    mi_lista2.append(nueva_palabra)\n",
    "    nueva_palabra=input('Palabra?')\n",
    "\n",
    "#4\n",
    "pickle.dump(mi_lista2, open('palabras','wb'))\n",
    "\n",
    "#5\n",
    "num_palabras=len(mi_lista2)\n",
    "print(f'Número de palabras en la lista: {num_palabras}')\n",
    "\n",
    "#6\n",
    "if num_palabras>=2:\n",
    "    print(f'Dos últimas palabras: {mi_lista2[-2]} {mi_lista2[-1]}')\n",
    "elif num_palabras==1:\n",
    "    print(f'Lista con una palabra: {mi_lista2[0]}')\n",
    "else: \n",
    "    print('No hay datos en la lista')"
   ]
  },
  {
   "cell_type": "markdown",
   "metadata": {},
   "source": [
    "## Parte 3. Adición a una lista solamente de los elementos que no aparezcan en ella"
   ]
  },
  {
   "cell_type": "markdown",
   "metadata": {},
   "source": [
    "Modifica el programa de la Parte 2 para que no se añadan a la lista palabras repetidas (Una palabra se añade a la `mi_lista2` solamente si no está contenida en la lista))\n",
    "\n",
    "Ejemplo de comportamiento suponiendo que el archivo palabras contuviese la lista `['red','disco','cinta']`:\n",
    "\n",
    "```shell\n",
    "Palabra? disco\n",
    "Palabra? teclado\n",
    "Palabra? \n",
    "Número de palabras en la lista: 4\n",
    "Dos últimas palabras: cinta teclado\n",
    "```"
   ]
  },
  {
   "cell_type": "code",
   "execution_count": 27,
   "metadata": {},
   "outputs": [
    {
     "name": "stdin",
     "output_type": "stream",
     "text": [
      "Palabra? disco\n",
      "Palabra? teclado\n",
      "Palabra? \n"
     ]
    },
    {
     "name": "stdout",
     "output_type": "stream",
     "text": [
      "Número de palabras en la lista: 4\n",
      "Dos últimas palabras: cinta teclado\n"
     ]
    }
   ],
   "source": [
    "#1 \n",
    "try:\n",
    "    mi_lista2=pickle.load(open('palabras','rb'))\n",
    "except:\n",
    "    mi_lista2=[]\n",
    "\n",
    "#2\n",
    "nueva_palabra=input('Palabra?')\n",
    "\n",
    "#3\n",
    "while nueva_palabra!='':\n",
    "    if nueva_palabra not in mi_lista2:\n",
    "        mi_lista2.append(nueva_palabra)\n",
    "    nueva_palabra=input('Palabra?')\n",
    "\n",
    "#4\n",
    "pickle.dump(mi_lista2, open('palabras','wb'))\n",
    "\n",
    "#5\n",
    "num_palabras=len(mi_lista2)\n",
    "print(f'Número de palabras en la lista: {num_palabras}')\n",
    "\n",
    "#6\n",
    "if num_palabras>=2:\n",
    "    print(f'Dos últimas palabras: {mi_lista2[-2]} {mi_lista2[-1]}')\n",
    "elif num_palabras==1:\n",
    "    print(f'Lista con una palabra: {mi_lista2[0]}')\n",
    "else: \n",
    "    print('No hay datos en la lista')"
   ]
  }
 ],
 "metadata": {
  "kernelspec": {
   "display_name": "Python 3",
   "language": "python",
   "name": "python3"
  },
  "language_info": {
   "codemirror_mode": {
    "name": "ipython",
    "version": 3
   },
   "file_extension": ".py",
   "mimetype": "text/x-python",
   "name": "python",
   "nbconvert_exporter": "python",
   "pygments_lexer": "ipython3",
   "version": "3.7.5"
  }
 },
 "nbformat": 4,
 "nbformat_minor": 4
}
