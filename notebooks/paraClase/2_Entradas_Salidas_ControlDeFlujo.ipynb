{
 "cells": [
  {
   "cell_type": "markdown",
   "metadata": {
    "slideshow": {
     "slide_type": "slide"
    }
   },
   "source": [
    "# 2. Estructuras de Control"
   ]
  },
  {
   "cell_type": "markdown",
   "metadata": {
    "slideshow": {
     "slide_type": "slide"
    }
   },
   "source": [
    "## 2.1. Introducción\n",
    "Un programa consta de un conjunto de instrucciones organizadas mediante las siguientes estructuras de control:\n",
    "\n",
    "<div style=\"background-color: white;\">\n",
    "<img src=\"./figuras_Python_2/Secuencia_seleccion_repeticion.png\" width=\"600\"/>\n",
    "</div>\n"
   ]
  },
  {
   "cell_type": "markdown",
   "metadata": {
    "slideshow": {
     "slide_type": "slide"
    }
   },
   "source": [
    "## 2.2. Salida por pantalla (*print*)      "
   ]
  },
  {
   "cell_type": "markdown",
   "metadata": {},
   "source": [
    "```python\n",
    "print(string_0[,...,string_n,sep=' ', end='\\n', flush=False])\n",
    "```\n",
    "Argumentos:\n",
    "\n",
    "* `sep`: Especifica el separador entre cadenas (por defecto: un espacio blanco)\n",
    "* `end`: Especifica la cadena finalizadora (por defecto: nueva línea)\n",
    "* `flush`: Valor *True* indica que se refresca el buffer de escritura inmediatamente (permite mostrar texto en el momento preciso en que se desee)\n",
    " \n",
    "Caracteres especiales:\n",
    "\n",
    "|Carácter especial|Significado|\n",
    "|:-----:|:------|\n",
    "|\\n|Nueva línea|\n",
    "|\\t|Tabulador|\n",
    "|\\\\'|Comilla simple `'`|\n",
    "|\\\\\"|Comillas dobles `\"`|\n",
    "|\\r|Ir al principio de la línea de texto en pantalla|\n",
    "|\\\\%|Carácter `%`|\n"
   ]
  },
  {
   "cell_type": "code",
   "execution_count": 1,
   "metadata": {
    "slideshow": {
     "slide_type": "slide"
    }
   },
   "outputs": [
    {
     "name": "stdout",
     "output_type": "stream",
     "text": [
      "Hola,\n",
      "¿qué tal estás, amigo mío?\n"
     ]
    }
   ],
   "source": [
    "print('Hola,')\n",
    "print('¿qué tal estás,','amigo mío?')"
   ]
  },
  {
   "cell_type": "code",
   "execution_count": 2,
   "metadata": {
    "slideshow": {
     "slide_type": "fragment"
    }
   },
   "outputs": [
    {
     "name": "stdout",
     "output_type": "stream",
     "text": [
      "Hola, ¿qué tal estás, amigo mío?\n"
     ]
    }
   ],
   "source": [
    "print('Hola,',end=' ') # Cambia el finalizador\n",
    "print('¿qué tal estás,','amigo mío?')"
   ]
  },
  {
   "cell_type": "code",
   "execution_count": 3,
   "metadata": {
    "slideshow": {
     "slide_type": "fragment"
    }
   },
   "outputs": [
    {
     "name": "stdout",
     "output_type": "stream",
     "text": [
      "Juana, Valentín, María del Mar, Ana\n"
     ]
    }
   ],
   "source": [
    "print ('Juana','Valentín','María del Mar','Ana',sep=', ') # El separador es una cadena"
   ]
  },
  {
   "cell_type": "code",
   "execution_count": 4,
   "metadata": {
    "slideshow": {
     "slide_type": "slide"
    }
   },
   "outputs": [
    {
     "name": "stdout",
     "output_type": "stream",
     "text": [
      "[##########] 100%\n"
     ]
    }
   ],
   "source": [
    "# Ejemplo para mostrar una barra de progreso:\n",
    "from time import sleep \n",
    "\n",
    "sleep(0.4)\n",
    "print('\\r[','#'*1,' '*9,']  10%',sep='',end='',flush=True); sleep(0.4)\n",
    "print('\\r[','#'*2,' '*8,']  20%',sep='',end='',flush=True); sleep(0.4)\n",
    "print('\\r[','#'*3,' '*7,']  30%',sep='',end='',flush=True); sleep(0.4)\n",
    "print('\\r[','#'*4,' '*6,']  40%',sep='',end='',flush=True); sleep(0.4)\n",
    "print('\\r[','#'*5,' '*5,']  50%',sep='',end='',flush=True); sleep(0.4)\n",
    "print('\\r[','#'*6,' '*4,']  60%',sep='',end='',flush=True); sleep(0.4)\n",
    "print('\\r[','#'*7,' '*3,']  70%',sep='',end='',flush=True); sleep(0.4)\n",
    "print('\\r[','#'*8,' '*2,']  80%',sep='',end='',flush=True); sleep(0.4)\n",
    "print('\\r[','#'*9,' '*1,']  90%',sep='',end='',flush=True); sleep(0.4)\n",
    "print('\\r[','#'*10,'] 100%',sep='',flush=True)"
   ]
  },
  {
   "cell_type": "markdown",
   "metadata": {
    "slideshow": {
     "slide_type": "slide"
    }
   },
   "source": [
    "### **Aplicación de formato a cadenas de caracteres:**\n",
    "\n",
    "* Mecanismo basado en el operador `%`\n",
    "* Utilización del método *format*\n",
    "* Cadenas formateadas (*f-strings*)"
   ]
  },
  {
   "cell_type": "markdown",
   "metadata": {
    "slideshow": {
     "slide_type": "slide"
    }
   },
   "source": [
    "#### **Mecanismo basado en el operador `%`**\n",
    "\n",
    "```python\n",
    "print('Cadena que incluye especificadores de conversión %_0, %_1,..., %_n'%(valor0,valor1...,valor_n))\n",
    "```\n",
    "\n",
    "Un especificador de conversión contiene dos o más caracteres con los siguientes componentes en orden:\n",
    "\n",
    "1. Carácter `%`: inicio del especificador\n",
    "2. Clave (opcional): variable que se desea imprimir, colocada entre paréntesis (útil con diccionarios)\n",
    "3. Etiqueta (opcional): afecta a la forma en que se muestran algunos tipos de datos\n",
    "4. Anchura mínima del campo de texto (opcional)\n",
    "5. Precisión (opcional): `.X`, donde `X` es el número de cifras decimales\n",
    "6. Modificador de longitud (opcional)\n",
    "7. Tipo de conversión (tipo de dato que se desea mostrar)"
   ]
  },
  {
   "cell_type": "markdown",
   "metadata": {
    "slideshow": {
     "slide_type": "slide"
    }
   },
   "source": [
    "|Etiqueta|Significado|\n",
    "|:------:|:----------|\n",
    "|`#`|Utilizar un tipo de conversión alternativo|\n",
    "|`0`|Si el valor es numérico, se rellena con ceros por la izquierda|\n",
    "|`-`|El valor se ajusta hacia la izquierda (predomina sobre la etiqueta `0`)|\n",
    "|` `|Insertar un espacio en blanco antes de una cadena vacía o de un valor numérico de signo positivo|\n",
    "|`+`|Añade el signo ('+' o '-' al valor numérico) (sobreescribe a la etiqueta ` `)|\n"
   ]
  },
  {
   "cell_type": "markdown",
   "metadata": {
    "slideshow": {
     "slide_type": "fragment"
    }
   },
   "source": [
    "\n",
    "|Tipo de conversión|Significado|\n",
    "|:--------:|:----------|\n",
    "|`d`/`i`|Valor entero en formato decimal|\n",
    "|`o`|Valor entero en formato octal|\n",
    "|`x`/`X`|Valor entero en formato hexadecimal (minúsculas/mayúsculas)|\n",
    "|`e`/`E`|Valor real en formato exponencial (minúsculas/mayúsculas)|\n",
    "|`f`/`F`|Valor real en formato decimal (minúsculas/mayúsculas)|\n",
    "|`c`|Carácter (acepta un valor entero o una cadena con un único carácter)|\n",
    "|`r`|Cadena de caracteres (convierte cualquier objeto usando *repr()*)|\n",
    "|`s`|Cadena de caracteres (convierte cualquier objeto usando *str()*)|\n",
    "|`a`|Cadena de caracteres (convierte cualquier objeto usando *ascii()*)|\n",
    "|`%`|Imprime el carácter `%`|\n"
   ]
  },
  {
   "cell_type": "code",
   "execution_count": 5,
   "metadata": {
    "slideshow": {
     "slide_type": "slide"
    }
   },
   "outputs": [],
   "source": [
    "a=0x1A    # Valor hexadecimal 1Ah=00011010b=26 \n",
    "r=51.123601\n",
    "str=\"mi cadena\""
   ]
  },
  {
   "cell_type": "markdown",
   "metadata": {
    "slideshow": {
     "slide_type": "fragment"
    }
   },
   "source": [
    "**Valores numéricos y cadena de caracteres**"
   ]
  },
  {
   "cell_type": "code",
   "execution_count": 6,
   "metadata": {},
   "outputs": [
    {
     "name": "stdout",
     "output_type": "stream",
     "text": [
      "Número entero: 26 \n",
      "Número real: 51.123601 \n",
      "Cadena de caracteres: mi cadena\n"
     ]
    }
   ],
   "source": [
    "print('Número entero: %d \\nNúmero real: %f \\nCadena de caracteres: %s' %(a,r,str))"
   ]
  },
  {
   "cell_type": "markdown",
   "metadata": {
    "slideshow": {
     "slide_type": "slide"
    }
   },
   "source": [
    "**Valores numéricos en campos de 7 caracteres, y precisión de 3 decimales, rellenando con 0s por la izquierda. Cadena en campo de 20 caracteres**"
   ]
  },
  {
   "cell_type": "code",
   "execution_count": 7,
   "metadata": {},
   "outputs": [
    {
     "name": "stdout",
     "output_type": "stream",
     "text": [
      "Número Entero: 0000026 \n",
      "Número real: 051.124 \n",
      "Cadena de caracteres:            mi cadena\n"
     ]
    }
   ],
   "source": [
    "print('Número Entero: %07d \\nNúmero real: %07.3f \\nCadena de caracteres: %20s' %(a,r,str))"
   ]
  },
  {
   "cell_type": "markdown",
   "metadata": {
    "slideshow": {
     "slide_type": "fragment"
    }
   },
   "source": [
    "**Valor entero en formatos decimal con signo, octal y hexadecimal**"
   ]
  },
  {
   "cell_type": "code",
   "execution_count": 8,
   "metadata": {},
   "outputs": [
    {
     "name": "stdout",
     "output_type": "stream",
     "text": [
      "Formatos de un valor entero:\n",
      "Decimal: a=+26; -a=-26\n",
      "Octal: a=32=00032 \t\t Octal alternativo: a=0o32=0o032\n",
      "Hexadecimal: a=1a=0000001A \t Hexadecimal alternativo: a=0x1a=0X00001A \n"
     ]
    }
   ],
   "source": [
    "print (\"Formatos de un valor entero:\")\n",
    "print (\"Decimal: a=%+d; -a=%+d\" %(a,-a))\n",
    "print (\"Octal: a=%o=%05o \\t\\t Octal alternativo: a=%#o=%#05o\"%(a,a,a,a))\n",
    "print (\"Hexadecimal: a=%x=%08X \\t Hexadecimal alternativo: a=%#x=%#08X \"%(a,a,a,a))"
   ]
  },
  {
   "cell_type": "markdown",
   "metadata": {
    "slideshow": {
     "slide_type": "slide"
    }
   },
   "source": [
    "**Valor real en formato decimal y exponencial**"
   ]
  },
  {
   "cell_type": "code",
   "execution_count": 9,
   "metadata": {},
   "outputs": [
    {
     "name": "stdout",
     "output_type": "stream",
     "text": [
      "Formatos de un valor real: \n",
      "Decimal: r=51.12\n",
      "Exponencial: r=5.11e+01=5.11E+01\n"
     ]
    }
   ],
   "source": [
    "print(\"Formatos de un valor real: \")\n",
    "print(\"Decimal: r=%.2f\"%(r))\n",
    "print(\"Exponencial: r=%.2e=%.2E\"%(r,r))"
   ]
  },
  {
   "cell_type": "markdown",
   "metadata": {
    "slideshow": {
     "slide_type": "slide"
    }
   },
   "source": [
    "#### **Utilización del método *format***\n",
    "`cadena.format(cadena_0[,...,cadena_n])`"
   ]
  },
  {
   "cell_type": "code",
   "execution_count": 10,
   "metadata": {
    "slideshow": {
     "slide_type": "fragment"
    }
   },
   "outputs": [
    {
     "ename": "SyntaxError",
     "evalue": "f-string: empty expression not allowed (<ipython-input-10-e65b6f9b67ba>, line 1)",
     "output_type": "error",
     "traceback": [
      "\u001b[0;36m  File \u001b[0;32m\"<ipython-input-10-e65b6f9b67ba>\"\u001b[0;36m, line \u001b[0;32m1\u001b[0m\n\u001b[0;31m    print(f'Me llamo {} y tengo {} años'.format('Julia',14))\u001b[0m\n\u001b[0m         ^\u001b[0m\n\u001b[0;31mSyntaxError\u001b[0m\u001b[0;31m:\u001b[0m f-string: empty expression not allowed\n"
     ]
    }
   ],
   "source": [
    "print(f'Me llamo {} y tengo {} años'.format('Julia',14))"
   ]
  },
  {
   "cell_type": "code",
   "execution_count": 11,
   "metadata": {
    "slideshow": {
     "slide_type": "slide"
    }
   },
   "outputs": [
    {
     "name": "stdout",
     "output_type": "stream",
     "text": [
      "Muestro tres valores: 10, 11 y hola\n"
     ]
    }
   ],
   "source": [
    "valor0='10'\n",
    "valor1=11\n",
    "print('Muestro tres valores: {0}, {1} y {2}'.format(valor0,valor1,'hola'))"
   ]
  },
  {
   "cell_type": "code",
   "execution_count": 12,
   "metadata": {
    "slideshow": {
     "slide_type": "fragment"
    }
   },
   "outputs": [
    {
     "name": "stdout",
     "output_type": "stream",
     "text": [
      "Los mismos valores en otro orden: hola, 10 y 11\n"
     ]
    }
   ],
   "source": [
    "print('Los mismos valores en otro orden: {2}, {0} y {1}'.format(valor0,valor1,'hola'))"
   ]
  },
  {
   "cell_type": "code",
   "execution_count": 13,
   "metadata": {
    "slideshow": {
     "slide_type": "fragment"
    }
   },
   "outputs": [
    {
     "name": "stdout",
     "output_type": "stream",
     "text": [
      "Otra manera de formatear cadenas: Andrea del Canto\n"
     ]
    }
   ],
   "source": [
    "print('Otra manera de formatear cadenas: {nombre} {apellido}'.format(nombre='Andrea',apellido='del Canto'))"
   ]
  },
  {
   "cell_type": "code",
   "execution_count": 14,
   "metadata": {
    "slideshow": {
     "slide_type": "fragment"
    }
   },
   "outputs": [
    {
     "name": "stdout",
     "output_type": "stream",
     "text": [
      "Se puede mezclar formatos: Rogelio Rodríguez tiene 21 años\n"
     ]
    }
   ],
   "source": [
    "print('Se puede mezclar formatos: {nombre} {apellido} tiene {0} años'.format(21,nombre='Rogelio',apellido='Rodríguez'))"
   ]
  },
  {
   "cell_type": "markdown",
   "metadata": {
    "slideshow": {
     "slide_type": "slide"
    }
   },
   "source": [
    "#### **Cadenas formateadas (*f-strings*)**\n",
    "\n",
    "* Una cadena formateada comienza con `f` o `F` antes de las comillas.\n",
    "* Admite el uso de expresiones indicadas entre llaves `{ }`     \n",
    "     `f'Ejemplo: {expresion1}, {expresion2}`\n",
    "* Se puede indicar un **especificador de formato** a cada expresión después del carácter `:`   \n",
    "    * valor entero (`:xd`): representación con un mínimo de *x* columnas \n",
    "    * valor decimal (`:x.yf`): *x* columnas, *y* posiciones decimales\n",
    "    * Rellenar con 0s por la izquierda: `:0xd`, `:0x.yf`\n",
    "* **Otros modificadores**:     \n",
    "    * `!a` aplica la función *ascii()* (convertir a formato representable en código ASCII)\n",
    "    * `!s` aplica la función *str()* (convertir a cadena de caracteres)\n",
    "    * `!r` aplica la función *repr()* (imprime la información que representa a un objeto)"
   ]
  },
  {
   "cell_type": "code",
   "execution_count": 15,
   "metadata": {
    "slideshow": {
     "slide_type": "slide"
    }
   },
   "outputs": [
    {
     "data": {
      "text/plain": [
       "'Número entero con 5 columnas y ceros por la izquierda: -0001'"
      ]
     },
     "execution_count": 15,
     "metadata": {},
     "output_type": "execute_result"
    }
   ],
   "source": [
    "f'Número entero con 5 columnas y ceros por la izquierda: {-1:05d}'"
   ]
  },
  {
   "cell_type": "code",
   "execution_count": 16,
   "metadata": {
    "slideshow": {
     "slide_type": "fragment"
    }
   },
   "outputs": [
    {
     "data": {
      "text/plain": [
       "'Valor literal:05.26'"
      ]
     },
     "execution_count": 16,
     "metadata": {},
     "output_type": "execute_result"
    }
   ],
   "source": [
    "f'Valor literal:{5.2622:05.2f}' # Se representa el resultado con al menos 5 caracteres"
   ]
  },
  {
   "cell_type": "code",
   "execution_count": 17,
   "metadata": {
    "slideshow": {
     "slide_type": "fragment"
    }
   },
   "outputs": [
    {
     "data": {
      "text/plain": [
       "'El cuadrado de 5 es 25'"
      ]
     },
     "execution_count": 17,
     "metadata": {},
     "output_type": "execute_result"
    }
   ],
   "source": [
    "valor=5\n",
    "f'El cuadrado de {valor} es {valor**2}'"
   ]
  },
  {
   "cell_type": "code",
   "execution_count": 18,
   "metadata": {
    "slideshow": {
     "slide_type": "fragment"
    }
   },
   "outputs": [
    {
     "name": "stdout",
     "output_type": "stream",
     "text": [
      "Hoy es: 15/01/2020\n"
     ]
    }
   ],
   "source": [
    "día=15\n",
    "mes=1\n",
    "año=2020\n",
    "print(f'Hoy es: {día:02}/{mes:02}/{año}') "
   ]
  },
  {
   "cell_type": "code",
   "execution_count": 19,
   "metadata": {
    "slideshow": {
     "slide_type": "fragment"
    }
   },
   "outputs": [
    {
     "name": "stdout",
     "output_type": "stream",
     "text": [
      "Número: 23.4\n"
     ]
    }
   ],
   "source": [
    "numero_0=23.4\n",
    "print(f'Número: {numero_0!s}')"
   ]
  },
  {
   "cell_type": "markdown",
   "metadata": {
    "slideshow": {
     "slide_type": "slide"
    }
   },
   "source": [
    "## 2.3. Entrada de datos por teclado (*input*)\n",
    "\n",
    "Lectura de una cadena de texto introducida desde el teclado\n",
    "\n",
    "```python\n",
    "input([<prompt>])\n",
    "```\n",
    "Argumento:\n",
    "* `<prompt>` (optativo): Cadena de caracteres que se muestra para indicar que el sistema permanece a la espera de entrada de datos por teclado\n",
    "\n",
    "`input` devuelve una cadena de caracteres. En caso necesario, ha de convertirse al formato apropiado (*int(), float(), complex()*)"
   ]
  },
  {
   "cell_type": "code",
   "execution_count": 20,
   "metadata": {
    "slideshow": {
     "slide_type": "slide"
    }
   },
   "outputs": [
    {
     "name": "stdin",
     "output_type": "stream",
     "text": [
      "¿Cómo te llamas? Sofía\n",
      "¿Cuántos años tienes? 8\n",
      "¿Cuánto mides (metros)? 1.28\n",
      "Escribe un número complejo (a+bj): 2+3j\n"
     ]
    }
   ],
   "source": [
    "nombre=input('¿Cómo te llamas?')\n",
    "edad=int(input('¿Cuántos años tienes?'))\n",
    "altura=float(input('¿Cuánto mides (metros)?'))\n",
    "cplx=complex(input('Escribe un número complejo (a+bj):'))"
   ]
  },
  {
   "cell_type": "code",
   "execution_count": 21,
   "metadata": {
    "slideshow": {
     "slide_type": "fragment"
    }
   },
   "outputs": [
    {
     "name": "stdout",
     "output_type": "stream",
     "text": [
      "Hola, Sofía: tienes 8 años y mides 1.28 metros\n",
      "Has escrito el número complejo (2+3j)\n"
     ]
    }
   ],
   "source": [
    "print(f'Hola, {nombre}: tienes {edad} años y mides {altura:.2f} metros')\n",
    "print(f'Has escrito el número complejo {cplx}')"
   ]
  },
  {
   "cell_type": "markdown",
   "metadata": {
    "slideshow": {
     "slide_type": "slide"
    }
   },
   "source": [
    "## 2.4. Instrucciones de selección\n",
    "\n",
    "```python\n",
    "if\n",
    "if...else\n",
    "escalera elif\n",
    "```\n",
    "\n",
    "* Permiten ejecutar bloques de código diferentes dependiendo del cumplimiento de una condición\n",
    "* Una condición es una expresión cuyo resultado puede ser `True` o `False`\n",
    "* Un bloque se identifica porque todas sus instrucciones están indentadas hacia la derecha con respecto a la propia instrucción de selección\n"
   ]
  },
  {
   "cell_type": "markdown",
   "metadata": {
    "slideshow": {
     "slide_type": "slide"
    }
   },
   "source": [
    "## Instrucciones de selección: *if*"
   ]
  },
  {
   "cell_type": "markdown",
   "metadata": {},
   "source": [
    "```python\n",
    "if condición:\n",
    "    # Si condición==True, se ejecutan las instrucciones_T \n",
    "    instrucción_T0\n",
    "    instrucción_T1\n",
    "    ...\n",
    "    instrucción_Tn\n",
    "```"
   ]
  },
  {
   "cell_type": "code",
   "execution_count": 22,
   "metadata": {
    "slideshow": {
     "slide_type": "fragment"
    }
   },
   "outputs": [
    {
     "name": "stdin",
     "output_type": "stream",
     "text": [
      "Numerador? 5\n",
      "Denominador? 2\n"
     ]
    },
    {
     "name": "stdout",
     "output_type": "stream",
     "text": [
      "5.0/2.0=2.50\n"
     ]
    }
   ],
   "source": [
    "num=float(input('Numerador?'))\n",
    "den=float(input('Denominador?'))\n",
    "\n",
    "if den!=0:\n",
    "    resultado=num/den\n",
    "    print (f'{num}/{den}={resultado:.2f}')\n",
    "\n",
    "if den==0:\n",
    "    print ('Error de división: El denominador es 0')"
   ]
  },
  {
   "cell_type": "code",
   "execution_count": 23,
   "metadata": {
    "slideshow": {
     "slide_type": "slide"
    }
   },
   "outputs": [
    {
     "name": "stdin",
     "output_type": "stream",
     "text": [
      "valor entero a? 5\n",
      "valor entero b? 6\n"
     ]
    },
    {
     "name": "stdout",
     "output_type": "stream",
     "text": [
      "5-6 es un valor negativo\n"
     ]
    }
   ],
   "source": [
    "'''Comprobar el signo del resultado de una operación entre enteros'''\n",
    "a=int(input('valor entero a?'))\n",
    "b=int(input('valor entero b?'))\n",
    "\n",
    "if a-b>0:\n",
    "    print(f'{a}-{b} es un valor positivo')\n",
    "if a-b<0:\n",
    "    print(f'{a}-{b} es un valor negativo')\n",
    "if a-b==0:\n",
    "    print(f'{a}-{b} es cero')"
   ]
  },
  {
   "cell_type": "code",
   "execution_count": 24,
   "metadata": {
    "slideshow": {
     "slide_type": "fragment"
    }
   },
   "outputs": [
    {
     "name": "stdin",
     "output_type": "stream",
     "text": [
      "Escribe un número entero: 53\n"
     ]
    },
    {
     "name": "stdout",
     "output_type": "stream",
     "text": [
      "53 es un número IMPAR\n"
     ]
    }
   ],
   "source": [
    "'''Comprobar si un entero es par o impar'''\n",
    "valor=int(input('Escribe un número entero:'))\n",
    "\n",
    "if valor%2==0: # comprueba si el resto de la división entre 2 es 0\n",
    "    print (f'{valor} es un número PAR')\n",
    "if valor%2!=0: # comprueba si el resto de la división entre 2 NO es 0\n",
    "    print (f'{valor} es un número IMPAR')"
   ]
  },
  {
   "cell_type": "markdown",
   "metadata": {
    "slideshow": {
     "slide_type": "slide"
    }
   },
   "source": [
    "## Instrucciones de selección: *if...else*"
   ]
  },
  {
   "cell_type": "markdown",
   "metadata": {},
   "source": [
    "```python\n",
    "if condición:\n",
    "    # Si condición==True, se ejecutan las instrucciones_T \n",
    "    instrucción_T0\n",
    "    instrucción_T1\n",
    "    ...\n",
    "    instrucción_Tn\n",
    "else:\n",
    "    # Si condición==False, se ejecutan las instrucciones_F \n",
    "    instrucción_F0\n",
    "    instrucción_F1\n",
    "    ...\n",
    "    instrucción_Fn\n",
    "```"
   ]
  },
  {
   "cell_type": "code",
   "execution_count": 25,
   "metadata": {
    "slideshow": {
     "slide_type": "slide"
    }
   },
   "outputs": [
    {
     "name": "stdin",
     "output_type": "stream",
     "text": [
      "Numerador? 4\n",
      "Denominador? 2.1\n"
     ]
    },
    {
     "name": "stdout",
     "output_type": "stream",
     "text": [
      "4.0/2.1=1.90\n"
     ]
    }
   ],
   "source": [
    "'''División de números reales'''\n",
    "\n",
    "num=float(input('Numerador?'))\n",
    "den=float(input('Denominador?'))\n",
    "\n",
    "if den!=0:\n",
    "    resultado=num/den\n",
    "    print (f'{num}/{den}={resultado:.2f}')\n",
    "else:\n",
    "    print ('Error de división: El denominador es 0')"
   ]
  },
  {
   "cell_type": "code",
   "execution_count": 26,
   "metadata": {
    "slideshow": {
     "slide_type": "slide"
    }
   },
   "outputs": [
    {
     "name": "stdin",
     "output_type": "stream",
     "text": [
      "Numerador? 2+1.5j\n",
      "Denominador? 1-j\n"
     ]
    },
    {
     "name": "stdout",
     "output_type": "stream",
     "text": [
      "(2+1.5j)/(1-1j)=(0.25+1.75j)\n"
     ]
    }
   ],
   "source": [
    "'''División de números complejos'''\n",
    "num=complex(input('Numerador?'))\n",
    "den=complex(input('Denominador?'))\n",
    "\n",
    "if den!=0:\n",
    "    resultado=num/den\n",
    "    print (f'{num}/{den}={resultado}')\n",
    "else:\n",
    "    print ('Error de división: El denominador es 0')"
   ]
  },
  {
   "cell_type": "code",
   "execution_count": 27,
   "metadata": {
    "slideshow": {
     "slide_type": "slide"
    }
   },
   "outputs": [
    {
     "name": "stdin",
     "output_type": "stream",
     "text": [
      "Cuántos años tienes? 17\n"
     ]
    },
    {
     "name": "stdout",
     "output_type": "stream",
     "text": [
      "Tu derecho a votar es False\n"
     ]
    }
   ],
   "source": [
    "'''Comprobación del derecho a voto en España'''\n",
    "\n",
    "edad=int(input('Cuántos años tienes?'))\n",
    "\n",
    "if edad>=18:\n",
    "    derecho_Voto=True\n",
    "else:\n",
    "    derecho_Voto=False\n",
    "\n",
    "print(f'Tu derecho a votar es {derecho_Voto}')"
   ]
  },
  {
   "cell_type": "code",
   "execution_count": 28,
   "metadata": {
    "slideshow": {
     "slide_type": "fragment"
    }
   },
   "outputs": [
    {
     "name": "stdout",
     "output_type": "stream",
     "text": [
      "Escribe los valores de los coeficientes de la ecuación ax+b=0\n"
     ]
    },
    {
     "name": "stdin",
     "output_type": "stream",
     "text": [
      "a? -3\n",
      "b? 2\n"
     ]
    },
    {
     "name": "stdout",
     "output_type": "stream",
     "text": [
      "La solución de -3.0*x+2.0=0 es x=0.667\n"
     ]
    }
   ],
   "source": [
    "'''Resolución ecuación de primer grado ax+b=0'''\n",
    "\n",
    "print('Escribe los valores de los coeficientes de la ecuación ax+b=0')\n",
    "a=float(input('a?'))\n",
    "b=float(input('b?'))\n",
    "\n",
    "if a!=0:\n",
    "    sol=-b/a\n",
    "    print (f'La solución de {a}*x{b:+}=0 es x={sol:.3}')\n",
    "else:\n",
    "    print (f'{a}*x{b:+}=0 no es una ecuación')"
   ]
  },
  {
   "cell_type": "code",
   "execution_count": 29,
   "metadata": {
    "slideshow": {
     "slide_type": "slide"
    }
   },
   "outputs": [
    {
     "name": "stdout",
     "output_type": "stream",
     "text": [
      "Escribe los valores de los coeficientes de la ecuación ax^2+bx+c=0\n"
     ]
    },
    {
     "name": "stdin",
     "output_type": "stream",
     "text": [
      "a? 1\n",
      "b? 4\n",
      "c? 0.1\n"
     ]
    },
    {
     "name": "stdout",
     "output_type": "stream",
     "text": [
      "Soluciones ecuación 2o grado: x0=-0.025; x1=-4.0\n"
     ]
    }
   ],
   "source": [
    "'''Resolución ecuación de segundo grado ax^2+bx+c=0'''\n",
    "''' x0=(-b+sqrt(b^2-4ac))/(2a)'''\n",
    "''' x1=(-b-sqrt(b^2-4ac))/(2a)'''\n",
    "\n",
    "from math import sqrt   #importar la función raíz cuadrada\n",
    "\n",
    "print('Escribe los valores de los coeficientes de la ecuación ax^2+bx+c=0')\n",
    "a=float(input('a?'))\n",
    "b=float(input('b?'))\n",
    "c=float(input('c?'))\n",
    "\n",
    "if a!=0:\n",
    "    x0=(-b+(sqrt(b**2-4*a*c)))/(2*a)\n",
    "    x1=(-b-(sqrt(b**2-4*a*c)))/(2*a)\n",
    "    print (f'Soluciones ecuación 2o grado: x0={x0:.2}; x1={x1:.2}')\n",
    "else:\n",
    "    if b!=0:\n",
    "        sol=-c/b\n",
    "        print (f'Solución ecuación 1er grado: x={sol:.2}')\n",
    "    else:\n",
    "        print ('Los coeficientes no corresponden a una ecuación')"
   ]
  },
  {
   "cell_type": "markdown",
   "metadata": {
    "slideshow": {
     "slide_type": "fragment"
    }
   },
   "source": [
    "Nota: Comprueba que al resolver $x^2+2x+3=0$ se genera un error ¿Por qué? (*soluciones complejas*)"
   ]
  },
  {
   "cell_type": "code",
   "execution_count": 31,
   "metadata": {
    "slideshow": {
     "slide_type": "slide"
    }
   },
   "outputs": [
    {
     "name": "stdout",
     "output_type": "stream",
     "text": [
      "Escribe los valores de los coeficientes de la ecuación ax^2+bx+c=0\n"
     ]
    },
    {
     "name": "stdin",
     "output_type": "stream",
     "text": [
      "a? 1\n",
      "b? -2\n",
      "c? 1\n"
     ]
    },
    {
     "name": "stdout",
     "output_type": "stream",
     "text": [
      "Soluciones ecuación 2o grado: x0=x1=1.0\n"
     ]
    }
   ],
   "source": [
    "# '''Resolución ecuación de segundo grado ax^2+bx+c=0'''\n",
    "'''(versión mejorada)'''\n",
    "''' x0=(-b+sqrt(b^2-4ac))/(2a)'''\n",
    "''' x1=(-b-sqrt(b^2-4ac))/(2a)'''\n",
    "\n",
    "from math import sqrt   #importar la función raíz cuadrada\n",
    "\n",
    "print('Escribe los valores de los coeficientes de la ecuación ax^2+bx+c=0')\n",
    "a=float(input('a?'))\n",
    "b=float(input('b?'))\n",
    "c=float(input('c?'))\n",
    "\n",
    "if a!=0:\n",
    "    if b**2-4*a*c>=0:\n",
    "        x0=(-b+(sqrt(b**2-4*a*c)))/(2*a)\n",
    "        x1=(-b-(sqrt(b**2-4*a*c)))/(2*a)\n",
    "        if (x0!=x1):\n",
    "            print (f'Soluciones ecuación 2o grado: x0={x0:.2}; x1={x1:.2}')\n",
    "        else:\n",
    "            print (f'Soluciones ecuación 2o grado: x0=x1={x0:.2}')\n",
    "    else:\n",
    "        print ('Las soluciones de la ecuación son valores complejos')\n",
    "else:\n",
    "    if b!=0:\n",
    "        sol=-c/b\n",
    "        print (f'Solución ecuación 1er grado: x={sol:.2}')\n",
    "    else:\n",
    "        print ('Los coeficientes no corresponden a una ecuación')"
   ]
  },
  {
   "cell_type": "markdown",
   "metadata": {
    "slideshow": {
     "slide_type": "slide"
    }
   },
   "source": [
    "## Ejemplo: Calcular el mayor de 3 valores "
   ]
  },
  {
   "cell_type": "code",
   "execution_count": 32,
   "metadata": {},
   "outputs": [
    {
     "name": "stdin",
     "output_type": "stream",
     "text": [
      "a? 2\n",
      "b? 3\n",
      "c? -1\n"
     ]
    },
    {
     "name": "stdout",
     "output_type": "stream",
     "text": [
      "El valor más alto es 3.0\n"
     ]
    }
   ],
   "source": [
    "'''Obtener el mayor de tres valores'''\n",
    "a=float(input('a?'))\n",
    "b=float(input('b?'))\n",
    "c=float(input('c?'))\n",
    "\n",
    "if a>b:\n",
    "    if a>c:\n",
    "        mayor=a\n",
    "    else:\n",
    "        mayor=c\n",
    "else:\n",
    "    if b>c:\n",
    "        mayor=b\n",
    "    else:\n",
    "        mayor=c\n",
    "print (f'El valor más alto es {mayor}')"
   ]
  },
  {
   "cell_type": "code",
   "execution_count": 33,
   "metadata": {
    "slideshow": {
     "slide_type": "slide"
    }
   },
   "outputs": [
    {
     "name": "stdin",
     "output_type": "stream",
     "text": [
      "a? 4\n",
      "b? 3\n",
      "c? 5\n"
     ]
    },
    {
     "name": "stdout",
     "output_type": "stream",
     "text": [
      "El valor más alto es 5.0\n"
     ]
    }
   ],
   "source": [
    "'''Obtener el mayor de tres valores (alternativa)'''\n",
    "a=float(input('a?'))\n",
    "b=float(input('b?'))\n",
    "c=float(input('c?'))\n",
    "\n",
    "if a>b and a>c:\n",
    "    mayor=a\n",
    "else:\n",
    "    if b>c:\n",
    "        mayor=b\n",
    "    else:\n",
    "        mayor=c\n",
    "print (f'El valor más alto es {mayor}')"
   ]
  },
  {
   "cell_type": "code",
   "execution_count": 34,
   "metadata": {
    "slideshow": {
     "slide_type": "slide"
    }
   },
   "outputs": [
    {
     "name": "stdin",
     "output_type": "stream",
     "text": [
      "a? 3\n",
      "b? 4\n",
      "c? 2\n"
     ]
    },
    {
     "name": "stdout",
     "output_type": "stream",
     "text": [
      "El valor más alto es 4.0\n"
     ]
    }
   ],
   "source": [
    "'''Obtener el mayor de tres valores (alternativa 2)'''\n",
    "a=float(input('a?'))\n",
    "b=float(input('b?'))\n",
    "c=float(input('c?'))\n",
    "\n",
    "mayor=a\n",
    "if b>mayor:\n",
    "    mayor=b\n",
    "if c>mayor:\n",
    "    mayor=c\n",
    "print (f'El valor más alto es {mayor}')    "
   ]
  },
  {
   "cell_type": "markdown",
   "metadata": {
    "slideshow": {
     "slide_type": "slide"
    }
   },
   "source": [
    "## Ejemplo: Programa con menú de opciones"
   ]
  },
  {
   "cell_type": "code",
   "execution_count": 35,
   "metadata": {
    "slideshow": {
     "slide_type": "fragment"
    }
   },
   "outputs": [
    {
     "name": "stdin",
     "output_type": "stream",
     "text": [
      "Escribe una frase: Esta es mi frase\n"
     ]
    }
   ],
   "source": [
    "cadena=input('Escribe una frase:')"
   ]
  },
  {
   "cell_type": "code",
   "execution_count": 36,
   "metadata": {
    "slideshow": {
     "slide_type": "fragment"
    }
   },
   "outputs": [],
   "source": [
    "titulo='MENU DE OPERACIONES POSIBLES'\n",
    "num_letras_titulo=len(titulo) # Calcula la longitud de la cadena titulo"
   ]
  },
  {
   "cell_type": "code",
   "execution_count": 37,
   "metadata": {
    "slideshow": {
     "slide_type": "fragment"
    }
   },
   "outputs": [
    {
     "name": "stdout",
     "output_type": "stream",
     "text": [
      "MENU DE OPERACIONES POSIBLES\n",
      "============================\n",
      "a. Convertir a Mayúsculas\n",
      "b. Convertir a minúsculas\n",
      "c. Convertir a tipo Título\n",
      "Resto de opciones: contar número de letras de la frase\n"
     ]
    }
   ],
   "source": [
    "print (titulo)\n",
    "print ('='*num_letras_titulo)\n",
    "print ('a. Convertir a Mayúsculas')\n",
    "print ('b. Convertir a minúsculas')\n",
    "print ('c. Convertir a tipo Título')\n",
    "print ('Resto de opciones: contar número de letras de la frase')"
   ]
  },
  {
   "cell_type": "code",
   "execution_count": 38,
   "metadata": {
    "slideshow": {
     "slide_type": "slide"
    }
   },
   "outputs": [
    {
     "name": "stdin",
     "output_type": "stream",
     "text": [
      "Elija su opción: c\n"
     ]
    },
    {
     "name": "stdout",
     "output_type": "stream",
     "text": [
      "Esta Es Mi Frase\n"
     ]
    }
   ],
   "source": [
    "operacion=input('Elija su opción:')\n",
    "\n",
    "if operacion=='a':\n",
    "    print (cadena.upper())\n",
    "else:\n",
    "    if operacion=='b':\n",
    "        print(cadena.lower())\n",
    "    else:\n",
    "        if operacion=='c':\n",
    "              print(cadena.title())\n",
    "        else:\n",
    "              print(f'Tu frase tiene {len(cadena)} caracteres')"
   ]
  },
  {
   "cell_type": "markdown",
   "metadata": {
    "slideshow": {
     "slide_type": "slide"
    }
   },
   "source": [
    "## Instrucciones de selección: escalera *elif*"
   ]
  },
  {
   "cell_type": "markdown",
   "metadata": {},
   "source": [
    "<div align=\"center\"> \n",
    "<img src=\"./figuras_Python_2/elif_ladder.png\" width=\"700\" />\n",
    "</div> "
   ]
  },
  {
   "cell_type": "markdown",
   "metadata": {
    "slideshow": {
     "slide_type": "slide"
    }
   },
   "source": [
    "## Ejemplo: gestión de opciones de menú utilizando la escalera *elif*"
   ]
  },
  {
   "cell_type": "code",
   "execution_count": 39,
   "metadata": {},
   "outputs": [
    {
     "name": "stdin",
     "output_type": "stream",
     "text": [
      "Elija su opción: b\n"
     ]
    },
    {
     "name": "stdout",
     "output_type": "stream",
     "text": [
      "esta es mi frase\n"
     ]
    }
   ],
   "source": [
    "operacion=input('Elija su opción:')\n",
    "\n",
    "if operacion=='a':\n",
    "    print (cadena.upper())\n",
    "elif operacion=='b':\n",
    "    print(cadena.lower())\n",
    "elif operacion=='c':\n",
    "    print(cadena.title())\n",
    "else:\n",
    "    print(f'Tu frase tiene {len(cadena)} caracteres')"
   ]
  },
  {
   "cell_type": "markdown",
   "metadata": {
    "slideshow": {
     "slide_type": "slide"
    }
   },
   "source": [
    "## 2.5. Estructuras de repetición: *while*"
   ]
  },
  {
   "cell_type": "markdown",
   "metadata": {},
   "source": [
    "```python\n",
    "while condición:\n",
    "    # Si condición es True, se ejecutan las instrucciones T\n",
    "    instruccion_T0\n",
    "    instrucción_T1\n",
    "    ...\n",
    "    instrucción_Tn\n",
    "```\n",
    "\n",
    "* Si condición es False, entonces no se ejecutan las instrucciones T (0 iteraciones)\n",
    "* Para que el proceso iterativo finalice, el valor de condición ha de cambiar a False mientras se ejecutan las instrucciones T"
   ]
  },
  {
   "cell_type": "code",
   "execution_count": 40,
   "metadata": {
    "slideshow": {
     "slide_type": "fragment"
    }
   },
   "outputs": [
    {
     "name": "stdout",
     "output_type": "stream",
     "text": [
      "0::1::2::3::4::"
     ]
    }
   ],
   "source": [
    "i=0\n",
    "while i<5:\n",
    "    print (i,end='::')\n",
    "    i+=1"
   ]
  },
  {
   "cell_type": "markdown",
   "metadata": {
    "slideshow": {
     "slide_type": "slide"
    }
   },
   "source": [
    "## Control por contador vs control por centinela\n",
    "\n",
    "**Control por contador**:\n",
    "* Una variable (contador) se encarga de contar el número de iteraciones\n",
    "* Se utiliza cuando el número de repeticiones es conocido\n",
    "\n",
    "**Control por centinela**:\n",
    "* El proceso iterativo finaliza cuando una variable (centinela) toma el valor False\n",
    "* Se utiliza cuando el número de repeticiones es desconocido"
   ]
  },
  {
   "cell_type": "markdown",
   "metadata": {
    "slideshow": {
     "slide_type": "slide"
    }
   },
   "source": [
    "## Ejemplo de control por contador"
   ]
  },
  {
   "cell_type": "markdown",
   "metadata": {},
   "source": [
    "**Tabla de multiplicar (5x)**"
   ]
  },
  {
   "cell_type": "code",
   "execution_count": 41,
   "metadata": {},
   "outputs": [
    {
     "name": "stdout",
     "output_type": "stream",
     "text": [
      "5 * 1 = 5\n",
      "5 * 2 = 10\n",
      "5 * 3 = 15\n",
      "5 * 4 = 20\n",
      "5 * 5 = 25\n",
      "5 * 6 = 30\n",
      "5 * 7 = 35\n",
      "5 * 8 = 40\n",
      "5 * 9 = 45\n",
      "5 * 10 = 50\n"
     ]
    }
   ],
   "source": [
    "j=1 # variable contador\n",
    "while j<=10:\n",
    "    print (f'5 * {j} = {5*j}')\n",
    "    j+=1 "
   ]
  },
  {
   "cell_type": "markdown",
   "metadata": {
    "slideshow": {
     "slide_type": "slide"
    }
   },
   "source": [
    "## Ejemplo de control por centinela"
   ]
  },
  {
   "cell_type": "markdown",
   "metadata": {},
   "source": [
    "**Bucle con número de repeticiones decidido por el usuario**"
   ]
  },
  {
   "cell_type": "code",
   "execution_count": 42,
   "metadata": {},
   "outputs": [
    {
     "name": "stdin",
     "output_type": "stream",
     "text": [
      "Escribe 0 para finalizar:  3\n",
      "¿No quieres que finalice aún? (0:salir) 2\n",
      "¿No quieres que finalice aún? (0:salir) 0\n"
     ]
    },
    {
     "name": "stdout",
     "output_type": "stream",
     "text": [
      "¡Por fin he salido del bucle!\n"
     ]
    }
   ],
   "source": [
    "n=int(input('Escribe 0 para finalizar: '))\n",
    "\n",
    "while n!=0:  # n es la variable centinela\n",
    "    n=int(input('¿No quieres que finalice aún? (0:salir)')) \n",
    "\n",
    "print ('¡Por fin he salido del bucle!')\n",
    "    "
   ]
  },
  {
   "cell_type": "markdown",
   "metadata": {
    "slideshow": {
     "slide_type": "slide"
    }
   },
   "source": [
    "**¿Qué problema tiene el siguiente programa?**"
   ]
  },
  {
   "cell_type": "markdown",
   "metadata": {},
   "source": [
    "```python\n",
    "letra=input('Pulsa [C] para continuar:')\n",
    "\n",
    "while letra!='C' or letra!='c': #letra es la variable centinela\n",
    "    print ('¡INCORRECTO!')\n",
    "    letra=input('Pulsa [C] para continuar:')\n",
    "\n",
    "print ('¡Muchas gracias!')\n",
    "```"
   ]
  },
  {
   "cell_type": "markdown",
   "metadata": {
    "slideshow": {
     "slide_type": "fragment"
    }
   },
   "source": [
    "Solución: Hay un **bucle infinito**. La comparación debe hacerse con `and`"
   ]
  },
  {
   "cell_type": "code",
   "execution_count": 43,
   "metadata": {
    "slideshow": {
     "slide_type": "fragment"
    }
   },
   "outputs": [
    {
     "name": "stdin",
     "output_type": "stream",
     "text": [
      "Pulsa [C] para continuar: s\n"
     ]
    },
    {
     "name": "stdout",
     "output_type": "stream",
     "text": [
      "¡INCORRECTO!\n"
     ]
    },
    {
     "name": "stdin",
     "output_type": "stream",
     "text": [
      "Pulsa [C] para continuar: add\n"
     ]
    },
    {
     "name": "stdout",
     "output_type": "stream",
     "text": [
      "¡INCORRECTO!\n"
     ]
    },
    {
     "name": "stdin",
     "output_type": "stream",
     "text": [
      "Pulsa [C] para continuar: c\n"
     ]
    },
    {
     "name": "stdout",
     "output_type": "stream",
     "text": [
      "¡Muchas gracias!\n"
     ]
    }
   ],
   "source": [
    "letra=input('Pulsa [C] para continuar:')\n",
    "\n",
    "while letra!='C' and letra!='c': #letra es la variable centinela\n",
    "    print ('¡INCORRECTO!')\n",
    "    letra=input('Pulsa [C] para continuar:')\n",
    "\n",
    "print ('¡Muchas gracias!')"
   ]
  },
  {
   "cell_type": "markdown",
   "metadata": {
    "slideshow": {
     "slide_type": "slide"
    }
   },
   "source": [
    "## Ejemplo: cálculo de un sumatorio"
   ]
  },
  {
   "cell_type": "markdown",
   "metadata": {},
   "source": [
    "$$\\sum_{i=0}^{i=100}(i+1)^2$$\n",
    "\n",
    "El número de repeticiones es conocido $\\rightarrow$ control por contador"
   ]
  },
  {
   "cell_type": "code",
   "execution_count": 44,
   "metadata": {
    "slideshow": {
     "slide_type": "fragment"
    }
   },
   "outputs": [
    {
     "name": "stdout",
     "output_type": "stream",
     "text": [
      "elemento(0)=1\t suma(0)=1\n",
      "elemento(1)=4\t suma(1)=5\n",
      "elemento(2)=9\t suma(2)=14\n",
      "elemento(3)=16\t suma(3)=30\n",
      "elemento(4)=25\t suma(4)=55\n",
      "elemento(5)=36\t suma(5)=91\n",
      "elemento(6)=49\t suma(6)=140\n",
      "elemento(7)=64\t suma(7)=204\n",
      "elemento(8)=81\t suma(8)=285\n",
      "elemento(9)=100\t suma(9)=385\n",
      "elemento(10)=121\t suma(10)=506\n",
      "elemento(11)=144\t suma(11)=650\n",
      "elemento(12)=169\t suma(12)=819\n",
      "elemento(13)=196\t suma(13)=1015\n",
      "elemento(14)=225\t suma(14)=1240\n",
      "elemento(15)=256\t suma(15)=1496\n",
      "elemento(16)=289\t suma(16)=1785\n",
      "elemento(17)=324\t suma(17)=2109\n",
      "elemento(18)=361\t suma(18)=2470\n",
      "elemento(19)=400\t suma(19)=2870\n",
      "elemento(20)=441\t suma(20)=3311\n",
      "elemento(21)=484\t suma(21)=3795\n",
      "elemento(22)=529\t suma(22)=4324\n",
      "elemento(23)=576\t suma(23)=4900\n",
      "elemento(24)=625\t suma(24)=5525\n",
      "elemento(25)=676\t suma(25)=6201\n",
      "elemento(26)=729\t suma(26)=6930\n",
      "elemento(27)=784\t suma(27)=7714\n",
      "elemento(28)=841\t suma(28)=8555\n",
      "elemento(29)=900\t suma(29)=9455\n",
      "elemento(30)=961\t suma(30)=10416\n",
      "elemento(31)=1024\t suma(31)=11440\n",
      "elemento(32)=1089\t suma(32)=12529\n",
      "elemento(33)=1156\t suma(33)=13685\n",
      "elemento(34)=1225\t suma(34)=14910\n",
      "elemento(35)=1296\t suma(35)=16206\n",
      "elemento(36)=1369\t suma(36)=17575\n",
      "elemento(37)=1444\t suma(37)=19019\n",
      "elemento(38)=1521\t suma(38)=20540\n",
      "elemento(39)=1600\t suma(39)=22140\n",
      "elemento(40)=1681\t suma(40)=23821\n",
      "elemento(41)=1764\t suma(41)=25585\n",
      "elemento(42)=1849\t suma(42)=27434\n",
      "elemento(43)=1936\t suma(43)=29370\n",
      "elemento(44)=2025\t suma(44)=31395\n",
      "elemento(45)=2116\t suma(45)=33511\n",
      "elemento(46)=2209\t suma(46)=35720\n",
      "elemento(47)=2304\t suma(47)=38024\n",
      "elemento(48)=2401\t suma(48)=40425\n",
      "elemento(49)=2500\t suma(49)=42925\n",
      "elemento(50)=2601\t suma(50)=45526\n",
      "elemento(51)=2704\t suma(51)=48230\n",
      "elemento(52)=2809\t suma(52)=51039\n",
      "elemento(53)=2916\t suma(53)=53955\n",
      "elemento(54)=3025\t suma(54)=56980\n",
      "elemento(55)=3136\t suma(55)=60116\n",
      "elemento(56)=3249\t suma(56)=63365\n",
      "elemento(57)=3364\t suma(57)=66729\n",
      "elemento(58)=3481\t suma(58)=70210\n",
      "elemento(59)=3600\t suma(59)=73810\n",
      "elemento(60)=3721\t suma(60)=77531\n",
      "elemento(61)=3844\t suma(61)=81375\n",
      "elemento(62)=3969\t suma(62)=85344\n",
      "elemento(63)=4096\t suma(63)=89440\n",
      "elemento(64)=4225\t suma(64)=93665\n",
      "elemento(65)=4356\t suma(65)=98021\n",
      "elemento(66)=4489\t suma(66)=102510\n",
      "elemento(67)=4624\t suma(67)=107134\n",
      "elemento(68)=4761\t suma(68)=111895\n",
      "elemento(69)=4900\t suma(69)=116795\n",
      "elemento(70)=5041\t suma(70)=121836\n",
      "elemento(71)=5184\t suma(71)=127020\n",
      "elemento(72)=5329\t suma(72)=132349\n",
      "elemento(73)=5476\t suma(73)=137825\n",
      "elemento(74)=5625\t suma(74)=143450\n",
      "elemento(75)=5776\t suma(75)=149226\n",
      "elemento(76)=5929\t suma(76)=155155\n",
      "elemento(77)=6084\t suma(77)=161239\n",
      "elemento(78)=6241\t suma(78)=167480\n",
      "elemento(79)=6400\t suma(79)=173880\n",
      "elemento(80)=6561\t suma(80)=180441\n",
      "elemento(81)=6724\t suma(81)=187165\n",
      "elemento(82)=6889\t suma(82)=194054\n",
      "elemento(83)=7056\t suma(83)=201110\n",
      "elemento(84)=7225\t suma(84)=208335\n",
      "elemento(85)=7396\t suma(85)=215731\n",
      "elemento(86)=7569\t suma(86)=223300\n",
      "elemento(87)=7744\t suma(87)=231044\n",
      "elemento(88)=7921\t suma(88)=238965\n",
      "elemento(89)=8100\t suma(89)=247065\n",
      "elemento(90)=8281\t suma(90)=255346\n",
      "elemento(91)=8464\t suma(91)=263810\n",
      "elemento(92)=8649\t suma(92)=272459\n",
      "elemento(93)=8836\t suma(93)=281295\n",
      "elemento(94)=9025\t suma(94)=290320\n",
      "elemento(95)=9216\t suma(95)=299536\n",
      "elemento(96)=9409\t suma(96)=308945\n",
      "elemento(97)=9604\t suma(97)=318549\n",
      "elemento(98)=9801\t suma(98)=328350\n",
      "elemento(99)=10000\t suma(99)=338350\n",
      "elemento(100)=10201\t suma(100)=348551\n",
      "Suma total=348551\n"
     ]
    }
   ],
   "source": [
    "i=0 # valor inicial del contador\n",
    "suma=0 # Valor inicial de la suma: elemento neutro de la suma\n",
    "\n",
    "while i<=100:\n",
    "    elemento_i=(i+1)**2\n",
    "    suma+=elemento_i # actualización de la suma parcial\n",
    "    print (f'elemento({i})={elemento_i}\\t suma({i})={suma}')\n",
    "    i+=1 # actualización del contador\n",
    "print (f'Suma total={suma}')"
   ]
  },
  {
   "cell_type": "markdown",
   "metadata": {
    "slideshow": {
     "slide_type": "slide"
    }
   },
   "source": [
    "## Ejemplo: cálculo de $n!$ (solución iterativa)"
   ]
  },
  {
   "cell_type": "markdown",
   "metadata": {},
   "source": [
    "$$n!=\\prod_{j=1}^{j=n}j$$\n",
    "\n",
    "El número de repeticiones es conocido $\\rightarrow$ control por contador"
   ]
  },
  {
   "cell_type": "code",
   "execution_count": 45,
   "metadata": {
    "slideshow": {
     "slide_type": "fragment"
    }
   },
   "outputs": [
    {
     "name": "stdin",
     "output_type": "stream",
     "text": [
      "Introduzca un número entero mayor que 0: 5\n"
     ]
    },
    {
     "name": "stdout",
     "output_type": "stream",
     "text": [
      "5 * 4 * 3 * 2 * 1 = 120\n"
     ]
    }
   ],
   "source": [
    "num=int(input('Introduzca un número entero mayor que 0:')) # Valor inicial del contador\n",
    "prod=1 # Valor inicial del resultado: elemento neutro del producto\n",
    "\n",
    "j=num\n",
    "while j>=1:\n",
    "    prod*=j\n",
    "    print (f'{j}', end=' ')\n",
    "    if j!=1:\n",
    "        print ('*', end=' ')\n",
    "    j-=1\n",
    "\n",
    "print (f'= {prod}')"
   ]
  },
  {
   "cell_type": "markdown",
   "metadata": {
    "slideshow": {
     "slide_type": "fragment"
    }
   },
   "source": [
    "**¿Qué ocurre cuando se calcula el valor $0!$?**"
   ]
  },
  {
   "cell_type": "markdown",
   "metadata": {
    "slideshow": {
     "slide_type": "slide"
    }
   },
   "source": [
    "## Cálculo de $n!$ con control del parámetro solicitado por teclado"
   ]
  },
  {
   "cell_type": "code",
   "execution_count": 46,
   "metadata": {
    "slideshow": {
     "slide_type": "fragment"
    }
   },
   "outputs": [
    {
     "name": "stdin",
     "output_type": "stream",
     "text": [
      "Introduzca un número entero mayor que 0: 0\n",
      "Introduzca un número entero mayor que 0: -2\n",
      "Introduzca un número entero mayor que 0: 3\n"
     ]
    },
    {
     "name": "stdout",
     "output_type": "stream",
     "text": [
      "3 * 2 * 1 = 6\n"
     ]
    }
   ],
   "source": [
    "num=int(input('Introduzca un número entero mayor que 0:')) # Valor inicial del contador\n",
    "\n",
    "# Mientras que num sea menor o igual que 0, se vuelve a pedir su valor:\n",
    "while num<=0:\n",
    "    num=int(input('Introduzca un número entero mayor que 0:'))\n",
    "\n",
    "prod=1 # Valor inicial del resultado: elemento neutro del producto\n",
    "\n",
    "j=num\n",
    "while j>=1:\n",
    "    prod*=j\n",
    "    print (f'{j}', end=' ')\n",
    "    if j!=1:\n",
    "        print ('*', end=' ')\n",
    "    j-=1\n",
    "\n",
    "print (f'= {prod}')"
   ]
  },
  {
   "cell_type": "markdown",
   "metadata": {
    "slideshow": {
     "slide_type": "slide"
    }
   },
   "source": [
    "## Ejemplo: Elección de una opción de menú\n",
    "\n",
    "Condición de funcionamiento: El menú se vuelve a mostrar si no se elije una opción válida"
   ]
  },
  {
   "cell_type": "code",
   "execution_count": 47,
   "metadata": {
    "slideshow": {
     "slide_type": "fragment"
    }
   },
   "outputs": [],
   "source": [
    "titulo='MENÚS DISPONIBLES'\n",
    "longitud_titulo=len(titulo)\n",
    "plato_0='a. Burger Especial'\n",
    "plato_1='b. Burguer Extra'\n",
    "plato_2='c. Burguer de Pollo'\n",
    "plato_3='d. Ensalada'\n",
    "plato_4='e. Croquetas de Jamón'\n",
    "plato_5='f. Especial de Brócoli'"
   ]
  },
  {
   "cell_type": "code",
   "execution_count": 48,
   "metadata": {
    "slideshow": {
     "slide_type": "fragment"
    }
   },
   "outputs": [
    {
     "name": "stdout",
     "output_type": "stream",
     "text": [
      "MENÚS DISPONIBLES\n",
      "=================\n",
      "a. Burger Especial\n",
      "b. Burguer Extra\n",
      "c. Burguer de Pollo\n",
      "d. Ensalada\n",
      "e. Croquetas de Jamón\n",
      "f. Especial de Brócoli\n"
     ]
    },
    {
     "name": "stdin",
     "output_type": "stream",
     "text": [
      "Seleccione su menú: 0\n"
     ]
    },
    {
     "name": "stdout",
     "output_type": "stream",
     "text": [
      "MENÚS DISPONIBLES\n",
      "=================\n",
      "a. Burger Especial\n",
      "b. Burguer Extra\n",
      "c. Burguer de Pollo\n",
      "d. Ensalada\n",
      "e. Croquetas de Jamón\n",
      "f. Especial de Brócoli\n"
     ]
    },
    {
     "name": "stdin",
     "output_type": "stream",
     "text": [
      "Seleccione su menú: f\n"
     ]
    },
    {
     "name": "stdout",
     "output_type": "stream",
     "text": [
      "Ha elegido el menú f. ¡Muchas gracias!\n"
     ]
    }
   ],
   "source": [
    "opcion='' # Inicialmente no hay ninguna opción seleccionada\n",
    "\n",
    "while opcion!='a' and opcion!='b' and opcion!='c' and \\\n",
    "                      opcion!='d' and opcion!='e' and opcion!='f':\n",
    "    print (titulo)\n",
    "    print ('='*longitud_titulo)\n",
    "    print (plato_0)\n",
    "    print (plato_1)\n",
    "    print (plato_2)\n",
    "    print (plato_3)\n",
    "    print (plato_4)\n",
    "    print (plato_5)\n",
    "    opcion=input('Seleccione su menú:')\n",
    "    \n",
    "print (f'Ha elegido el menú {opcion}. ¡Muchas gracias!')"
   ]
  },
  {
   "cell_type": "markdown",
   "metadata": {
    "slideshow": {
     "slide_type": "slide"
    }
   },
   "source": [
    "**Nota: Las estructuras de datos de tipo *lista* permiten simplificar la comprobación de las opciones válidas:**\n",
    "\n",
    "```python\n",
    "lista_opciones=['a','b','c','d','e','f']\n",
    "```"
   ]
  },
  {
   "cell_type": "code",
   "execution_count": 49,
   "metadata": {
    "slideshow": {
     "slide_type": "fragment"
    }
   },
   "outputs": [
    {
     "name": "stdout",
     "output_type": "stream",
     "text": [
      "MENÚS DISPONIBLES\n",
      "=================\n",
      "a. Burger Especial\n",
      "b. Burguer Extra\n",
      "c. Burguer de Pollo\n",
      "d. Ensalada\n",
      "e. Croquetas de Jamón\n",
      "f. Especial de Brócoli\n"
     ]
    },
    {
     "name": "stdin",
     "output_type": "stream",
     "text": [
      "Seleccione su menú: a\n"
     ]
    },
    {
     "name": "stdout",
     "output_type": "stream",
     "text": [
      "Ha elegido el menú a. ¡Muchas gracias!\n"
     ]
    }
   ],
   "source": [
    "opcion='' # Inicialmente, no se ha elegido ninguna opción\n",
    "\n",
    "# Esta lista de opciones incluye también las letras mayúsculas:\n",
    "lista_opciones=['a','b','c','d','e','f', 'A','B','C','D','E','F']\n",
    "\n",
    "while opcion not in lista_opciones:\n",
    "    print (titulo)\n",
    "    print ('='*longitud_titulo)\n",
    "    print (plato_0)\n",
    "    print (plato_1)\n",
    "    print (plato_2)\n",
    "    print (plato_3)\n",
    "    print (plato_4)\n",
    "    print (plato_5)\n",
    "    opcion=input('Seleccione su menú:')\n",
    "    \n",
    "print (f'Ha elegido el menú {opcion.lower()}. ¡Muchas gracias!')"
   ]
  },
  {
   "cell_type": "markdown",
   "metadata": {
    "slideshow": {
     "slide_type": "slide"
    }
   },
   "source": [
    "## Ejemplo: Menú de opciones que se repite hasta que se seleccione la opción *Salir*"
   ]
  },
  {
   "cell_type": "code",
   "execution_count": 50,
   "metadata": {},
   "outputs": [
    {
     "name": "stdin",
     "output_type": "stream",
     "text": [
      "Escribe una frase: ¡pRueba Con eSTa caDENa!\n"
     ]
    }
   ],
   "source": [
    "cadena=input('Escribe una frase:')\n",
    "titulo='Qué deseas hacer con tu frase?'\n",
    "longitud_titulo=len(titulo)"
   ]
  },
  {
   "cell_type": "code",
   "execution_count": 51,
   "metadata": {
    "slideshow": {
     "slide_type": "fragment"
    }
   },
   "outputs": [
    {
     "name": "stdout",
     "output_type": "stream",
     "text": [
      "Qué deseas hacer con tu frase?\n",
      "\t 1. Escribir una frase nueva\n",
      "\t 2. Convertir a mayúsculas\n",
      "\t 3. Convertir a minúsculas\n",
      "\t 4. Convertir a tipo título\n",
      "\t 0. Terminar\n"
     ]
    },
    {
     "name": "stdin",
     "output_type": "stream",
     "text": [
      "Elige tu opción: 4\n"
     ]
    },
    {
     "name": "stdout",
     "output_type": "stream",
     "text": [
      "¡Prueba Con Esta Cadena!\n",
      "Qué deseas hacer con tu frase?\n",
      "\t 1. Escribir una frase nueva\n",
      "\t 2. Convertir a mayúsculas\n",
      "\t 3. Convertir a minúsculas\n",
      "\t 4. Convertir a tipo título\n",
      "\t 0. Terminar\n"
     ]
    },
    {
     "name": "stdin",
     "output_type": "stream",
     "text": [
      "Elige tu opción: 0\n"
     ]
    }
   ],
   "source": [
    "opcion=''\n",
    "\n",
    "while opcion!='0': # Nota: '0' porque input devuelve una cadena de texto\n",
    "    print (titulo)\n",
    "    print ('\\t 1. Escribir una frase nueva')\n",
    "    print ('\\t 2. Convertir a mayúsculas')\n",
    "    print ('\\t 3. Convertir a minúsculas')\n",
    "    print ('\\t 4. Convertir a tipo título')\n",
    "    print ('\\t 0. Terminar')\n",
    "    opcion=input('Elige tu opción:')\n",
    "    \n",
    "    if opcion=='1':\n",
    "        cadena=input('Escribe una frase:')\n",
    "    elif opcion=='2':\n",
    "        print (cadena.upper())\n",
    "    elif opcion=='3':\n",
    "        print (cadena.lower())\n",
    "    elif opcion=='4':\n",
    "        print (cadena.title())"
   ]
  },
  {
   "cell_type": "markdown",
   "metadata": {
    "slideshow": {
     "slide_type": "slide"
    }
   },
   "source": [
    "## 2.6. Estructuras de repetición: *for*"
   ]
  },
  {
   "cell_type": "markdown",
   "metadata": {},
   "source": [
    "```python \n",
    "for variable in conjunto_de_valores:\n",
    "    instrucción_0\n",
    "    instrucción_2\n",
    "    ...\n",
    "    instrucción_N\n",
    "```"
   ]
  },
  {
   "cell_type": "markdown",
   "metadata": {
    "slideshow": {
     "slide_type": "fragment"
    }
   },
   "source": [
    "Si conjunto_de_valores=[elemento_0, elemento_1,..., elemento_n]\n",
    "\n",
    "\n",
    "* **Número de iteraciones: n+1** (número de elementos de conjunto_de_valores)\n",
    "* **Valor de *variable* en cada iteración**:\n",
    "    * Iteración 0: elemento_0 (primer elemento de conjunto_de_valores)\n",
    "    * Iteración 1: elemento_1 (segundo elemento de conjunto_de_valores)     \n",
    "     $\\dots$\n",
    "    * Iteración n+1: elemento_n (último elemento del conjunto de valores)"
   ]
  },
  {
   "cell_type": "code",
   "execution_count": 52,
   "metadata": {
    "slideshow": {
     "slide_type": "fragment"
    }
   },
   "outputs": [
    {
     "name": "stdout",
     "output_type": "stream",
     "text": [
      "\t Eugene\n",
      "\t Diana\n",
      "\t Juan Carlos\n",
      "\t Conchi\n",
      "\t María Rosa\n",
      "\t Camino\n",
      "\t Petri\n",
      "\t Jesús\n"
     ]
    }
   ],
   "source": [
    "lista_profes=['Eugene','Diana','Juan Carlos','Conchi','María Rosa',\\\n",
    "              'Camino','Petri','Jesús']\n",
    "\n",
    "for nombre in lista_profes:\n",
    "    print ('\\t %s' %(nombre))"
   ]
  },
  {
   "cell_type": "markdown",
   "metadata": {
    "slideshow": {
     "slide_type": "slide"
    }
   },
   "source": [
    "**Se puede conocer el número de la iteración en curso convirtiendo una lista a un tipo de datos enumerado:**\n",
    "\n",
    "```python \n",
    "enumerate(lista)\n",
    "```"
   ]
  },
  {
   "cell_type": "code",
   "execution_count": 53,
   "metadata": {
    "slideshow": {
     "slide_type": "fragment"
    }
   },
   "outputs": [
    {
     "name": "stdout",
     "output_type": "stream",
     "text": [
      "0 -> Eugene\n",
      "1 -> Diana\n",
      "2 -> Juan Carlos\n",
      "3 -> Conchi\n",
      "4 -> María Rosa\n",
      "5 -> Camino\n",
      "6 -> Petri\n",
      "7 -> Jesús\n"
     ]
    }
   ],
   "source": [
    "for indice,nombre in enumerate(lista_profes):\n",
    "    print ('%d -> %s'%(indice,nombre))"
   ]
  },
  {
   "cell_type": "markdown",
   "metadata": {
    "slideshow": {
     "slide_type": "slide"
    }
   },
   "source": [
    "## Secuencias de números enteros\n",
    "\n",
    "**Números enteros consecutivos**:   \n",
    "\n",
    "`range(v0,v1)` Incluye a v0, pero no a v1\n",
    "\n",
    "**Números enteros con paso k**:\n",
    "\n",
    "`range(v0,v1,k)` Incluye a v0, pero no a v1\n",
    "    \n",
    "* Una secuencia es válida como conjunto de valores para un bucle de tipo for\n",
    "* Una secuencia se puede convertir a lista: ```list(secuencia)```"
   ]
  },
  {
   "cell_type": "code",
   "execution_count": 54,
   "metadata": {
    "slideshow": {
     "slide_type": "fragment"
    }
   },
   "outputs": [
    {
     "name": "stdout",
     "output_type": "stream",
     "text": [
      "[10, 11, 12, 13, 14, 15]\n"
     ]
    }
   ],
   "source": [
    "secuencia1=range(10,16)\n",
    "print(list(secuencia1))"
   ]
  },
  {
   "cell_type": "code",
   "execution_count": 55,
   "metadata": {
    "slideshow": {
     "slide_type": "fragment"
    }
   },
   "outputs": [
    {
     "name": "stdout",
     "output_type": "stream",
     "text": [
      "[1, 4, 7, 10, 13, 16, 19]\n"
     ]
    }
   ],
   "source": [
    "secuencia2=range(1,21,3)\n",
    "print(list(secuencia2))"
   ]
  },
  {
   "cell_type": "code",
   "execution_count": 56,
   "metadata": {
    "slideshow": {
     "slide_type": "fragment"
    }
   },
   "outputs": [
    {
     "name": "stdout",
     "output_type": "stream",
     "text": [
      "[20, 15, 10, 5, 0, -5, -10, -15]\n"
     ]
    }
   ],
   "source": [
    "secuencia3=range(20,-20,-5)\n",
    "print(list(secuencia3))"
   ]
  },
  {
   "cell_type": "markdown",
   "metadata": {
    "slideshow": {
     "slide_type": "slide"
    }
   },
   "source": [
    "## Ejemplo: tabla de multiplicar con bucles for"
   ]
  },
  {
   "cell_type": "code",
   "execution_count": 57,
   "metadata": {
    "slideshow": {
     "slide_type": "fragment"
    }
   },
   "outputs": [
    {
     "name": "stdin",
     "output_type": "stream",
     "text": [
      "De qué número quieres la tabla de multiplicar 5\n"
     ]
    },
    {
     "name": "stdout",
     "output_type": "stream",
     "text": [
      "5*1=5\n",
      "5*2=10\n",
      "5*3=15\n",
      "5*4=20\n",
      "5*5=25\n",
      "5*6=30\n",
      "5*7=35\n",
      "5*8=40\n",
      "5*9=45\n",
      "5*10=50\n"
     ]
    }
   ],
   "source": [
    "n=int(input('De qué número quieres la tabla de multiplicar'))\n",
    "\n",
    "for i in range(1,11): # i varía entre 1 y 10, ambos incluidos\n",
    "    s=n*i # Calcula n*i \n",
    "    print (f'{n}*{i}={s}')"
   ]
  },
  {
   "cell_type": "markdown",
   "metadata": {
    "slideshow": {
     "slide_type": "slide"
    }
   },
   "source": [
    "## 2.7. Estructuras de repetición: rotura de bucles (*break*)\n",
    "\n",
    "La instrucción `break` sale de un bucle y continúa con la ejecución del programa "
   ]
  },
  {
   "cell_type": "code",
   "execution_count": 58,
   "metadata": {
    "slideshow": {
     "slide_type": "fragment"
    }
   },
   "outputs": [
    {
     "name": "stdout",
     "output_type": "stream",
     "text": [
      "0, 1, 2, 3, 4, 5, 6, 7, 8, 9, 10, 11, 12, 13, 14, 15, 16, 17, 18, 19, 20\n",
      "FIN\n"
     ]
    }
   ],
   "source": [
    "for i in range(0,101):\n",
    "    print (i, end='')\n",
    "    if i>=20:\n",
    "        break\n",
    "    print (', ',end='')\n",
    "print ('\\nFIN')"
   ]
  },
  {
   "cell_type": "markdown",
   "metadata": {
    "slideshow": {
     "slide_type": "slide"
    }
   },
   "source": [
    "## 2.8. Anidamiento de estructuras de repetición"
   ]
  },
  {
   "cell_type": "markdown",
   "metadata": {},
   "source": [
    "```python\n",
    "for v1 in conjunto_1:\n",
    "    # v1 va tomando los valores de conjunto_1 \n",
    "    for v2 in conjunto_2:\n",
    "        # v2 va tomando los valores de conjunto_2\n",
    "```"
   ]
  },
  {
   "cell_type": "code",
   "execution_count": 59,
   "metadata": {
    "slideshow": {
     "slide_type": "fragment"
    }
   },
   "outputs": [
    {
     "name": "stdout",
     "output_type": "stream",
     "text": [
      "a0 a1 a2 a3 a4 a5 \n",
      "\n",
      "b0 b1 b2 b3 b4 b5 \n",
      "\n",
      "c0 c1 c2 c3 c4 c5 \n",
      "\n"
     ]
    }
   ],
   "source": [
    "for i in ['a','b','c']:\n",
    "    for j in [0,1,2,3,4,5]:\n",
    "        print ('%s%d'%(i,j), end=' ')\n",
    "    print ('\\n')"
   ]
  },
  {
   "cell_type": "markdown",
   "metadata": {
    "slideshow": {
     "slide_type": "slide"
    }
   },
   "source": [
    "## Ejemplo: Imprimir varias tablas de multiplicar"
   ]
  },
  {
   "cell_type": "code",
   "execution_count": 60,
   "metadata": {},
   "outputs": [
    {
     "name": "stdout",
     "output_type": "stream",
     "text": [
      "Tabla del 2\n",
      "2*1=2\n",
      "2*2=4\n",
      "2*3=6\n",
      "2*4=8\n",
      "2*5=10\n",
      "2*6=12\n",
      "2*7=14\n",
      "2*8=16\n",
      "2*9=18\n",
      "2*10=20\n",
      "Tabla del 4\n",
      "4*1=4\n",
      "4*2=8\n",
      "4*3=12\n",
      "4*4=16\n",
      "4*5=20\n",
      "4*6=24\n",
      "4*7=28\n",
      "4*8=32\n",
      "4*9=36\n",
      "4*10=40\n",
      "Tabla del 6\n",
      "6*1=6\n",
      "6*2=12\n",
      "6*3=18\n",
      "6*4=24\n",
      "6*5=30\n",
      "6*6=36\n",
      "6*7=42\n",
      "6*8=48\n",
      "6*9=54\n",
      "6*10=60\n"
     ]
    }
   ],
   "source": [
    "for i in [2,4,6]:\n",
    "    print (f'Tabla del {i}')\n",
    "    for j in range(1,11):\n",
    "        print (f'{i}*{j}={i*j}')"
   ]
  },
  {
   "cell_type": "markdown",
   "metadata": {
    "slideshow": {
     "slide_type": "slide"
    }
   },
   "source": [
    "## Tratamiento de excepciones: *try...except*"
   ]
  },
  {
   "cell_type": "markdown",
   "metadata": {},
   "source": [
    "La estructura de control `try ... except` simplifica la captura y el tratamiento de excepciones:\n",
    "\n",
    "```python\n",
    "try: # Intenta ejecutar este bloque, susceptible de generar excepciones\n",
    "    instrucción_P1\n",
    "    ...\n",
    "    instrucción_Pn\n",
    "except: # En caso de error de ejecución, ejecuta el bloque siguiente\n",
    "    instrucción_E1\n",
    "    ...\n",
    "    instrucción_E2\n",
    "```\n",
    "\n",
    "\n",
    "Se pueden capturar los diferentes tipos de excepciones que captura el sistema operativo:   \n",
    "\n",
    "* `ValueError`\n",
    "* `ZeroDivisionError`   \n",
    "..."
   ]
  },
  {
   "cell_type": "code",
   "execution_count": 61,
   "metadata": {
    "slideshow": {
     "slide_type": "slide"
    }
   },
   "outputs": [
    {
     "name": "stdin",
     "output_type": "stream",
     "text": [
      "¿Numerador? 1.111\n",
      "¿Denominador? 3.1416\n"
     ]
    },
    {
     "name": "stdout",
     "output_type": "stream",
     "text": [
      "1.111/3.1416=0.35\n"
     ]
    }
   ],
   "source": [
    "num=float(input('¿Numerador?'))\n",
    "den=float(input('¿Denominador?'))\n",
    "\n",
    "try:\n",
    "    sol=num/den\n",
    "    print (f'{num}/{den}={sol:.2}')\n",
    "except:\n",
    "    if den==0:\n",
    "           print (\"Lo siento, se trata de una división entre 0\")"
   ]
  },
  {
   "cell_type": "markdown",
   "metadata": {
    "slideshow": {
     "slide_type": "slide"
    }
   },
   "source": [
    "## Ejemplo: Ecuación de segundo grado"
   ]
  },
  {
   "cell_type": "code",
   "execution_count": 62,
   "metadata": {},
   "outputs": [
    {
     "name": "stdout",
     "output_type": "stream",
     "text": [
      "Escribe los valores de los coeficientes de la ecuación ax^2+bx+c=0\n"
     ]
    },
    {
     "name": "stdin",
     "output_type": "stream",
     "text": [
      "a? 1\n",
      "b? 2\n",
      "c? -2\n"
     ]
    },
    {
     "name": "stdout",
     "output_type": "stream",
     "text": [
      "Soluciones ecuación 2o grado: x0=0.73; x1=-2.7\n"
     ]
    }
   ],
   "source": [
    "'''Resolución ecuación de segundo grado ax^2+bx+c=0'''\n",
    "'''(versión con try...except)'''\n",
    "''' x0=(-b+sqrt(b^2-4ac))/(2a)'''\n",
    "''' x1=(-b-sqrt(b^2-4ac))/(2a)'''\n",
    "\n",
    "from math import sqrt   #importar la función raíz cuadrada\n",
    "\n",
    "print('Escribe los valores de los coeficientes de la ecuación ax^2+bx+c=0')\n",
    "a=float(input('a?'))\n",
    "b=float(input('b?'))\n",
    "c=float(input('c?'))\n",
    "\n",
    "try:\n",
    "    x0=(-b+(sqrt(b**2-4*a*c)))/(2*a)\n",
    "    x1=(-b-(sqrt(b**2-4*a*c)))/(2*a)\n",
    "    if (x0!=x1):\n",
    "        print (f'Soluciones ecuación 2o grado: x0={x0:.2}; x1={x1:.2}')\n",
    "    else:\n",
    "        print (f'Soluciones ecuación 2o grado: x0=x1={x0:.2}')\n",
    "except:\n",
    "    if a==0 and b!=0:  # Es una ecuación de primer grado\n",
    "        sol=-c/b\n",
    "        print (f'Solución ecuación 1er grado: x={sol:.2}')\n",
    "    elif b**2-4*a*c<0:\n",
    "        print ('Las soluciones de la ecuación son valores complejos')\n",
    "    else:\n",
    "        print ('Los coeficientes no corresponden a una ecuación')"
   ]
  },
  {
   "cell_type": "markdown",
   "metadata": {
    "slideshow": {
     "slide_type": "slide"
    }
   },
   "source": [
    "El programa anterior genera  excepciones diferentes cuando intenta resolver las siguientes dos ecuaciones:\n",
    "\n",
    "$4x^2+x+4=0$ $\\rightarrow$ `ValueError`\n",
    "\n",
    "$0x^2+2x+1=0$ $\\rightarrow$ `ZeroDivisionError`"
   ]
  },
  {
   "cell_type": "code",
   "execution_count": 63,
   "metadata": {
    "slideshow": {
     "slide_type": "fragment"
    }
   },
   "outputs": [
    {
     "ename": "ValueError",
     "evalue": "math domain error",
     "output_type": "error",
     "traceback": [
      "\u001b[0;31m---------------------------------------------------------------------------\u001b[0m",
      "\u001b[0;31mValueError\u001b[0m                                Traceback (most recent call last)",
      "\u001b[0;32m<ipython-input-63-884ff32ac803>\u001b[0m in \u001b[0;36m<module>\u001b[0;34m\u001b[0m\n\u001b[1;32m      1\u001b[0m \u001b[0ma\u001b[0m\u001b[0;34m=\u001b[0m\u001b[0;36m4\u001b[0m\u001b[0;34m;\u001b[0m \u001b[0mb\u001b[0m\u001b[0;34m=\u001b[0m\u001b[0;36m1\u001b[0m\u001b[0;34m;\u001b[0m \u001b[0mc\u001b[0m\u001b[0;34m=\u001b[0m\u001b[0;36m4\u001b[0m\u001b[0;34m\u001b[0m\u001b[0;34m\u001b[0m\u001b[0m\n\u001b[0;32m----> 2\u001b[0;31m \u001b[0mx0\u001b[0m\u001b[0;34m=\u001b[0m\u001b[0;34m(\u001b[0m\u001b[0;34m-\u001b[0m\u001b[0mb\u001b[0m\u001b[0;34m+\u001b[0m\u001b[0;34m(\u001b[0m\u001b[0msqrt\u001b[0m\u001b[0;34m(\u001b[0m\u001b[0mb\u001b[0m\u001b[0;34m**\u001b[0m\u001b[0;36m2\u001b[0m\u001b[0;34m-\u001b[0m\u001b[0;36m4\u001b[0m\u001b[0;34m*\u001b[0m\u001b[0ma\u001b[0m\u001b[0;34m*\u001b[0m\u001b[0mc\u001b[0m\u001b[0;34m)\u001b[0m\u001b[0;34m)\u001b[0m\u001b[0;34m)\u001b[0m\u001b[0;34m/\u001b[0m\u001b[0;34m(\u001b[0m\u001b[0;36m2\u001b[0m\u001b[0;34m*\u001b[0m\u001b[0ma\u001b[0m\u001b[0;34m)\u001b[0m\u001b[0;34m\u001b[0m\u001b[0;34m\u001b[0m\u001b[0m\n\u001b[0m",
      "\u001b[0;31mValueError\u001b[0m: math domain error"
     ]
    }
   ],
   "source": [
    "a=4; b=1; c=4\n",
    "x0=(-b+(sqrt(b**2-4*a*c)))/(2*a)"
   ]
  },
  {
   "cell_type": "code",
   "execution_count": 64,
   "metadata": {
    "slideshow": {
     "slide_type": "fragment"
    }
   },
   "outputs": [
    {
     "ename": "ZeroDivisionError",
     "evalue": "float division by zero",
     "output_type": "error",
     "traceback": [
      "\u001b[0;31m---------------------------------------------------------------------------\u001b[0m",
      "\u001b[0;31mZeroDivisionError\u001b[0m                         Traceback (most recent call last)",
      "\u001b[0;32m<ipython-input-64-76074048f98c>\u001b[0m in \u001b[0;36m<module>\u001b[0;34m\u001b[0m\n\u001b[1;32m      1\u001b[0m \u001b[0ma\u001b[0m\u001b[0;34m=\u001b[0m\u001b[0;36m0\u001b[0m\u001b[0;34m;\u001b[0m \u001b[0mb\u001b[0m\u001b[0;34m=\u001b[0m\u001b[0;36m2\u001b[0m\u001b[0;34m;\u001b[0m \u001b[0mc\u001b[0m\u001b[0;34m=\u001b[0m\u001b[0;36m1\u001b[0m\u001b[0;34m\u001b[0m\u001b[0;34m\u001b[0m\u001b[0m\n\u001b[0;32m----> 2\u001b[0;31m \u001b[0mx0\u001b[0m\u001b[0;34m=\u001b[0m\u001b[0;34m(\u001b[0m\u001b[0;34m-\u001b[0m\u001b[0mb\u001b[0m\u001b[0;34m+\u001b[0m\u001b[0;34m(\u001b[0m\u001b[0msqrt\u001b[0m\u001b[0;34m(\u001b[0m\u001b[0mb\u001b[0m\u001b[0;34m**\u001b[0m\u001b[0;36m2\u001b[0m\u001b[0;34m-\u001b[0m\u001b[0;36m4\u001b[0m\u001b[0;34m*\u001b[0m\u001b[0ma\u001b[0m\u001b[0;34m*\u001b[0m\u001b[0mc\u001b[0m\u001b[0;34m)\u001b[0m\u001b[0;34m)\u001b[0m\u001b[0;34m)\u001b[0m\u001b[0;34m/\u001b[0m\u001b[0;34m(\u001b[0m\u001b[0;36m2\u001b[0m\u001b[0;34m*\u001b[0m\u001b[0ma\u001b[0m\u001b[0;34m)\u001b[0m\u001b[0;34m\u001b[0m\u001b[0;34m\u001b[0m\u001b[0m\n\u001b[0m",
      "\u001b[0;31mZeroDivisionError\u001b[0m: float division by zero"
     ]
    }
   ],
   "source": [
    "a=0; b=2; c=1\n",
    "x0=(-b+(sqrt(b**2-4*a*c)))/(2*a)"
   ]
  },
  {
   "cell_type": "markdown",
   "metadata": {
    "slideshow": {
     "slide_type": "slide"
    }
   },
   "source": [
    "## Ejemplo: Ecuación de segundo grado capturando excepciones *ZeroDivisionError* y *ValueError*"
   ]
  },
  {
   "cell_type": "code",
   "execution_count": 65,
   "metadata": {},
   "outputs": [
    {
     "name": "stdout",
     "output_type": "stream",
     "text": [
      "Escribe los valores de los coeficientes de la ecuación ax^2+bx+c=0\n"
     ]
    },
    {
     "name": "stdin",
     "output_type": "stream",
     "text": [
      "a? 4\n",
      "b? 1\n",
      "c? 4\n"
     ]
    },
    {
     "name": "stdout",
     "output_type": "stream",
     "text": [
      "Las soluciones de la ecuación son valores complejos\n"
     ]
    }
   ],
   "source": [
    "'''Resolución ecuación de segundo grado ax^2+bx+c=0'''\n",
    "'''(versión con try...except capturando ZeroDivisionError y ValueError)'''\n",
    "''' x0=(-b+sqrt(b^2-4ac))/(2a)'''\n",
    "''' x1=(-b-sqrt(b^2-4ac))/(2a)'''\n",
    "\n",
    "from math import sqrt   #importar la función raíz cuadrada\n",
    "\n",
    "print('Escribe los valores de los coeficientes de la ecuación ax^2+bx+c=0')\n",
    "a=float(input('a?')); b=float(input('b?')); c=float(input('c?'))\n",
    "\n",
    "try:\n",
    "    x0=(-b+(sqrt(b**2-4*a*c)))/(2*a)\n",
    "    x1=(-b-(sqrt(b**2-4*a*c)))/(2*a)\n",
    "    if (x0!=x1):\n",
    "        print (f'Soluciones ecuación 2o grado: x0={x0:.2}; x1={x1:.2}')\n",
    "    else:\n",
    "        print (f'Soluciones ecuación 2o grado: x0=x1={x0:.2}')\n",
    "except ZeroDivisionError:\n",
    "    if a==0 and b!=0:  # Es una ecuación de primer grado\n",
    "        sol=-c/b\n",
    "        print (f'Solución ecuación 1er grado: x={sol:.2}')\n",
    "    else:\n",
    "        print ('Los coeficientes no corresponden a una ecuación')\n",
    "except ValueError:    \n",
    "    if b**2-4*a*c<0:\n",
    "        print ('Las soluciones de la ecuación son valores complejos')\n",
    "except: # Resto de posibles excepciones no especificadas\n",
    "        print ('Se ha detectado un error en tiempo de ejecución')"
   ]
  }
 ],
 "metadata": {
  "kernelspec": {
   "display_name": "Python 3",
   "language": "python",
   "name": "python3"
  },
  "language_info": {
   "codemirror_mode": {
    "name": "ipython",
    "version": 3
   },
   "file_extension": ".py",
   "mimetype": "text/x-python",
   "name": "python",
   "nbconvert_exporter": "python",
   "pygments_lexer": "ipython3",
   "version": "3.7.5"
  }
 },
 "nbformat": 4,
 "nbformat_minor": 4
}
