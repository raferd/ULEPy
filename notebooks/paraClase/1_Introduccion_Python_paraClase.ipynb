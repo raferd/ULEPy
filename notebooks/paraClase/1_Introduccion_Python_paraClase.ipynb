{
 "cells": [
  {
   "cell_type": "code",
   "execution_count": null,
   "metadata": {
    "slideshow": {
     "slide_type": "skip"
    }
   },
   "outputs": [],
   "source": [
    "import funciones_varias  as fv"
   ]
  },
  {
   "cell_type": "markdown",
   "metadata": {
    "slideshow": {
     "slide_type": "slide"
    }
   },
   "source": [
    "# 1. Introducción a la programación en Python "
   ]
  },
  {
   "cell_type": "markdown",
   "metadata": {},
   "source": [
    "## 1.1. Características \n",
    "\n",
    "* Legible\n",
    "* Entorno de desarrollo interactivo\n",
    "* Compacto y expresivo (lenguaje de muy alto nivel=)\n",
    "* ***Case Sensitive*** (sensible al uso de mayúsculas y minúsculas)"
   ]
  },
  {
   "cell_type": "markdown",
   "metadata": {
    "slideshow": {
     "slide_type": "slide"
    }
   },
   "source": [
    "**Ejemplo de uso de lenguaje C vs Python**"
   ]
  },
  {
   "cell_type": "markdown",
   "metadata": {},
   "source": [
    "```cpp\n",
    "/* Promedio de valores utilizando lenguaje C */\n",
    "#include <stdio.h>\n",
    "\n",
    "int main(int argc, char* argv[])\n",
    "{\n",
    "    float a, b, promedio;\n",
    "    printf(\"Escribe un valor: \");\n",
    "    scanf(\"%f\", &a);\n",
    "    printf(\"Escribe otro valor: \");\n",
    "    scanf(\"%f\", &b);\n",
    "    promedio=(a+b)/2.0;\n",
    "    printf(\"Valor medio = %f\\n\", promedio);\n",
    "return 0;\n",
    "}   \n",
    "```"
   ]
  },
  {
   "cell_type": "code",
   "execution_count": null,
   "metadata": {},
   "outputs": [],
   "source": [
    "''' Promedio de valores utilizando lenguaje Python '''\n",
    "a = float(input('Escribe un valor: ')) # Lee un valor por teclado y lo convierte a real\n",
    "b = float(input('Escribe otro valor: ')) \n",
    "promedio = (a+b)/2.0\n",
    "print ('Valor medio = ', promedio) \n"
   ]
  },
  {
   "cell_type": "markdown",
   "metadata": {
    "slideshow": {
     "slide_type": "slide"
    }
   },
   "source": [
    "**Comentarios en lenguaje Python**:\n",
    "\n",
    "* Cualquier texto delimitado en sus extremos por tres caracteres ```'``` o bien ```\"``` es un comentario\n",
    "* El carácter ```#``` indica que el resto de la línea es un comentario\n",
    "\n",
    "    ```python\n",
    "    ''' *********************************\n",
    "         Ejemplo de comentario que ocupa \n",
    "                una o más líneas       \n",
    "        *********************************'''\n",
    "\n",
    "    \"\"\" Forma alternativa para delimitar comentarios \"\"\"\n",
    "\n",
    "    a=3 # Comentario de una línea\n",
    "    ```"
   ]
  },
  {
   "cell_type": "markdown",
   "metadata": {
    "slideshow": {
     "slide_type": "slide"
    }
   },
   "source": [
    "## 1.2. Tipos de datos"
   ]
  },
  {
   "cell_type": "markdown",
   "metadata": {},
   "source": [
    "* Caracteres:  **Código ASCII**\n",
    "* Números naturales:   **Binario natural** (base 2)\n",
    "* Números enteros:  **Complemento 2** \n",
    "* Números reales:  Estándar **IEEE 754**\n",
    "* Valores Lógicos: ***True*** y ***False***"
   ]
  },
  {
   "cell_type": "markdown",
   "metadata": {
    "slideshow": {
     "slide_type": "slide"
    }
   },
   "source": [
    "### Tabla de Caracteres ASCII\n",
    "[https://www.ascii-code.com](https://www.ascii-code.com)"
   ]
  },
  {
   "cell_type": "markdown",
   "metadata": {},
   "source": [
    "<div align=\"center\"> \n",
    "<center> \n",
    "<table border=\"0\" cellpadding=\"0\" cellspacing=\"0\" width=\"800\"> \n",
    "<tr> \n",
    "<td><img src=\"./figuras_Python_1/ASCII_1de2.png\"  ></td> \n",
    "<td><img src=\"./figuras_Python_1/ASCII_2de2.png\"  ></td> \n",
    "</tr> \n",
    "</table> \n",
    "</center> \n",
    "</div> "
   ]
  },
  {
   "cell_type": "markdown",
   "metadata": {
    "slideshow": {
     "slide_type": "slide"
    }
   },
   "source": [
    "### Variables\n",
    "\n",
    "* Para poder conservar y reutilizar los resultados de las operaciones, los datos se almacenan en variables\n",
    "* Una variable está almacenada en una zona de la memoria del sistema seleccionada por el sistema operativo\n",
    "* En un programa, una variable se identifica por su nombre\n",
    "* La asignación de valor a una variable se consigue utilizando el signo `=`:   \n",
    "\n",
    "    ```python\n",
    "      identificador_de_variable = valor\n",
    "    ```  \n",
    "\n",
    "**Ejemplos de asignación de valores** a variables:\n",
    "\n",
    "```python\n",
    "letra = 'A'\n",
    "numero_entero = 1\n",
    "numero_entero_formato_hexadecimal = 0xFF0A\n",
    "numero_real = 5.4\n",
    "numero_real_2 = -3.5\n",
    "valor_logico = True\n",
    "cadena_de_caracteres = 'Esto es una cadena de caracteres (string)'\n",
    "cadena_2 = \"Esta es otra cadena de caracteres\"\n",
    "```\n",
    "\n"
   ]
  },
  {
   "cell_type": "markdown",
   "metadata": {
    "slideshow": {
     "slide_type": "slide"
    }
   },
   "source": [
    "El **valor** asignado a una variable **puede ser el resultado de ejecutar una expresión**.\n",
    "\n",
    "**Identificadores válidos**: \n",
    "\n",
    "* Combinaciones de letras minúsculas, mayúsculas, dígitos, y el carácter `_` (*underscore*)\n",
    "* No se permite el uso de las palabras reservadas del lenguaje Python:    \n",
    "```python\n",
    "and, assert, break, class, continue, def, del, elif, else, except, exec, finally, for, from, global, if, import, in, is, lambda, not, or, pass, print, raise, return, try, while, yield, True, False\n",
    "```"
   ]
  },
  {
   "cell_type": "markdown",
   "metadata": {
    "slideshow": {
     "slide_type": "slide"
    }
   },
   "source": [
    "## 1.3. Operaciones y Precedencia"
   ]
  },
  {
   "cell_type": "markdown",
   "metadata": {},
   "source": [
    "    \n",
    "|           Operador               | Funcionalidad       |\n",
    "|:----------------------------------:|---------------------|\n",
    "|( ) | Paréntesis |\n",
    "| ** | Exponenciación |\n",
    "|~, +, - | Complemento a 1, más y menos unarios |\n",
    "| *, /, %, // | Multiplicación, división, módulo (resto de la división entera) y cociente de la división entera|\n",
    "|+, - | Suma y resta (complemento a 2) |\n",
    "|>>, << | Desplazamiento de bits a la derecha y a la izquierda |\n",
    "| & | Operación AND (entre bits) |\n",
    "| ^, \\| | Operaciones OR exclusiva y OR (entre bits) |\n",
    "| <=, <, >, >= | Operadores de comparación |\n",
    "| ==, != | Operadores igualdad y desigualdad|\n",
    "| =, %=, /=, //=, -=, +=, *=, **= | Operadores de asignación |\n",
    "| is, is not | Operadores de identidad |\n",
    "| in, not in | Operadores de pertenencia (membresía) |\n",
    "| not, and, or | Operadores lógicos (orden de precedencia:not>and>or)|\n"
   ]
  },
  {
   "cell_type": "markdown",
   "metadata": {
    "slideshow": {
     "slide_type": "slide"
    }
   },
   "source": [
    "## Ejemplos de operaciones y precedencia"
   ]
  },
  {
   "cell_type": "markdown",
   "metadata": {},
   "source": [
    "### *a. Operaciones básicas*"
   ]
  },
  {
   "cell_type": "markdown",
   "metadata": {},
   "source": [
    "Utiliza los valores a=5 y b=3 para realizar las operaciones que se indican:"
   ]
  },
  {
   "cell_type": "code",
   "execution_count": null,
   "metadata": {},
   "outputs": [],
   "source": []
  },
  {
   "cell_type": "markdown",
   "metadata": {
    "slideshow": {
     "slide_type": "fragment"
    }
   },
   "source": [
    "$a^b$"
   ]
  },
  {
   "cell_type": "code",
   "execution_count": null,
   "metadata": {
    "slideshow": {
     "slide_type": "fragment"
    }
   },
   "outputs": [],
   "source": []
  },
  {
   "cell_type": "markdown",
   "metadata": {
    "slideshow": {
     "slide_type": "slide"
    }
   },
   "source": [
    "Complemento-1 de a (almacena el resultado en la variable ```result```)"
   ]
  },
  {
   "cell_type": "code",
   "execution_count": null,
   "metadata": {
    "slideshow": {
     "slide_type": "fragment"
    }
   },
   "outputs": [],
   "source": []
  },
  {
   "cell_type": "markdown",
   "metadata": {
    "slideshow": {
     "slide_type": "fragment"
    }
   },
   "source": [
    "(Complemento-1 de a) + 1"
   ]
  },
  {
   "cell_type": "code",
   "execution_count": null,
   "metadata": {
    "slideshow": {
     "slide_type": "fragment"
    }
   },
   "outputs": [],
   "source": []
  },
  {
   "cell_type": "markdown",
   "metadata": {
    "slideshow": {
     "slide_type": "fragment"
    }
   },
   "source": [
    "Opuesto de a (comprueba que su valor coincide con el resultado anterior)"
   ]
  },
  {
   "cell_type": "code",
   "execution_count": null,
   "metadata": {
    "slideshow": {
     "slide_type": "fragment"
    }
   },
   "outputs": [],
   "source": [
    "-"
   ]
  },
  {
   "cell_type": "markdown",
   "metadata": {
    "slideshow": {
     "slide_type": "slide"
    }
   },
   "source": [
    "Cociente de la división entera a/b (el resultado es un número entero)"
   ]
  },
  {
   "cell_type": "code",
   "execution_count": null,
   "metadata": {
    "slideshow": {
     "slide_type": "fragment"
    }
   },
   "outputs": [],
   "source": []
  },
  {
   "cell_type": "markdown",
   "metadata": {
    "slideshow": {
     "slide_type": "fragment"
    }
   },
   "source": [
    "Resto de la división entera a/b"
   ]
  },
  {
   "cell_type": "code",
   "execution_count": null,
   "metadata": {
    "slideshow": {
     "slide_type": "fragment"
    }
   },
   "outputs": [],
   "source": []
  },
  {
   "cell_type": "markdown",
   "metadata": {
    "slideshow": {
     "slide_type": "fragment"
    }
   },
   "source": [
    "Resultado real de dividir a entre b"
   ]
  },
  {
   "cell_type": "code",
   "execution_count": null,
   "metadata": {
    "slideshow": {
     "slide_type": "fragment"
    }
   },
   "outputs": [],
   "source": []
  },
  {
   "cell_type": "markdown",
   "metadata": {
    "slideshow": {
     "slide_type": "slide"
    }
   },
   "source": [
    "$(a-b)^{\\textrm{módulo}(b/a)}$"
   ]
  },
  {
   "cell_type": "code",
   "execution_count": null,
   "metadata": {
    "slideshow": {
     "slide_type": "fragment"
    }
   },
   "outputs": [],
   "source": []
  },
  {
   "cell_type": "markdown",
   "metadata": {
    "slideshow": {
     "slide_type": "slide"
    }
   },
   "source": [
    "Operaciones con **números complejos** `a+bj`    \n",
    "\n",
    "* El coeficiente de la parte imaginaria ha de explicitarse para que $j=\\sqrt{-1}$"
   ]
  },
  {
   "cell_type": "code",
   "execution_count": null,
   "metadata": {},
   "outputs": [],
   "source": [
    "complex_a=8.2+2j\n",
    "complex_b=complex(4.2,-1)  #Equivale a 4.2-1j\n",
    "print(complex_a,complex_b)"
   ]
  },
  {
   "cell_type": "code",
   "execution_count": null,
   "metadata": {},
   "outputs": [],
   "source": [
    "complex_c=complex_a*1j\n",
    "print (complex_c)"
   ]
  },
  {
   "cell_type": "code",
   "execution_count": null,
   "metadata": {},
   "outputs": [],
   "source": [
    "complex_d=complex_a-complex_b\n",
    "print(complex_d)"
   ]
  },
  {
   "cell_type": "code",
   "execution_count": null,
   "metadata": {},
   "outputs": [],
   "source": [
    "complex_e= 5-2j\n",
    "complex_f= 1+1j\n",
    "complex_g=complex_e/complex_f\n",
    "print (complex_g)"
   ]
  },
  {
   "cell_type": "markdown",
   "metadata": {
    "slideshow": {
     "slide_type": "slide"
    }
   },
   "source": [
    "### b. Desplazamiento de bits\n",
    "\n",
    "Resumen:\n",
    "\n",
    "* ```valor >> n``` -> Desplaza los bits de la variable valor n posiciones hacia la derecha\n",
    "* ```valor << n``` -> Desplaza los bits de la variable valor n posiciones hacia la izquierda"
   ]
  },
  {
   "cell_type": "markdown",
   "metadata": {
    "slideshow": {
     "slide_type": "fragment"
    }
   },
   "source": [
    "Crea la variable ```dato = 0000 1100b = 0Ch``` "
   ]
  },
  {
   "cell_type": "code",
   "execution_count": null,
   "metadata": {},
   "outputs": [],
   "source": []
  },
  {
   "cell_type": "markdown",
   "metadata": {
    "slideshow": {
     "slide_type": "slide"
    }
   },
   "source": [
    "Calcula el resultado de desplazar dato 3 bits a la izquierda y guarda el resultado en la propia variable dato\n",
    "\n",
    "(Comprueba que `dato<<` es una forma, rápida, de calcular el valor $\\textrm{dato} \\cdot 2^n$)"
   ]
  },
  {
   "cell_type": "code",
   "execution_count": null,
   "metadata": {
    "slideshow": {
     "slide_type": "fragment"
    }
   },
   "outputs": [],
   "source": []
  },
  {
   "cell_type": "markdown",
   "metadata": {
    "slideshow": {
     "slide_type": "slide"
    }
   },
   "source": [
    "Actualiza la variable dato desplazándola 1 bit hacia la derecha\n",
    "\n",
    "(Comprueba que `dato>>` es una forma, rápida, de calcular la división entera $\\frac{\\textrm{dato}}{2^n}$)"
   ]
  },
  {
   "cell_type": "code",
   "execution_count": null,
   "metadata": {
    "slideshow": {
     "slide_type": "fragment"
    }
   },
   "outputs": [],
   "source": []
  },
  {
   "cell_type": "markdown",
   "metadata": {},
   "source": [
    "Actualiza dato con un desplazamiento a la derecha de 5 bits\n",
    "\n",
    "(Observa que se pierden bits al realizar el desplazamiento)"
   ]
  },
  {
   "cell_type": "code",
   "execution_count": null,
   "metadata": {
    "slideshow": {
     "slide_type": "fragment"
    }
   },
   "outputs": [],
   "source": []
  },
  {
   "cell_type": "markdown",
   "metadata": {
    "slideshow": {
     "slide_type": "slide"
    }
   },
   "source": [
    "### c. AND, OR y OR-eXclusiva a nivel de bit \n",
    "\n",
    "Resumen:\n",
    "\n",
    "* Tablas de verdad:\n",
    "\n",
    "| bit a | bit b | a AND b | a OR b | a XOR b|\n",
    "|:--------:|:-----:|:---------------:|:--------------:|:--------------:|\n",
    "|0|0|0|0|0|\n",
    "|0|1|0|1|1|\n",
    "|1|0|0|1|1|\n",
    "|1|1|1|1|0|\n",
    "\n",
    "* Las tablas de verdad se pueden interpretar de la siguiente forma:\n",
    "\n",
    "\n",
    "| bit a | bit_b | a AND b | a OR b | a XORb|\n",
    "|:--------:|:-----:|:---------------:|:--------------:|:--------------:|\n",
    "|0|X|0|X|X|\n",
    "|1|X|X|1|~X|\n"
   ]
  },
  {
   "cell_type": "markdown",
   "metadata": {
    "slideshow": {
     "slide_type": "slide"
    }
   },
   "source": [
    "Crea las variables ```signal = 1001 0110 b = 96h``` y ```mask = 0000 1111 b = 0Fh```"
   ]
  },
  {
   "cell_type": "code",
   "execution_count": null,
   "metadata": {},
   "outputs": [],
   "source": []
  },
  {
   "cell_type": "markdown",
   "metadata": {
    "slideshow": {
     "slide_type": "fragment"
    }
   },
   "source": [
    "Calcula el valor signal AND mask\n",
    "\n",
    "(Comprueba que el resultado conserva los bits de signal en las posiciones en que mask tiene valor 1, mientras que se tienen 0s en las posiciones en las que mask es 0)"
   ]
  },
  {
   "cell_type": "code",
   "execution_count": null,
   "metadata": {
    "slideshow": {
     "slide_type": "fragment"
    }
   },
   "outputs": [],
   "source": []
  },
  {
   "cell_type": "markdown",
   "metadata": {
    "slideshow": {
     "slide_type": "slide"
    }
   },
   "source": [
    "Calcula el valor signal OR mask\n",
    "\n",
    "(Comprueba que los bits de signal se conservan en las posiciones de valor 0 en mask, mientras que se ponen a 1 en las posiciones con valor 1 en mask)"
   ]
  },
  {
   "cell_type": "code",
   "execution_count": null,
   "metadata": {
    "slideshow": {
     "slide_type": "fragment"
    }
   },
   "outputs": [],
   "source": []
  },
  {
   "cell_type": "markdown",
   "metadata": {
    "slideshow": {
     "slide_type": "slide"
    }
   },
   "source": [
    "Calcula el valor signal XOR mask\n",
    "\n",
    "(Comprueba que los bits de signal se conservan en las posiciones de valor 0 en mask, mientras que cambian de valor en las posiciones con valor 1 en mask)"
   ]
  },
  {
   "cell_type": "code",
   "execution_count": null,
   "metadata": {
    "slideshow": {
     "slide_type": "fragment"
    }
   },
   "outputs": [],
   "source": []
  },
  {
   "cell_type": "markdown",
   "metadata": {
    "slideshow": {
     "slide_type": "slide"
    }
   },
   "source": [
    "### d. Operaciones lógicas y de comparación\n",
    "\n",
    "\n",
    "Resumen:\n",
    "* Tabla de verdad de las operaciones lógicas:\n",
    "\n",
    "| A | B | A AND B | A OR B | NOT A|\n",
    "|:--------:|:-----:|:---------------:|:--------------:|:--------------:|\n",
    "|False|False|False|False|True|\n",
    "|False|True|False|True|True|\n",
    "|True|False|False|True|False|\n",
    "|True|True|True|True|False|\n",
    "\n",
    "* Las operaciones de comparación devuelven como resultado un valor booleano (***True***, ***False***)"
   ]
  },
  {
   "cell_type": "markdown",
   "metadata": {},
   "source": [
    "* Empleo de **varios operadores de comparación consecutivos** para simplificar expresiones complejas:    \n",
    "```(a comparado con b) and (b comparado con c)```     \n",
    "es equivalente a              \n",
    "```a comparado con b comparado con c```  \n",
    "\n",
    "```python   \n",
    "# Ejemplo de expresiones equivalentes:\n",
    "(3<4) and (4<5) and (5>=6)\n",
    "3<4<5>=6\n",
    "```"
   ]
  },
  {
   "cell_type": "markdown",
   "metadata": {
    "slideshow": {
     "slide_type": "slide"
    }
   },
   "source": [
    " **Inicializa las siguientes variables** con los valores que se indican: \n",
    "\n",
    "* temperatura: 25 grados\n",
    "* umbral_temperatura: 28 grados\n",
    "* dia_soleado: falso\n",
    "* dia_lluvioso: falso"
   ]
  },
  {
   "cell_type": "code",
   "execution_count": null,
   "metadata": {
    "slideshow": {
     "slide_type": "fragment"
    }
   },
   "outputs": [],
   "source": []
  },
  {
   "cell_type": "markdown",
   "metadata": {
    "slideshow": {
     "slide_type": "fragment"
    }
   },
   "source": [
    "Comprueba si la temperatura es mayor de 15 grados"
   ]
  },
  {
   "cell_type": "code",
   "execution_count": null,
   "metadata": {
    "slideshow": {
     "slide_type": "fragment"
    }
   },
   "outputs": [],
   "source": []
  },
  {
   "cell_type": "markdown",
   "metadata": {
    "slideshow": {
     "slide_type": "slide"
    }
   },
   "source": [
    "Comprueba si el dia es soleado"
   ]
  },
  {
   "cell_type": "code",
   "execution_count": null,
   "metadata": {
    "slideshow": {
     "slide_type": "fragment"
    }
   },
   "outputs": [],
   "source": []
  },
  {
   "cell_type": "markdown",
   "metadata": {
    "slideshow": {
     "slide_type": "fragment"
    }
   },
   "source": [
    "Comprueba si la temperatura es menor de 30 grados y, además, el día es lluvioso "
   ]
  },
  {
   "cell_type": "code",
   "execution_count": null,
   "metadata": {
    "slideshow": {
     "slide_type": "fragment"
    }
   },
   "outputs": [],
   "source": []
  },
  {
   "cell_type": "markdown",
   "metadata": {
    "slideshow": {
     "slide_type": "slide"
    }
   },
   "source": [
    "Verifica que no hace sol"
   ]
  },
  {
   "cell_type": "code",
   "execution_count": null,
   "metadata": {
    "slideshow": {
     "slide_type": "fragment"
    }
   },
   "outputs": [],
   "source": []
  },
  {
   "cell_type": "markdown",
   "metadata": {
    "slideshow": {
     "slide_type": "fragment"
    }
   },
   "source": [
    "Observa cómo afecta la **precedencia de las operaciones and y or** a los siguientes dos ejemplos:"
   ]
  },
  {
   "cell_type": "code",
   "execution_count": null,
   "metadata": {},
   "outputs": [],
   "source": [
    "True or False and False"
   ]
  },
  {
   "cell_type": "code",
   "execution_count": null,
   "metadata": {},
   "outputs": [],
   "source": [
    "(True or False) and False"
   ]
  },
  {
   "cell_type": "markdown",
   "metadata": {
    "slideshow": {
     "slide_type": "slide"
    }
   },
   "source": [
    "Comprueba si la temperatura es menor que umbral_temperatura y, además, no hace sol"
   ]
  },
  {
   "cell_type": "code",
   "execution_count": null,
   "metadata": {
    "slideshow": {
     "slide_type": "fragment"
    }
   },
   "outputs": [],
   "source": []
  },
  {
   "cell_type": "markdown",
   "metadata": {
    "slideshow": {
     "slide_type": "fragment"
    }
   },
   "source": [
    "Para decidir ir a la playa, es suficiente tener un **día soleado o bien que la temperatura sea mayor o igual que 25 grados**. Comprueba si se reunen las condiciones para ir a la playa"
   ]
  },
  {
   "cell_type": "code",
   "execution_count": null,
   "metadata": {
    "slideshow": {
     "slide_type": "fragment"
    }
   },
   "outputs": [],
   "source": []
  },
  {
   "cell_type": "markdown",
   "metadata": {
    "slideshow": {
     "slide_type": "slide"
    }
   },
   "source": [
    "Para bañarse en la playa, se requiere, además de las condiciones para ir a la playa, que no esté lloviendo. Comprueba si se reunen las condiciones para bañarse en la playa"
   ]
  },
  {
   "cell_type": "code",
   "execution_count": null,
   "metadata": {
    "slideshow": {
     "slide_type": "fragment"
    }
   },
   "outputs": [],
   "source": []
  },
  {
   "cell_type": "markdown",
   "metadata": {
    "slideshow": {
     "slide_type": "fragment"
    }
   },
   "source": [
    "Para pasear al perro por la playa es necesario que se cumplan las dos condiciones siguientes:\n",
    "    * No hay dia soleado o bien la temperatura es menor de 18 grados\n",
    "    * El día es lluvioso\n",
    "   \n",
    "Comprueba si se puede llevar al perro a la playa"
   ]
  },
  {
   "cell_type": "code",
   "execution_count": null,
   "metadata": {
    "slideshow": {
     "slide_type": "fragment"
    }
   },
   "outputs": [],
   "source": []
  },
  {
   "cell_type": "markdown",
   "metadata": {
    "slideshow": {
     "slide_type": "slide"
    }
   },
   "source": [
    "Ejemplo de varios operadores de comparación consecutivos:"
   ]
  },
  {
   "cell_type": "code",
   "execution_count": null,
   "metadata": {},
   "outputs": [],
   "source": [
    "3<4<5 # Equivale a (3<4) and (4<5)"
   ]
  },
  {
   "cell_type": "code",
   "execution_count": null,
   "metadata": {},
   "outputs": [],
   "source": [
    "3<4 and 4<5 "
   ]
  },
  {
   "cell_type": "code",
   "execution_count": null,
   "metadata": {},
   "outputs": [],
   "source": [
    "3==2+1==3+0>=3.0 # Equivale  a (3==2+1) and (2+1==3+0) and (3+0>=3.0)"
   ]
  },
  {
   "cell_type": "code",
   "execution_count": null,
   "metadata": {},
   "outputs": [],
   "source": [
    "3==2+1 and 2+1==3+0 and 3+0>=3.0"
   ]
  },
  {
   "cell_type": "markdown",
   "metadata": {
    "slideshow": {
     "slide_type": "slide"
    }
   },
   "source": [
    "### Asignación de variables con operador\n",
    "\n",
    "Son equivalentes las siguientes dos formas de asignar valores a variables:\n",
    "\n",
    "* `var operador = expresión` \n",
    "* `var = var operador expresión`\n"
   ]
  },
  {
   "cell_type": "code",
   "execution_count": null,
   "metadata": {},
   "outputs": [],
   "source": [
    "a=5\n",
    "a+=2\n",
    "a"
   ]
  },
  {
   "cell_type": "code",
   "execution_count": null,
   "metadata": {},
   "outputs": [],
   "source": [
    "a-=3\n",
    "a"
   ]
  },
  {
   "cell_type": "code",
   "execution_count": null,
   "metadata": {},
   "outputs": [],
   "source": [
    "a*=a\n",
    "a"
   ]
  },
  {
   "cell_type": "code",
   "execution_count": null,
   "metadata": {},
   "outputs": [],
   "source": [
    "a//=2\n",
    "a"
   ]
  },
  {
   "cell_type": "markdown",
   "metadata": {
    "slideshow": {
     "slide_type": "slide"
    }
   },
   "source": [
    "## 1.4 Cadenas de caracteres (*strings*)\n",
    "\n",
    "* Cadena de caracteres: secuencia de letras, números, espacios y/o signos de puntuación\n",
    "* Las cadenas de caracteres van encerradas entre comillas (simples [`'`] o dobles [`\"`])"
   ]
  },
  {
   "cell_type": "code",
   "execution_count": null,
   "metadata": {},
   "outputs": [],
   "source": [
    "'Soy una cadena de caracteres' "
   ]
  },
  {
   "cell_type": "code",
   "execution_count": null,
   "metadata": {},
   "outputs": [],
   "source": [
    "\"Yo también soy un string\""
   ]
  },
  {
   "cell_type": "markdown",
   "metadata": {
    "slideshow": {
     "slide_type": "slide"
    }
   },
   "source": [
    "### Función *print*\n",
    "* Muestra por pantalla una cadena de caracteres o varias separadas por un espacio blanco\n",
    "* Finaliza con un salto de línea\n",
    "\n",
    "    ```python\n",
    "    print (string_1[,string_2,...,string_n])\n",
    "    ```\n",
    "\n",
    "* Impresión de **caracteres especiales**:\n",
    "    * `\\n`: carácter *nueva línea*\n",
    "    * `\\t`: tabulador\n",
    "    * `\\\"`: Carácter `\"` \n",
    "    * `\\'`: Carácter `'`    \n",
    "    Nota: No es necesario *escapar* el carácter `'` en cadenas delimitadas mediante `\"`, ni el carácter (`\"`) cuando el delimitador es `'`"
   ]
  },
  {
   "cell_type": "code",
   "execution_count": null,
   "metadata": {
    "slideshow": {
     "slide_type": "slide"
    }
   },
   "outputs": [],
   "source": [
    "str1=\"¿Qué es la Programación Orientada a Objetos?\"\n",
    "print(str1)"
   ]
  },
  {
   "cell_type": "code",
   "execution_count": null,
   "metadata": {},
   "outputs": [],
   "source": [
    "my_name='Guido van Rossum'\n",
    "language=\"Python\"\n",
    "\n",
    "# Mostrar por pantalla un mensaje:\n",
    "print(my_name, \"es el creador del lenguaje\",language)"
   ]
  },
  {
   "cell_type": "markdown",
   "metadata": {
    "slideshow": {
     "slide_type": "slide"
    }
   },
   "source": [
    "### Concatenación de cadenas: `+`"
   ]
  },
  {
   "cell_type": "code",
   "execution_count": null,
   "metadata": {},
   "outputs": [],
   "source": [
    "nombre=\"Augusta Ada King-Noel\"\n",
    "titulo=\"Condesa de Lovelace\"\n",
    "profesion='Matemática'\n",
    "\n",
    "texto=nombre+' ('+profesion+', '+titulo+')'\n",
    "print(texto,'es considerada como \\nla primera programadora de ordenadores de la historia')"
   ]
  },
  {
   "cell_type": "markdown",
   "metadata": {
    "slideshow": {
     "slide_type": "slide"
    }
   },
   "source": [
    "### Concatenación de cadenas repetidas: `*`\n",
    "* `string * k` $\\rightarrow$ Genera una cadena en la que `string` se repite `k` veces"
   ]
  },
  {
   "cell_type": "markdown",
   "metadata": {},
   "source": [
    "<div align=\"center\"> \n",
    "<center> \n",
    "<table border=\"0\" cellpadding=\"0\" cellspacing=\"0\" width=\"400\"> \n",
    "<tr> \n",
    "<td><img src=\"./figuras_Python_1/Simpson_str_repeticion.png\"  ></td> \n",
    "</tr> \n",
    "</table> \n",
    "</center> \n",
    "</div> \n",
    "\n",
    "###### *Imagen generada en: [http://www.ranzey.com/generators/bart/index.html](http://www.ranzey.com/generators/bart/index.html)*\n"
   ]
  },
  {
   "cell_type": "code",
   "execution_count": null,
   "metadata": {
    "slideshow": {
     "slide_type": "slide"
    }
   },
   "outputs": [],
   "source": [
    "print('No voy a portarme bien en clase'*10)"
   ]
  },
  {
   "cell_type": "code",
   "execution_count": null,
   "metadata": {
    "slideshow": {
     "slide_type": "fragment"
    }
   },
   "outputs": [],
   "source": [
    "print('No voy a portarme bien en clase\\n'*10)  # \\n : carácter nueva línea"
   ]
  },
  {
   "cell_type": "code",
   "execution_count": null,
   "metadata": {
    "slideshow": {
     "slide_type": "slide"
    }
   },
   "outputs": [],
   "source": [
    "print(\"No trago al 'profe' de Mates\")"
   ]
  },
  {
   "cell_type": "code",
   "execution_count": null,
   "metadata": {},
   "outputs": [],
   "source": [
    "print(\"Me cae bien el \"Topo\", y explica muy bien\") # Corrige el error"
   ]
  },
  {
   "cell_type": "markdown",
   "metadata": {
    "slideshow": {
     "slide_type": "slide"
    }
   },
   "source": [
    "### Comparación de cadenas\n",
    "\n",
    "* Igualdad y desigualdad (`==` y `!=`)    \n",
    "    * **cadena_1 == cadena_2** $\\rightarrow$ *True* si las dos cadenas son **iguales carácter a carácter**\n",
    "    * **cadena_1 != cadena_2** $\\rightarrow$ *True* si ambas cadenas **no son exactamente iguales**\n",
    "\n",
    "* El resto de comparaciones (`<`, `<=`, `>`, `>=`) utilizan como criterio el **orden alfabético**\n",
    "* El orden alfabético responde a los valores numéricos de la **tabla ASCII**:\n",
    "    * Las letras mayúsculas tienen un código menor que las letras minúsculas\n",
    "    * Las letras con tilde tienen un valor mayor que las letras sin tilde\n",
    "    * Los números tienen valor menor que las letras"
   ]
  },
  {
   "cell_type": "code",
   "execution_count": null,
   "metadata": {
    "slideshow": {
     "slide_type": "slide"
    }
   },
   "outputs": [],
   "source": [
    "'Europa'!='Oceanía'"
   ]
  },
  {
   "cell_type": "code",
   "execution_count": null,
   "metadata": {},
   "outputs": [],
   "source": [
    "'América'<'Asia'"
   ]
  },
  {
   "cell_type": "code",
   "execution_count": null,
   "metadata": {},
   "outputs": [],
   "source": [
    "# Comprueba si la cadena \"África\" es menor que 'áfrica'"
   ]
  },
  {
   "cell_type": "code",
   "execution_count": null,
   "metadata": {},
   "outputs": [],
   "source": [
    "'José'>='Jose'"
   ]
  },
  {
   "cell_type": "code",
   "execution_count": null,
   "metadata": {},
   "outputs": [],
   "source": [
    "# Comprueba si la cadena de caracteres 'uno' es mayor que la cadena '2'"
   ]
  },
  {
   "cell_type": "markdown",
   "metadata": {
    "slideshow": {
     "slide_type": "slide"
    }
   },
   "source": [
    "### Funciones *ord* y *chr*\n",
    "\n",
    "* `ord(carácter)` $\\rightarrow$ devuelve el valor ASCII de un carácter\n",
    "* `chr(valor_entero)` $\\rightarrow$ devuelve el carácter correspondiente a un valor numérico"
   ]
  },
  {
   "cell_type": "markdown",
   "metadata": {},
   "source": [
    "<div align=\"center\"> \n",
    "<center> \n",
    "<table border=\"0\" cellpadding=\"0\" cellspacing=\"0\" width=\"400\"> \n",
    "<tr> \n",
    "<td><img src=\"./figuras_Python_1/ASCII_2de2.png\"  ></td> \n",
    "</tr> \n",
    "</table> \n",
    "</center> \n",
    "</div> "
   ]
  },
  {
   "cell_type": "code",
   "execution_count": null,
   "metadata": {
    "slideshow": {
     "slide_type": "slide"
    }
   },
   "outputs": [],
   "source": [
    "# Calcula el valor ASCII de la letra 'a'"
   ]
  },
  {
   "cell_type": "code",
   "execution_count": null,
   "metadata": {},
   "outputs": [],
   "source": [
    "# Calcula el valor ASCII de la letra 'A'"
   ]
  },
  {
   "cell_type": "code",
   "execution_count": null,
   "metadata": {},
   "outputs": [],
   "source": [
    "# Obtén el carácter representado por el valor 64h"
   ]
  },
  {
   "cell_type": "code",
   "execution_count": null,
   "metadata": {},
   "outputs": [],
   "source": [
    "# Obtén el carácter representado por el valor 65"
   ]
  },
  {
   "cell_type": "markdown",
   "metadata": {
    "slideshow": {
     "slide_type": "slide"
    }
   },
   "source": [
    "### Métodos de las cadenas de caracteres\n",
    "\n",
    "* Método: función propia de un objeto\n",
    "* Forma de ejecutar un método: \n",
    "`dato.metodo(argumento1, argumento2,..., argumento n)`\n",
    "* Algunos métodos propios de las cadenas de caracteres:\n",
    "    * *lower*\n",
    "    * *upper*\n",
    "    * *title*\n",
    "    * *replace*"
   ]
  },
  {
   "cell_type": "code",
   "execution_count": null,
   "metadata": {
    "slideshow": {
     "slide_type": "slide"
    }
   },
   "outputs": [],
   "source": [
    "mi_cadena='--CADENA con MAYÚSCULAS y minúsculas--'; print(mi_cadena)"
   ]
  },
  {
   "cell_type": "code",
   "execution_count": null,
   "metadata": {},
   "outputs": [],
   "source": [
    "mi_cadena1=mi_cadena.lower(); print(mi_cadena1)"
   ]
  },
  {
   "cell_type": "code",
   "execution_count": null,
   "metadata": {},
   "outputs": [],
   "source": [
    "# Convierte mi_cadena a mayúsculas. Guarda el resultado en mi_cadena3"
   ]
  },
  {
   "cell_type": "code",
   "execution_count": null,
   "metadata": {},
   "outputs": [],
   "source": [
    "# Convierte mi_cadena a tipo título. Guarda el resultado en mi_cadena4"
   ]
  },
  {
   "cell_type": "code",
   "execution_count": null,
   "metadata": {},
   "outputs": [],
   "source": [
    "mi_cadena5=mi_cadena.replace('--','==='); print(mi_cadena5)"
   ]
  },
  {
   "cell_type": "markdown",
   "metadata": {
    "slideshow": {
     "slide_type": "slide"
    }
   },
   "source": [
    "## 1.5. Funciones predefinidas\n",
    "\n",
    "`nombre_de_función (argumentos_separados_por_comas)`\n",
    "\n",
    "```python\n",
    "abs(valor_numérico) # calcula el valor absoluto\n",
    "float(valor_numérico) # convierte a float\n",
    "float(cadena_caracteres_numérica) # convierte a float\n",
    "int(valor_numérico) # convierte a entero \n",
    "int(cadena_caracteres_numérica) # convierte a entero\n",
    "str(valor_numérico) # convierte a cadena de caracteres\n",
    "round(valor_numérico) # redondea el valor numérico\n",
    "round(valor_numérico, numero_de_decimales) # redondea con los decimales indicados\n",
    "```\n",
    "Las funciones pueden combinarse con otros operadores y operaciones"
   ]
  },
  {
   "cell_type": "code",
   "execution_count": null,
   "metadata": {
    "slideshow": {
     "slide_type": "slide"
    }
   },
   "outputs": [],
   "source": [
    "abs(-5.4)"
   ]
  },
  {
   "cell_type": "code",
   "execution_count": null,
   "metadata": {},
   "outputs": [],
   "source": [
    "float(3)"
   ]
  },
  {
   "cell_type": "code",
   "execution_count": null,
   "metadata": {},
   "outputs": [],
   "source": [
    "# Convierte a float la cadena de texto '6.32'"
   ]
  },
  {
   "cell_type": "code",
   "execution_count": null,
   "metadata": {},
   "outputs": [],
   "source": [
    "int(5.23)"
   ]
  },
  {
   "cell_type": "code",
   "execution_count": null,
   "metadata": {},
   "outputs": [],
   "source": [
    "int('38')"
   ]
  },
  {
   "cell_type": "code",
   "execution_count": null,
   "metadata": {
    "slideshow": {
     "slide_type": "slide"
    }
   },
   "outputs": [],
   "source": [
    "# Convierte el número 12 a cadena de caracteres"
   ]
  },
  {
   "cell_type": "code",
   "execution_count": null,
   "metadata": {},
   "outputs": [],
   "source": [
    "round(7.435123)"
   ]
  },
  {
   "cell_type": "code",
   "execution_count": null,
   "metadata": {},
   "outputs": [],
   "source": [
    "# Redondea el valor 7.435123 con dos decimales"
   ]
  },
  {
   "cell_type": "code",
   "execution_count": null,
   "metadata": {},
   "outputs": [],
   "source": [
    "float('1.5'+'63')"
   ]
  },
  {
   "cell_type": "code",
   "execution_count": null,
   "metadata": {},
   "outputs": [],
   "source": [
    "str(int(1.5)+float(6.1))"
   ]
  },
  {
   "cell_type": "markdown",
   "metadata": {
    "slideshow": {
     "slide_type": "slide"
    }
   },
   "source": [
    "## 1.6. Funciones de módulos\n",
    "\n",
    "```python\n",
    "from nombre_del_módulo import nombre_de_función\n",
    "from nombre_del_módulo import nombres_de_funciones_separados_por_comas\n",
    "from nombre_del_módulo import *\n",
    "```"
   ]
  },
  {
   "cell_type": "markdown",
   "metadata": {
    "slideshow": {
     "slide_type": "fragment"
    }
   },
   "source": [
    "### Librería matemática: *math*"
   ]
  },
  {
   "cell_type": "code",
   "execution_count": null,
   "metadata": {},
   "outputs": [],
   "source": [
    "from math import sin, cos, tan, exp, ceil, floor, log, log10, sqrt\n",
    "from math import pi, e"
   ]
  },
  {
   "cell_type": "code",
   "execution_count": null,
   "metadata": {},
   "outputs": [],
   "source": [
    "a=sin(3); print(a)"
   ]
  },
  {
   "cell_type": "code",
   "execution_count": null,
   "metadata": {},
   "outputs": [],
   "source": [
    "b=cos(pi); print(b)"
   ]
  },
  {
   "cell_type": "code",
   "execution_count": null,
   "metadata": {
    "slideshow": {
     "slide_type": "slide"
    }
   },
   "outputs": [],
   "source": [
    "# Guarda en la variable c el valor de la tangente de 1.2 radianes"
   ]
  },
  {
   "cell_type": "code",
   "execution_count": null,
   "metadata": {},
   "outputs": [],
   "source": [
    "d=exp(1); print(d)"
   ]
  },
  {
   "cell_type": "code",
   "execution_count": null,
   "metadata": {},
   "outputs": [],
   "source": [
    "f=ceil(2.1); print(f)"
   ]
  },
  {
   "cell_type": "code",
   "execution_count": null,
   "metadata": {},
   "outputs": [],
   "source": [
    "g=floor(1.2); print(g)"
   ]
  },
  {
   "cell_type": "code",
   "execution_count": null,
   "metadata": {},
   "outputs": [],
   "source": [
    "# Guarda en h el valor del logaritmo neperiano de la variable d"
   ]
  },
  {
   "cell_type": "code",
   "execution_count": null,
   "metadata": {},
   "outputs": [],
   "source": [
    "i=log10(1); print(i)"
   ]
  },
  {
   "cell_type": "code",
   "execution_count": null,
   "metadata": {},
   "outputs": [],
   "source": [
    "# Guarda en j el valor de la raiz cuadrada de 64"
   ]
  }
 ],
 "metadata": {
  "kernelspec": {
   "display_name": "Python 3",
   "language": "python",
   "name": "python3"
  },
  "language_info": {
   "codemirror_mode": {
    "name": "ipython",
    "version": 3
   },
   "file_extension": ".py",
   "mimetype": "text/x-python",
   "name": "python",
   "nbconvert_exporter": "python",
   "pygments_lexer": "ipython3",
   "version": "3.7.5"
  }
 },
 "nbformat": 4,
 "nbformat_minor": 4
}
