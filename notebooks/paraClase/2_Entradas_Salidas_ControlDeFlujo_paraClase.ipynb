{
 "cells": [
  {
   "cell_type": "markdown",
   "metadata": {
    "slideshow": {
     "slide_type": "slide"
    }
   },
   "source": [
    "# 2. Estructuras de Control"
   ]
  },
  {
   "cell_type": "markdown",
   "metadata": {
    "slideshow": {
     "slide_type": "slide"
    }
   },
   "source": [
    "## 2.1. Introducción\n",
    "Un programa consta de un conjunto de instrucciones organizadas mediante las siguientes estructuras de control:\n",
    "\n",
    "<div style=\"background-color: white;\">\n",
    "<img src=\"./figuras_Python_2/Secuencia_seleccion_repeticion.png\" width=\"600\"/>\n",
    "</div>\n"
   ]
  },
  {
   "cell_type": "markdown",
   "metadata": {
    "slideshow": {
     "slide_type": "slide"
    }
   },
   "source": [
    "## 2.2. Salida por pantalla (*print*)      "
   ]
  },
  {
   "cell_type": "markdown",
   "metadata": {},
   "source": [
    "```python\n",
    "print(string_0[,...,string_n,sep=' ', end='\\n', flush=False])\n",
    "```\n",
    "Argumentos:\n",
    "\n",
    "* `sep`: Especifica el separador entre cadenas (por defecto: un espacio blanco)\n",
    "* `end`: Especifica la cadena finalizadora (por defecto: nueva línea)\n",
    "* `flush`: Valor *True* indica que se refresca el buffer de escritura inmediatamente (permite mostrar texto en el momento preciso en que se desee)\n",
    " \n",
    "Caracteres especiales:\n",
    "\n",
    "|Carácter especial|Significado|\n",
    "|:-----:|:------|\n",
    "|\\n|Nueva línea|\n",
    "|\\t|Tabulador|\n",
    "|\\\\'|Comilla simple `'`|\n",
    "|\\\\\"|Comillas dobles `\"`|\n",
    "|\\r|Ir al principio de la línea de texto en pantalla|\n",
    "|\\\\%|Carácter `%`|\n"
   ]
  },
  {
   "cell_type": "code",
   "execution_count": null,
   "metadata": {
    "slideshow": {
     "slide_type": "slide"
    }
   },
   "outputs": [],
   "source": [
    "print('Hola,')\n",
    "print('¿qué tal estás,','amigo mío?')"
   ]
  },
  {
   "cell_type": "code",
   "execution_count": null,
   "metadata": {
    "slideshow": {
     "slide_type": "fragment"
    }
   },
   "outputs": [],
   "source": [
    "print('Hola,',end=' ') # Cambia el finalizador\n",
    "print('¿qué tal estás,','amigo mío?')"
   ]
  },
  {
   "cell_type": "code",
   "execution_count": 1,
   "metadata": {
    "slideshow": {
     "slide_type": "fragment"
    }
   },
   "outputs": [
    {
     "ename": "SyntaxError",
     "evalue": "invalid syntax (<ipython-input-1-4bd72473a671>, line 1)",
     "output_type": "error",
     "traceback": [
      "\u001b[0;36m  File \u001b[0;32m\"<ipython-input-1-4bd72473a671>\"\u001b[0;36m, line \u001b[0;32m1\u001b[0m\n\u001b[0;31m    Escribe una sentencia print que muestre por pantalla cuatro cadenas\u001b[0m\n\u001b[0m              ^\u001b[0m\n\u001b[0;31mSyntaxError\u001b[0m\u001b[0;31m:\u001b[0m invalid syntax\n"
     ]
    }
   ],
   "source": [
    "Escribe una sentencia print que muestre por pantalla cuatro cadenas \n",
    "de caracteres utilizando como separador entre ellas la cadena ', ':"
   ]
  },
  {
   "cell_type": "code",
   "execution_count": null,
   "metadata": {
    "slideshow": {
     "slide_type": "slide"
    }
   },
   "outputs": [],
   "source": [
    "# Ejemplo para mostrar una barra de progreso:\n",
    "from time import sleep \n",
    "\n",
    "sleep(0.4)\n",
    "print('\\r[','#'*1,' '*9,']  10%',sep='',end='',flush=True); sleep(0.4)\n",
    "print('\\r[','#'*2,' '*8,']  20%',sep='',end='',flush=True); sleep(0.4)\n",
    "print('\\r[','#'*3,' '*7,']  30%',sep='',end='',flush=True); sleep(0.4)\n",
    "print('\\r[','#'*4,' '*6,']  40%',sep='',end='',flush=True); sleep(0.4)\n",
    "print('\\r[','#'*5,' '*5,']  50%',sep='',end='',flush=True); sleep(0.4)\n",
    "print('\\r[','#'*6,' '*4,']  60%',sep='',end='',flush=True); sleep(0.4)\n",
    "print('\\r[','#'*7,' '*3,']  70%',sep='',end='',flush=True); sleep(0.4)\n",
    "print('\\r[','#'*8,' '*2,']  80%',sep='',end='',flush=True); sleep(0.4)\n",
    "print('\\r[','#'*9,' '*1,']  90%',sep='',end='',flush=True); sleep(0.4)\n",
    "print('\\r[','#'*10,'] 100%',sep='',flush=True)"
   ]
  },
  {
   "cell_type": "markdown",
   "metadata": {
    "slideshow": {
     "slide_type": "slide"
    }
   },
   "source": [
    "### **Aplicación de formato a cadenas de caracteres:**\n",
    "\n",
    "* Mecanismo basado en el operador `%`\n",
    "* Utilización del método *format*\n",
    "* Cadenas formateadas (*f-strings*)"
   ]
  },
  {
   "cell_type": "markdown",
   "metadata": {
    "slideshow": {
     "slide_type": "slide"
    }
   },
   "source": [
    "#### **Mecanismo basado en el operador `%`**\n",
    "\n",
    "```python\n",
    "print('Cadena que incluye especificadores de conversión %_0, %_1,..., %_n'%(valor0,valor1...,valor_n))\n",
    "```\n",
    "\n",
    "Un especificador de conversión contiene dos o más caracteres con los siguientes componentes en orden:\n",
    "\n",
    "1. Carácter `%`: inicio del especificador\n",
    "2. Clave (opcional): variable que se desea imprimir, colocada entre paréntesis (útil con diccionarios)\n",
    "3. Etiqueta (opcional): afecta a la forma en que se muestran algunos tipos de datos\n",
    "4. Anchura mínima del campo de texto (opcional)\n",
    "5. Precisión (opcional): `.X`, donde `X` es el número de cifras decimales\n",
    "6. Modificador de longitud (opcional)\n",
    "7. Tipo de conversión (tipo de dato que se desea mostrar)"
   ]
  },
  {
   "cell_type": "markdown",
   "metadata": {
    "slideshow": {
     "slide_type": "slide"
    }
   },
   "source": [
    "|Etiqueta|Significado|\n",
    "|:------:|:----------|\n",
    "|`#`|Utilizar un tipo de conversión alternativo|\n",
    "|`0`|Si el valor es numérico, se rellena con ceros por la izquierda|\n",
    "|`-`|El valor se ajusta hacia la izquierda (predomina sobre la etiqueta `0`)|\n",
    "|` `|Insertar un espacio en blanco antes de una cadena vacía o de un valor numérico de signo positivo|\n",
    "|`+`|Añade el signo ('+' o '-' al valor numérico) (sobreescribe a la etiqueta ` `)|\n"
   ]
  },
  {
   "cell_type": "markdown",
   "metadata": {
    "slideshow": {
     "slide_type": "fragment"
    }
   },
   "source": [
    "\n",
    "|Tipo de conversión|Significado|\n",
    "|:--------:|:----------|\n",
    "|`d`/`i`|Valor entero en formato decimal|\n",
    "|`o`|Valor entero en formato octal|\n",
    "|`x`/`X`|Valor entero en formato hexadecimal (minúsculas/mayúsculas)|\n",
    "|`e`/`E`|Valor real en formato exponencial (minúsculas/mayúsculas)|\n",
    "|`f`/`F`|Valor real en formato decimal (minúsculas/mayúsculas)|\n",
    "|`c`|Carácter (acepta un valor entero o una cadena con un único carácter)|\n",
    "|`r`|Cadena de caracteres (convierte cualquier objeto usando *repr()*)|\n",
    "|`s`|Cadena de caracteres (convierte cualquier objeto usando *str()*)|\n",
    "|`a`|Cadena de caracteres (convierte cualquier objeto usando *ascii()*)|\n",
    "|`%`|Imprime el carácter `%`|\n"
   ]
  },
  {
   "cell_type": "code",
   "execution_count": null,
   "metadata": {
    "slideshow": {
     "slide_type": "slide"
    }
   },
   "outputs": [],
   "source": [
    "a=0x1A    # Valor hexadecimal 1Ah=00011010b=26 \n",
    "r=51.123601\n",
    "str=\"mi cadena\""
   ]
  },
  {
   "cell_type": "markdown",
   "metadata": {
    "slideshow": {
     "slide_type": "fragment"
    }
   },
   "source": [
    "**Valores numéricos y cadena de caracteres**"
   ]
  },
  {
   "cell_type": "code",
   "execution_count": null,
   "metadata": {},
   "outputs": [],
   "source": [
    "print('Número entero: %d \\nNúmero real: %f \\nCadena de caracteres: %s' %(a,r,str))"
   ]
  },
  {
   "cell_type": "markdown",
   "metadata": {
    "slideshow": {
     "slide_type": "slide"
    }
   },
   "source": [
    "**Valores numéricos en campos de 7 caracteres, y precisión de 3 decimales, rellenando con 0s por la izquierda. Cadena en campo de 20 caracteres**"
   ]
  },
  {
   "cell_type": "code",
   "execution_count": null,
   "metadata": {},
   "outputs": [],
   "source": [
    "print('Número Entero: %07d \\nNúmero real: %07.3f \\nCadena de caracteres: %20s' %(a,r,str))"
   ]
  },
  {
   "cell_type": "markdown",
   "metadata": {
    "slideshow": {
     "slide_type": "fragment"
    }
   },
   "source": [
    "**Valor entero en formatos decimal con signo, octal y hexadecimal**"
   ]
  },
  {
   "cell_type": "code",
   "execution_count": null,
   "metadata": {},
   "outputs": [],
   "source": [
    "print (\"Formatos de un valor entero:\")\n",
    "print (\"Decimal: a=%+d; -a=%+d\" %(a,-a))\n",
    "print (\"Octal: a=%o=%05o \\t\\t Octal alternativo: a=%#o=%#05o\"%(a,a,a,a))\n",
    "print (\"Hexadecimal: a=%x=%08X \\t Hexadecimal alternativo: a=%#x=%#08X \"%(a,a,a,a))"
   ]
  },
  {
   "cell_type": "markdown",
   "metadata": {
    "slideshow": {
     "slide_type": "slide"
    }
   },
   "source": [
    "**Valor real en formato decimal y exponencial**"
   ]
  },
  {
   "cell_type": "code",
   "execution_count": 2,
   "metadata": {},
   "outputs": [
    {
     "name": "stdout",
     "output_type": "stream",
     "text": [
      "Formatos de un valor real: \n"
     ]
    },
    {
     "ename": "TypeError",
     "evalue": "not enough arguments for format string",
     "output_type": "error",
     "traceback": [
      "\u001b[0;31m---------------------------------------------------------------------------\u001b[0m",
      "\u001b[0;31mTypeError\u001b[0m                                 Traceback (most recent call last)",
      "\u001b[0;32m<ipython-input-2-1c9c48624414>\u001b[0m in \u001b[0;36m<module>\u001b[0;34m\u001b[0m\n\u001b[1;32m      1\u001b[0m \u001b[0mprint\u001b[0m\u001b[0;34m(\u001b[0m\u001b[0;34m\"Formatos de un valor real: \"\u001b[0m\u001b[0;34m)\u001b[0m\u001b[0;34m\u001b[0m\u001b[0;34m\u001b[0m\u001b[0m\n\u001b[1;32m      2\u001b[0m \u001b[0;31m# Corrige la instrucción siguiente para que  muestre r con dos cifras decimales\u001b[0m\u001b[0;34m\u001b[0m\u001b[0;34m\u001b[0m\u001b[0;34m\u001b[0m\u001b[0m\n\u001b[0;32m----> 3\u001b[0;31m \u001b[0mprint\u001b[0m\u001b[0;34m(\u001b[0m\u001b[0;34m\"Decimal: r=%f\"\u001b[0m\u001b[0;34m%\u001b[0m\u001b[0;34m(\u001b[0m\u001b[0;34m)\u001b[0m\u001b[0;34m)\u001b[0m\u001b[0;34m\u001b[0m\u001b[0;34m\u001b[0m\u001b[0m\n\u001b[0m\u001b[1;32m      4\u001b[0m \u001b[0mprint\u001b[0m\u001b[0;34m(\u001b[0m\u001b[0;34m\"Exponencial: r=%.2e=%.2E\"\u001b[0m\u001b[0;34m%\u001b[0m\u001b[0;34m(\u001b[0m\u001b[0mr\u001b[0m\u001b[0;34m,\u001b[0m\u001b[0mr\u001b[0m\u001b[0;34m)\u001b[0m\u001b[0;34m)\u001b[0m\u001b[0;34m\u001b[0m\u001b[0;34m\u001b[0m\u001b[0m\n",
      "\u001b[0;31mTypeError\u001b[0m: not enough arguments for format string"
     ]
    }
   ],
   "source": [
    "print(\"Formatos de un valor real: \")\n",
    "# Corrige la instrucción siguiente para que  muestre r con dos cifras decimales\n",
    "print(\"Decimal: r=%f\"%())   \n",
    "print(\"Exponencial: r=%.2e=%.2E\"%(r,r))"
   ]
  },
  {
   "cell_type": "markdown",
   "metadata": {
    "slideshow": {
     "slide_type": "slide"
    }
   },
   "source": [
    "#### **Utilización del método *format***\n",
    "`cadena.format(cadena_0[,...,cadena_n])`"
   ]
  },
  {
   "cell_type": "code",
   "execution_count": null,
   "metadata": {
    "slideshow": {
     "slide_type": "fragment"
    }
   },
   "outputs": [],
   "source": [
    "print(f'Me llamo {} y tengo {} años'.format('Julia',14))"
   ]
  },
  {
   "cell_type": "code",
   "execution_count": null,
   "metadata": {
    "slideshow": {
     "slide_type": "slide"
    }
   },
   "outputs": [],
   "source": [
    "valor0='10'\n",
    "valor1=11\n",
    "print('Muestro tres valores: {0}, {1} y {2}'.format(valor0,valor1,'hola'))"
   ]
  },
  {
   "cell_type": "code",
   "execution_count": null,
   "metadata": {
    "slideshow": {
     "slide_type": "fragment"
    }
   },
   "outputs": [],
   "source": [
    "print('Los mismos valores en otro orden: {2}, {0} y {1}'.format(valor0,valor1,'hola'))"
   ]
  },
  {
   "cell_type": "code",
   "execution_count": null,
   "metadata": {
    "slideshow": {
     "slide_type": "fragment"
    }
   },
   "outputs": [],
   "source": [
    "print('Otra manera de formatear cadenas: {nombre} {apellido}'.format(nombre='Andrea',apellido='del Canto'))"
   ]
  },
  {
   "cell_type": "code",
   "execution_count": null,
   "metadata": {
    "slideshow": {
     "slide_type": "fragment"
    }
   },
   "outputs": [],
   "source": [
    "print('Se puede mezclar formatos: {nombre} {apellido} tiene {0} años'.format(21,nombre='Rogelio',apellido='Rodríguez'))"
   ]
  },
  {
   "cell_type": "markdown",
   "metadata": {
    "slideshow": {
     "slide_type": "slide"
    }
   },
   "source": [
    "#### **Cadenas formateadas (*f-strings*)**\n",
    "\n",
    "* Una cadena formateada comienza con `f` o `F` antes de las comillas.\n",
    "* Admite el uso de expresiones indicadas entre llaves `{ }`     \n",
    "     `f'Ejemplo: {expresion1}, {expresion2}`\n",
    "* Se puede indicar un **especificador de formato** a cada expresión después del carácter `:`   \n",
    "    * valor entero (`:xd`): representación con un mínimo de *x* columnas \n",
    "    * valor decimal (`:x.yf`): *x* columnas, *y* posiciones decimales\n",
    "    * Rellenar con 0s por la izquierda: `:0xd`, `:0x.yf`\n",
    "* **Otros modificadores**:     \n",
    "    * `!a` aplica la función *ascii()* (convertir a formato representable en código ASCII)\n",
    "    * `!s` aplica la función *str()* (convertir a cadena de caracteres)\n",
    "    * `!r` aplica la función *repr()* (imprime la información que representa a un objeto)"
   ]
  },
  {
   "cell_type": "code",
   "execution_count": null,
   "metadata": {
    "slideshow": {
     "slide_type": "slide"
    }
   },
   "outputs": [],
   "source": [
    "f'Número entero con 5 columnas y ceros por la izquierda: {-1:05d}'"
   ]
  },
  {
   "cell_type": "code",
   "execution_count": null,
   "metadata": {
    "slideshow": {
     "slide_type": "fragment"
    }
   },
   "outputs": [],
   "source": [
    "f'Valor literal:{5.2622:05.2f}' # Se representa el resultado con al menos 5 caracteres"
   ]
  },
  {
   "cell_type": "code",
   "execution_count": 3,
   "metadata": {
    "slideshow": {
     "slide_type": "fragment"
    }
   },
   "outputs": [
    {
     "ename": "SyntaxError",
     "evalue": "invalid syntax (<fstring>, line 1)",
     "output_type": "error",
     "traceback": [
      "\u001b[0;36m  File \u001b[0;32m\"<fstring>\"\u001b[0;36m, line \u001b[0;32m1\u001b[0m\n\u001b[0;31m    (rellena esto)\u001b[0m\n\u001b[0m                ^\u001b[0m\n\u001b[0;31mSyntaxError\u001b[0m\u001b[0;31m:\u001b[0m invalid syntax\n"
     ]
    }
   ],
   "source": [
    "valor=5\n",
    "# Corrige la expresión siguiente para que la cadena de caracteres \n",
    "# muestre la información correcta correspondiente a la variable valor\n",
    "f'El cuadrado de {rellena esto} es {y esto}'"
   ]
  },
  {
   "cell_type": "code",
   "execution_count": null,
   "metadata": {
    "slideshow": {
     "slide_type": "fragment"
    }
   },
   "outputs": [],
   "source": [
    "día=15\n",
    "mes=1\n",
    "año=2020\n",
    "print(f'Hoy es: {día:02}/{mes:02}/{año}')  "
   ]
  },
  {
   "cell_type": "code",
   "execution_count": null,
   "metadata": {
    "slideshow": {
     "slide_type": "fragment"
    }
   },
   "outputs": [],
   "source": [
    "numero_0=23.4\n",
    "print(f'Número: {numero_0!s}')"
   ]
  },
  {
   "cell_type": "markdown",
   "metadata": {
    "slideshow": {
     "slide_type": "slide"
    }
   },
   "source": [
    "## 2.3. Entrada de datos por teclado (*input*)\n",
    "\n",
    "Lectura de una cadena de texto introducida desde el teclado\n",
    "\n",
    "```python\n",
    "input([<prompt>])\n",
    "```\n",
    "Argumento:\n",
    "* `<prompt>` (optativo): Cadena de caracteres que se muestra para indicar que el sistema permanece a la espera de entrada de datos por teclado\n",
    "\n",
    "`input` devuelve una cadena de caracteres. En caso necesario, ha de convertirse al formato apropiado (*int(), float(), complex()*)"
   ]
  },
  {
   "cell_type": "code",
   "execution_count": 4,
   "metadata": {
    "slideshow": {
     "slide_type": "slide"
    }
   },
   "outputs": [
    {
     "ename": "SyntaxError",
     "evalue": "invalid syntax (<ipython-input-4-db07e479c8a5>, line 2)",
     "output_type": "error",
     "traceback": [
      "\u001b[0;36m  File \u001b[0;32m\"<ipython-input-4-db07e479c8a5>\"\u001b[0;36m, line \u001b[0;32m2\u001b[0m\n\u001b[0;31m    edad= Pon aquí una instrucción para preguntar la edad (número entero)\u001b[0m\n\u001b[0m                 ^\u001b[0m\n\u001b[0;31mSyntaxError\u001b[0m\u001b[0;31m:\u001b[0m invalid syntax\n"
     ]
    }
   ],
   "source": [
    "nombre=input('¿Cómo te llamas?')\n",
    "edad= Pon aquí una instrucción para preguntar la edad (número entero)\n",
    "altura=float(input('¿Cuánto mides (metros)?'))\n",
    "cplx=complex(input('Escribe un número complejo (a+bj):'))"
   ]
  },
  {
   "cell_type": "code",
   "execution_count": 5,
   "metadata": {
    "slideshow": {
     "slide_type": "fragment"
    }
   },
   "outputs": [
    {
     "ename": "SyntaxError",
     "evalue": "invalid syntax (<ipython-input-5-d03d50d9f042>, line 2)",
     "output_type": "error",
     "traceback": [
      "\u001b[0;36m  File \u001b[0;32m\"<ipython-input-5-d03d50d9f042>\"\u001b[0;36m, line \u001b[0;32m2\u001b[0m\n\u001b[0;31m    print(Pon aquí una f-string para imprimir el valor de cplx)\u001b[0m\n\u001b[0m                 ^\u001b[0m\n\u001b[0;31mSyntaxError\u001b[0m\u001b[0;31m:\u001b[0m invalid syntax\n"
     ]
    }
   ],
   "source": [
    "print(f'Hola, {nombre}: tienes {edad} años y mides {altura:.2f} metros')\n",
    "print(Pon aquí una f-string para imprimir el valor de cplx)"
   ]
  },
  {
   "cell_type": "markdown",
   "metadata": {
    "slideshow": {
     "slide_type": "slide"
    }
   },
   "source": [
    "## 2.4. Instrucciones de selección\n",
    "\n",
    "```python\n",
    "if\n",
    "if...else\n",
    "escalera elif\n",
    "```\n",
    "\n",
    "* Permiten ejecutar bloques de código diferentes dependiendo del cumplimiento de una condición\n",
    "* Una condición es una expresión cuyo resultado puede ser `True` o `False`\n",
    "* Un bloque se identifica porque todas sus instrucciones están indentadas hacia la derecha con respecto a la propia instrucción de selección\n"
   ]
  },
  {
   "cell_type": "markdown",
   "metadata": {
    "slideshow": {
     "slide_type": "slide"
    }
   },
   "source": [
    "## Instrucciones de selección: *if*"
   ]
  },
  {
   "cell_type": "markdown",
   "metadata": {},
   "source": [
    "```python\n",
    "if condición:\n",
    "    # Si condición==True, se ejecutan las instrucciones_T \n",
    "    instrucción_T0\n",
    "    instrucción_T1\n",
    "    ...\n",
    "    instrucción_Tn\n",
    "```"
   ]
  },
  {
   "cell_type": "code",
   "execution_count": 6,
   "metadata": {
    "slideshow": {
     "slide_type": "fragment"
    }
   },
   "outputs": [
    {
     "ename": "SyntaxError",
     "evalue": "invalid syntax (<ipython-input-6-4d0314d096e9>, line 6)",
     "output_type": "error",
     "traceback": [
      "\u001b[0;36m  File \u001b[0;32m\"<ipython-input-6-4d0314d096e9>\"\u001b[0;36m, line \u001b[0;32m6\u001b[0m\n\u001b[0;31m    Pon aquí una instrucción que utilice una f-string\u001b[0m\n\u001b[0m           ^\u001b[0m\n\u001b[0;31mSyntaxError\u001b[0m\u001b[0;31m:\u001b[0m invalid syntax\n"
     ]
    }
   ],
   "source": [
    "num=float(input('Numerador?'))\n",
    "den=float(input('Denominador?'))\n",
    "\n",
    "if den!=0:\n",
    "    resultado=num/den\n",
    "    Pon aquí una instrucción que utilice una f-string \n",
    "    para mostrar con dos decimales el resultado de la operación con dos decimales\n",
    "\n",
    "if den==0:\n",
    "    print ('Error de división: El denominador es 0')"
   ]
  },
  {
   "cell_type": "code",
   "execution_count": 7,
   "metadata": {
    "slideshow": {
     "slide_type": "slide"
    }
   },
   "outputs": [
    {
     "ename": "SyntaxError",
     "evalue": "invalid syntax (<ipython-input-7-0fb1ca692b15>, line 9)",
     "output_type": "error",
     "traceback": [
      "\u001b[0;36m  File \u001b[0;32m\"<ipython-input-7-0fb1ca692b15>\"\u001b[0;36m, line \u001b[0;32m9\u001b[0m\n\u001b[0;31m    Pon aquí una instrucción if cuya condición sea: a es igual a b\u001b[0m\n\u001b[0m           ^\u001b[0m\n\u001b[0;31mSyntaxError\u001b[0m\u001b[0;31m:\u001b[0m invalid syntax\n"
     ]
    }
   ],
   "source": [
    "'''Comprobar el signo del resultado de una operación entre enteros'''\n",
    "a=int(input('valor entero a?'))\n",
    "b=int(input('valor entero b?'))\n",
    "\n",
    "if a-b>0:\n",
    "    print(f'{a}-{b} es un valor positivo')\n",
    "if a-b<0:\n",
    "    print(f'{a}-{b} es un valor negativo')\n",
    "Pon aquí una instrucción if cuya condición sea: a es igual a b\n",
    "    print(f'{a}-{b} es cero')"
   ]
  },
  {
   "cell_type": "code",
   "execution_count": 8,
   "metadata": {
    "slideshow": {
     "slide_type": "fragment"
    }
   },
   "outputs": [
    {
     "ename": "SyntaxError",
     "evalue": "invalid syntax (<ipython-input-8-b78948fe9e8f>, line 6)",
     "output_type": "error",
     "traceback": [
      "\u001b[0;36m  File \u001b[0;32m\"<ipython-input-8-b78948fe9e8f>\"\u001b[0;36m, line \u001b[0;32m6\u001b[0m\n\u001b[0;31m    Pon aquí una instrucción if cuya condición sea: valor no es un número par\u001b[0m\n\u001b[0m           ^\u001b[0m\n\u001b[0;31mSyntaxError\u001b[0m\u001b[0;31m:\u001b[0m invalid syntax\n"
     ]
    }
   ],
   "source": [
    "'''Comprobar si un entero es par o impar'''\n",
    "valor=int(input('Escribe un número entero:'))\n",
    "\n",
    "if valor%2==0: # comprueba si el resto de la división entre 2 es 0\n",
    "    print (f'{valor} es un número PAR')\n",
    "Pon aquí una instrucción if cuya condición sea: valor no es un número par\n",
    "    print (f'{valor} es un número IMPAR')"
   ]
  },
  {
   "cell_type": "markdown",
   "metadata": {
    "slideshow": {
     "slide_type": "slide"
    }
   },
   "source": [
    "## Instrucciones de selección: *if...else*"
   ]
  },
  {
   "cell_type": "markdown",
   "metadata": {},
   "source": [
    "```python\n",
    "if condición:\n",
    "    # Si condición==True, se ejecutan las instrucciones_T \n",
    "    instrucción_T0\n",
    "    instrucción_T1\n",
    "    ...\n",
    "    instrucción_Tn\n",
    "else:\n",
    "    # Si condición==False, se ejecutan las instrucciones_F \n",
    "    instrucción_F0\n",
    "    instrucción_F1\n",
    "    ...\n",
    "    instrucción_Fn\n",
    "```"
   ]
  },
  {
   "cell_type": "code",
   "execution_count": 9,
   "metadata": {
    "slideshow": {
     "slide_type": "slide"
    }
   },
   "outputs": [
    {
     "ename": "SyntaxError",
     "evalue": "invalid syntax (<ipython-input-9-fad3cf8e17c6>, line 3)",
     "output_type": "error",
     "traceback": [
      "\u001b[0;36m  File \u001b[0;32m\"<ipython-input-9-fad3cf8e17c6>\"\u001b[0;36m, line \u001b[0;32m3\u001b[0m\n\u001b[0;31m    Pon aquí dos instrucciones para preguntar los valores\u001b[0m\n\u001b[0m           ^\u001b[0m\n\u001b[0;31mSyntaxError\u001b[0m\u001b[0;31m:\u001b[0m invalid syntax\n"
     ]
    }
   ],
   "source": [
    "'''División de números reales'''\n",
    "\n",
    "Pon aquí dos instrucciones para preguntar los valores \n",
    "de dos números reales (float): num y den (serán el numerador y \n",
    "el denominador de la división, respectivamente)\n",
    "    \n",
    "if den!=0:\n",
    "    resultado=num/den\n",
    "    print (f'{num}/{den}={resultado:.2f}')\n",
    "else:\n",
    "    print ('Error de división: El denominador es 0')"
   ]
  },
  {
   "cell_type": "code",
   "execution_count": 10,
   "metadata": {
    "slideshow": {
     "slide_type": "slide"
    }
   },
   "outputs": [
    {
     "ename": "SyntaxError",
     "evalue": "invalid syntax (<ipython-input-10-493af92f5543>, line 2)",
     "output_type": "error",
     "traceback": [
      "\u001b[0;36m  File \u001b[0;32m\"<ipython-input-10-493af92f5543>\"\u001b[0;36m, line \u001b[0;32m2\u001b[0m\n\u001b[0;31m    Copia el código anterior y modifícalo para que funcione con\u001b[0m\n\u001b[0m           ^\u001b[0m\n\u001b[0;31mSyntaxError\u001b[0m\u001b[0;31m:\u001b[0m invalid syntax\n"
     ]
    }
   ],
   "source": [
    "'''División de números complejos'''\n",
    "Copia el código anterior y modifícalo para que funcione con \n",
    "números complejos"
   ]
  },
  {
   "cell_type": "code",
   "execution_count": 11,
   "metadata": {
    "slideshow": {
     "slide_type": "slide"
    }
   },
   "outputs": [
    {
     "ename": "SyntaxError",
     "evalue": "invalid syntax (<ipython-input-11-dff273f8686c>, line 5)",
     "output_type": "error",
     "traceback": [
      "\u001b[0;36m  File \u001b[0;32m\"<ipython-input-11-dff273f8686c>\"\u001b[0;36m, line \u001b[0;32m5\u001b[0m\n\u001b[0;31m    Pon aquí el código adecuado para que si (if) la variable edad es mayor o igual que 18 años,\u001b[0m\n\u001b[0m           ^\u001b[0m\n\u001b[0;31mSyntaxError\u001b[0m\u001b[0;31m:\u001b[0m invalid syntax\n"
     ]
    }
   ],
   "source": [
    "'''Comprobación del derecho a voto en España'''\n",
    "\n",
    "edad=int(input('Cuántos años tienes?'))\n",
    "\n",
    "Pon aquí el código adecuado para que si (if) la variable edad es mayor o igual que 18 años, \n",
    "entonces a la variable derecho_Voto se le asigne el valor True. En caso contrario (else), se le\n",
    "asignará el valor False\n",
    "\n",
    "print(f'Tu derecho a votar es {derecho_Voto}')"
   ]
  },
  {
   "cell_type": "code",
   "execution_count": 12,
   "metadata": {
    "slideshow": {
     "slide_type": "fragment"
    }
   },
   "outputs": [
    {
     "name": "stdout",
     "output_type": "stream",
     "text": [
      "Escribe los valores de los coeficientes de la ecuación ax+b=0\n"
     ]
    },
    {
     "name": "stdin",
     "output_type": "stream",
     "text": [
      "a? 1\n",
      "b? 2\n"
     ]
    },
    {
     "name": "stdout",
     "output_type": "stream",
     "text": [
      "La solución de 1.0*x+2.0=0 es x=-2.0\n"
     ]
    }
   ],
   "source": [
    "'''Resolución ecuación de primer grado ax+b=0'''\n",
    "\n",
    "print('Escribe los valores de los coeficientes de la ecuación ax+b=0')\n",
    "a=float(input('a?'))\n",
    "b=float(input('b?'))\n",
    "\n",
    "if a!=0:\n",
    "    sol=-b/a\n",
    "    print (f'La solución de {a}*x{b:+}=0 es x={sol:.3}')\n",
    "else:\n",
    "    print (f'{a}*x{b:+}=0 no es una ecuación')"
   ]
  },
  {
   "cell_type": "code",
   "execution_count": 13,
   "metadata": {
    "slideshow": {
     "slide_type": "slide"
    }
   },
   "outputs": [
    {
     "ename": "SyntaxError",
     "evalue": "invalid syntax (<ipython-input-13-4a2b7f26ffce>, line 17)",
     "output_type": "error",
     "traceback": [
      "\u001b[0;36m  File \u001b[0;32m\"<ipython-input-13-4a2b7f26ffce>\"\u001b[0;36m, line \u001b[0;32m17\u001b[0m\n\u001b[0;31m    Pon aquí el código adecuado para que:\u001b[0m\n\u001b[0m           ^\u001b[0m\n\u001b[0;31mSyntaxError\u001b[0m\u001b[0;31m:\u001b[0m invalid syntax\n"
     ]
    }
   ],
   "source": [
    "'''Resolución ecuación de segundo grado ax^2+bx+c=0'''\n",
    "''' x0=(-b+sqrt(b^2-4ac))/(2a)'''\n",
    "''' x1=(-b-sqrt(b^2-4ac))/(2a)'''\n",
    "\n",
    "from math import sqrt   #importar la función raíz cuadrada\n",
    "\n",
    "print('Escribe los valores de los coeficientes de la ecuación ax^2+bx+c=0')\n",
    "a=float(input('a?'))\n",
    "b=float(input('b?'))\n",
    "c=float(input('c?'))\n",
    "\n",
    "if a!=0:\n",
    "    x0=(-b+(sqrt(b**2-4*a*c)))/(2*a)\n",
    "    x1=(-b-(sqrt(b**2-4*a*c)))/(2*a)\n",
    "    print (f'Soluciones ecuación 2o grado: x0={x0:.2}; x1={x1:.2}')\n",
    "else:\n",
    "    Pon aquí el código adecuado para que: \n",
    "    Si la variable b es distinta de 0, \n",
    "        entonces se imprime con dos decimales la solución,\n",
    "        que corresponde a la ecuación bx+c=0 (de primer grado). \n",
    "    Si no,\n",
    "        se imprime el mensaje 'Los coeficientes no corresponden a una ecuación'                                    )\n",
    "    "
   ]
  },
  {
   "cell_type": "markdown",
   "metadata": {
    "slideshow": {
     "slide_type": "fragment"
    }
   },
   "source": [
    "Nota: Comprueba que al resolver $x^2+2x+3=0$ se genera un error ¿Por qué? (*soluciones complejas*)"
   ]
  },
  {
   "cell_type": "code",
   "execution_count": null,
   "metadata": {
    "slideshow": {
     "slide_type": "slide"
    }
   },
   "outputs": [],
   "source": [
    "# '''Resolución ecuación de segundo grado ax^2+bx+c=0'''\n",
    "'''(versión mejorada)'''\n",
    "''' x0=(-b+sqrt(b^2-4ac))/(2a)'''\n",
    "''' x1=(-b-sqrt(b^2-4ac))/(2a)'''\n",
    "\n",
    "from math import sqrt   #importar la función raíz cuadrada\n",
    "\n",
    "print('Escribe los valores de los coeficientes de la ecuación ax^2+bx+c=0')\n",
    "a=float(input('a?'))\n",
    "b=float(input('b?'))\n",
    "c=float(input('c?'))\n",
    "\n",
    "if a!=0:\n",
    "    if b**2-4*a*c>=0:\n",
    "        x0=(-b+(sqrt(b**2-4*a*c)))/(2*a)\n",
    "        x1=(-b-(sqrt(b**2-4*a*c)))/(2*a)\n",
    "        if (x0!=x1):\n",
    "            print (f'Soluciones ecuación 2o grado: x0={x0:.2}; x1={x1:.2}')\n",
    "        else:\n",
    "            print (f'Soluciones ecuación 2o grado: x0=x1={x0:.2}')\n",
    "    else:\n",
    "        print ('Las soluciones de la ecuación son valores complejos')\n",
    "else:\n",
    "    if b!=0:\n",
    "        sol=-c/b\n",
    "        print (f'Solución ecuación 1er grado: x={sol:.2}')\n",
    "    else:\n",
    "        print ('Los coeficientes no corresponden a una ecuación')"
   ]
  },
  {
   "cell_type": "markdown",
   "metadata": {
    "slideshow": {
     "slide_type": "slide"
    }
   },
   "source": [
    "## Ejemplo: Calcular el mayor de 3 valores "
   ]
  },
  {
   "cell_type": "code",
   "execution_count": null,
   "metadata": {},
   "outputs": [],
   "source": [
    "'''Obtener el mayor de tres valores'''\n",
    "a=float(input('a?'))\n",
    "b=float(input('b?'))\n",
    "c=float(input('c?'))\n",
    "\n",
    "if a>b:\n",
    "    if a>c:\n",
    "        mayor=a\n",
    "    else:\n",
    "        mayor=c\n",
    "else:\n",
    "    if b>c:\n",
    "        mayor=b\n",
    "    else:\n",
    "        mayor=c\n",
    "print (f'El valor más alto es {mayor}')"
   ]
  },
  {
   "cell_type": "code",
   "execution_count": null,
   "metadata": {
    "slideshow": {
     "slide_type": "slide"
    }
   },
   "outputs": [],
   "source": [
    "'''Obtener el mayor de tres valores (alternativa)'''\n",
    "a=float(input('a?'))\n",
    "b=float(input('b?'))\n",
    "c=float(input('c?'))\n",
    "\n",
    "if a>b and a>c:\n",
    "    mayor=a\n",
    "else:\n",
    "    if b>c:\n",
    "        mayor=b\n",
    "    else:\n",
    "        mayor=c\n",
    "print (f'El valor más alto es {mayor}')"
   ]
  },
  {
   "cell_type": "code",
   "execution_count": null,
   "metadata": {
    "slideshow": {
     "slide_type": "slide"
    }
   },
   "outputs": [],
   "source": [
    "'''Obtener el mayor de tres valores (alternativa 2)'''\n",
    "a=float(input('a?'))\n",
    "b=float(input('b?'))\n",
    "c=float(input('c?'))\n",
    "\n",
    "mayor=a\n",
    "if b>mayor:\n",
    "    mayor=b\n",
    "if c>mayor:\n",
    "    mayor=c\n",
    "print (f'El valor más alto es {mayor}')    "
   ]
  },
  {
   "cell_type": "markdown",
   "metadata": {
    "slideshow": {
     "slide_type": "slide"
    }
   },
   "source": [
    "## Ejemplo: Programa con menú de opciones"
   ]
  },
  {
   "cell_type": "code",
   "execution_count": null,
   "metadata": {
    "slideshow": {
     "slide_type": "fragment"
    }
   },
   "outputs": [],
   "source": [
    "cadena=input('Escribe una frase:')"
   ]
  },
  {
   "cell_type": "code",
   "execution_count": null,
   "metadata": {
    "slideshow": {
     "slide_type": "fragment"
    }
   },
   "outputs": [],
   "source": [
    "titulo='MENU DE OPERACIONES POSIBLES'\n",
    "num_letras_titulo=len(titulo) # Calcula la longitud de la cadena titulo"
   ]
  },
  {
   "cell_type": "code",
   "execution_count": null,
   "metadata": {
    "slideshow": {
     "slide_type": "fragment"
    }
   },
   "outputs": [],
   "source": [
    "print (titulo)\n",
    "print ('='*num_letras_titulo)\n",
    "print ('a. Convertir a Mayúsculas')\n",
    "print ('b. Convertir a minúsculas')\n",
    "print ('c. Convertir a tipo Título')\n",
    "print ('Resto de opciones: contar número de letras de la frase')"
   ]
  },
  {
   "cell_type": "code",
   "execution_count": null,
   "metadata": {
    "slideshow": {
     "slide_type": "slide"
    }
   },
   "outputs": [],
   "source": [
    "operacion=input('Elija su opción:')\n",
    "\n",
    "Completa el programa utilizando una estructura if..else..if\n",
    "para que se ejecute la opción elegida por el usuario, \n",
    "disponible en la variable operación\n"
   ]
  },
  {
   "cell_type": "markdown",
   "metadata": {
    "slideshow": {
     "slide_type": "slide"
    }
   },
   "source": [
    "## Instrucciones de selección: escalera *elif*"
   ]
  },
  {
   "cell_type": "markdown",
   "metadata": {},
   "source": [
    "<div align=\"center\"> \n",
    "<img src=\"./figuras_Python_2/elif_ladder.png\" width=\"700\" />\n",
    "</div> "
   ]
  },
  {
   "cell_type": "markdown",
   "metadata": {
    "slideshow": {
     "slide_type": "slide"
    }
   },
   "source": [
    "## Ejemplo: gestión de opciones de menú utilizando la escalera *elif*"
   ]
  },
  {
   "cell_type": "code",
   "execution_count": null,
   "metadata": {},
   "outputs": [],
   "source": [
    "operacion=input('Elija su opción:')\n",
    "\n",
    "if operacion=='a':\n",
    "    print (cadena.upper())\n",
    "elif operacion=='b':\n",
    "    print(cadena.lower())\n",
    "elif operacion=='c':\n",
    "    print(cadena.title())\n",
    "else:\n",
    "    print(f'Tu frase tiene {len(cadena)} caracteres')"
   ]
  },
  {
   "cell_type": "markdown",
   "metadata": {
    "slideshow": {
     "slide_type": "slide"
    }
   },
   "source": [
    "## 2.5. Estructuras de repetición: *while*"
   ]
  },
  {
   "cell_type": "markdown",
   "metadata": {},
   "source": [
    "```python\n",
    "while condición:\n",
    "    # Si condición es True, se ejecutan las instrucciones T\n",
    "    instruccion_T0\n",
    "    instrucción_T1\n",
    "    ...\n",
    "    instrucción_Tn\n",
    "```\n",
    "\n",
    "* Si condición es False, entonces no se ejecutan las instrucciones T (0 iteraciones)\n",
    "* Para que el proceso iterativo finalice, el valor de condición ha de cambiar a False mientras se ejecutan las instrucciones T"
   ]
  },
  {
   "cell_type": "code",
   "execution_count": null,
   "metadata": {
    "slideshow": {
     "slide_type": "fragment"
    }
   },
   "outputs": [],
   "source": [
    "i=0\n",
    "while i<5:\n",
    "    print (i,end='::')\n",
    "    i+=1"
   ]
  },
  {
   "cell_type": "markdown",
   "metadata": {
    "slideshow": {
     "slide_type": "slide"
    }
   },
   "source": [
    "## Control por contador vs control por centinela\n",
    "\n",
    "**Control por contador**:\n",
    "* Una variable (contador) se encarga de contar el número de iteraciones\n",
    "* Se utiliza cuando el número de repeticiones es conocido\n",
    "\n",
    "**Control por centinela**:\n",
    "* El proceso iterativo finaliza cuando una variable (centinela) toma el valor False\n",
    "* Se utiliza cuando el número de repeticiones es desconocido"
   ]
  },
  {
   "cell_type": "markdown",
   "metadata": {
    "slideshow": {
     "slide_type": "slide"
    }
   },
   "source": [
    "## Ejemplo de control por contador"
   ]
  },
  {
   "cell_type": "markdown",
   "metadata": {},
   "source": [
    "**Tabla de multiplicar (5x)**"
   ]
  },
  {
   "cell_type": "code",
   "execution_count": null,
   "metadata": {},
   "outputs": [],
   "source": [
    "j=1 # variable contador\n",
    "while j<=10:\n",
    "    print (f'5 * {j} = {5*j}')\n",
    "    j+=1 "
   ]
  },
  {
   "cell_type": "markdown",
   "metadata": {
    "slideshow": {
     "slide_type": "slide"
    }
   },
   "source": [
    "## Ejemplo de control por centinela"
   ]
  },
  {
   "cell_type": "markdown",
   "metadata": {},
   "source": [
    "**Bucle con número de repeticiones decidido por el usuario**"
   ]
  },
  {
   "cell_type": "code",
   "execution_count": null,
   "metadata": {},
   "outputs": [],
   "source": [
    "n=int(input('Escribe 0 para finalizar: '))\n",
    "\n",
    "while n!=0:  # n es la variable centinela\n",
    "    n=int(input('¿No quieres que finalice aún? (0:salir)')) \n",
    "\n",
    "print ('¡Por fin he salido del bucle!')\n",
    "    "
   ]
  },
  {
   "cell_type": "markdown",
   "metadata": {
    "slideshow": {
     "slide_type": "slide"
    }
   },
   "source": [
    "**¿Qué problema tiene el siguiente programa?**"
   ]
  },
  {
   "cell_type": "code",
   "execution_count": null,
   "metadata": {},
   "outputs": [],
   "source": [
    "letra=input('Pulsa [C] para continuar:')\n",
    "\n",
    "while letra!='C' or letra!='c': #letra es la variable centinela\n",
    "    print ('¡INCORRECTO!')\n",
    "    letra=input('Pulsa [C] para continuar:')\n",
    "\n",
    "print ('¡Muchas gracias!')"
   ]
  },
  {
   "cell_type": "markdown",
   "metadata": {
    "slideshow": {
     "slide_type": "fragment"
    }
   },
   "source": [
    "Solución: Hay un **bucle infinito**.  La condición de permanencia en el bucle es incorrecta: ¿`or`?"
   ]
  },
  {
   "cell_type": "code",
   "execution_count": null,
   "metadata": {
    "slideshow": {
     "slide_type": "fragment"
    }
   },
   "outputs": [],
   "source": [
    "Escribe aquí el código anterior corregido para que se admitan \n",
    "los caracteres 'c' y 'C' como opción para salir del bucle"
   ]
  },
  {
   "cell_type": "markdown",
   "metadata": {
    "slideshow": {
     "slide_type": "slide"
    }
   },
   "source": [
    "## Ejemplo: cálculo de un sumatorio"
   ]
  },
  {
   "cell_type": "markdown",
   "metadata": {},
   "source": [
    "$$\\sum_{i=0}^{i=100}(i+1)^2$$\n",
    "\n",
    "El número de repeticiones es conocido $\\rightarrow$ control por contador"
   ]
  },
  {
   "cell_type": "code",
   "execution_count": null,
   "metadata": {
    "slideshow": {
     "slide_type": "fragment"
    }
   },
   "outputs": [],
   "source": [
    "i=0 # valor inicial del contador\n",
    "suma=0 # Valor inicial de la suma: elemento neutro de la suma\n",
    "\n",
    "Mientras que i sea menor o igual que 100, ejecutar el código:\n",
    "    elemento_i=(i+1)**2\n",
    "    suma+=elemento_i # actualización de la suma parcial\n",
    "    print (f'elemento({i})={elemento_i}\\t suma({i})={suma}')\n",
    "    i+=1 # actualización del contador\n",
    "print (f'Suma total={suma}')"
   ]
  },
  {
   "cell_type": "markdown",
   "metadata": {
    "slideshow": {
     "slide_type": "slide"
    }
   },
   "source": [
    "## Ejemplo: cálculo de $n!$ (solución iterativa)"
   ]
  },
  {
   "cell_type": "markdown",
   "metadata": {},
   "source": [
    "$$n!=\\prod_{j=1}^{j=n}j$$\n",
    "\n",
    "El número de repeticiones es conocido $\\rightarrow$ control por contador"
   ]
  },
  {
   "cell_type": "code",
   "execution_count": null,
   "metadata": {
    "slideshow": {
     "slide_type": "fragment"
    }
   },
   "outputs": [],
   "source": [
    "num=int(input('Introduzca un número entero mayor que 0:')) # Valor inicial del contador\n",
    "prod= # Asigna como valor inicial del resultado el elemento neutro del producto\n",
    "\n",
    "j=num\n",
    "while j>=1:\n",
    "    prod*=j\n",
    "    print (f'{j}', end=' ')\n",
    "    if j!=1:\n",
    "        print ('*', end=' ')\n",
    "    j-=1\n",
    "\n",
    "print (f'= {prod}')"
   ]
  },
  {
   "cell_type": "markdown",
   "metadata": {
    "slideshow": {
     "slide_type": "fragment"
    }
   },
   "source": [
    "**¿Qué ocurre cuando se calcula el valor $0!$?**"
   ]
  },
  {
   "cell_type": "markdown",
   "metadata": {
    "slideshow": {
     "slide_type": "slide"
    }
   },
   "source": [
    "## Cálculo de $n!$ con control del parámetro solicitado por teclado"
   ]
  },
  {
   "cell_type": "code",
   "execution_count": null,
   "metadata": {
    "slideshow": {
     "slide_type": "fragment"
    }
   },
   "outputs": [],
   "source": [
    "num=int(input('Introduzca un número entero mayor que 0:')) # Valor inicial del contador\n",
    "\n",
    "Mientras que num sea menor o igual que 0,\n",
    "    se vuelve a pedir el valor num por teclado\n",
    "\n",
    "prod=1 # Valor inicial del resultado: elemento neutro del producto\n",
    "\n",
    "j=num\n",
    "while j>=1:\n",
    "    prod*=j\n",
    "    print (f'{j}', end=' ')\n",
    "    if j!=1:\n",
    "        print ('*', end=' ')\n",
    "    j-=1\n",
    "\n",
    "print (f'= {prod}')"
   ]
  },
  {
   "cell_type": "markdown",
   "metadata": {
    "slideshow": {
     "slide_type": "slide"
    }
   },
   "source": [
    "## Ejemplo: Elección de una opción de menú\n",
    "\n",
    "Condición de funcionamiento: El menú se vuelve a mostrar si no se elije una opción válida"
   ]
  },
  {
   "cell_type": "code",
   "execution_count": null,
   "metadata": {
    "slideshow": {
     "slide_type": "fragment"
    }
   },
   "outputs": [],
   "source": [
    "titulo='MENÚS DISPONIBLES'\n",
    "longitud_titulo=instrucción que calcula el número de caracteres de titulo\n",
    "plato_0='a. Burger Especial'\n",
    "plato_1='b. Burguer Extra'\n",
    "plato_2='c. Burguer de Pollo'\n",
    "plato_3='d. Ensalada'\n",
    "plato_4='e. Croquetas de Jamón'\n",
    "plato_5='f. Especial de Brócoli'"
   ]
  },
  {
   "cell_type": "code",
   "execution_count": null,
   "metadata": {
    "slideshow": {
     "slide_type": "fragment"
    }
   },
   "outputs": [],
   "source": [
    "opcion='' # Inicialmente no hay ninguna opción seleccionada\n",
    "\n",
    "while opcion!='a' and opcion!='b' and opcion!='c' and \\\n",
    "                      opcion!='d' and opcion!='e' and opcion!='f':\n",
    "    print (titulo)\n",
    "    print ('='*longitud_titulo)\n",
    "    print (plato_0)\n",
    "    print (plato_1)\n",
    "    print (plato_2)\n",
    "    print (plato_3)\n",
    "    print (plato_4)\n",
    "    print (plato_5)\n",
    "    opcion=input('Seleccione su menú:')\n",
    "    \n",
    "print (f'Ha elegido el menú {opcion}. ¡Muchas gracias!')"
   ]
  },
  {
   "cell_type": "markdown",
   "metadata": {
    "slideshow": {
     "slide_type": "slide"
    }
   },
   "source": [
    "**Nota: Las estructuras de datos de tipo *lista* permiten simplificar la comprobación de las opciones válidas:**\n",
    "\n",
    "```python\n",
    "lista_opciones=['a','b','c','d','e','f']\n",
    "```"
   ]
  },
  {
   "cell_type": "code",
   "execution_count": null,
   "metadata": {
    "slideshow": {
     "slide_type": "fragment"
    }
   },
   "outputs": [],
   "source": [
    "opcion='' # Inicialmente, no se ha elegido ninguna opción\n",
    "\n",
    "# Esta lista de opciones incluye también las letras mayúsculas:\n",
    "lista_opciones=['a','b','c','d','e','f', 'A','B','C','D','E','F']\n",
    "\n",
    "while opcion not in lista_opciones:\n",
    "    print (titulo)\n",
    "    print ('='*longitud_titulo)\n",
    "    print (plato_0)\n",
    "    print (plato_1)\n",
    "    print (plato_2)\n",
    "    print (plato_3)\n",
    "    print (plato_4)\n",
    "    print (plato_5)\n",
    "    opcion=input('Seleccione su menú:')\n",
    "    \n",
    "print (f'Ha elegido el menú {opcion.lower()}. ¡Muchas gracias!')"
   ]
  },
  {
   "cell_type": "markdown",
   "metadata": {
    "slideshow": {
     "slide_type": "slide"
    }
   },
   "source": [
    "## Ejemplo: Menú de opciones que se repite hasta que se seleccione la opción *Salir*"
   ]
  },
  {
   "cell_type": "code",
   "execution_count": null,
   "metadata": {},
   "outputs": [],
   "source": [
    "cadena=input('Escribe una frase:')\n",
    "titulo='Qué deseas hacer con tu frase?'\n",
    "longitud_titulo=len(titulo)"
   ]
  },
  {
   "cell_type": "code",
   "execution_count": null,
   "metadata": {
    "slideshow": {
     "slide_type": "fragment"
    }
   },
   "outputs": [],
   "source": [
    "opcion=''\n",
    "\n",
    "Mientras que opción sea distinto de '0': # Nota: '0' porque input devuelve una cadena de texto\n",
    "    print (titulo)\n",
    "    print ('\\t 1. Escribir una frase nueva')\n",
    "    print ('\\t 2. Convertir a mayúsculas')\n",
    "    print ('\\t 3. Convertir a minúsculas')\n",
    "    print ('\\t 4. Convertir a tipo título')\n",
    "    print ('\\t 0. Terminar')\n",
    "    opcion=input('Elige tu opción:')\n",
    "    \n",
    "    Bloque if..elif..else, interno al bucle,\n",
    "    adecuado para ejecutar la opción elegida\n",
    "    (para la opción '0' no hay que hacer nada)"
   ]
  },
  {
   "cell_type": "markdown",
   "metadata": {
    "slideshow": {
     "slide_type": "slide"
    }
   },
   "source": [
    "## 2.6. Estructuras de repetición: *for*"
   ]
  },
  {
   "cell_type": "markdown",
   "metadata": {},
   "source": [
    "```python \n",
    "for variable in conjunto_de_valores:\n",
    "    instrucción_0\n",
    "    instrucción_2\n",
    "    ...\n",
    "    instrucción_N\n",
    "```"
   ]
  },
  {
   "cell_type": "markdown",
   "metadata": {
    "slideshow": {
     "slide_type": "fragment"
    }
   },
   "source": [
    "Si conjunto_de_valores=[elemento_0, elemento_1,..., elemento_n]\n",
    "\n",
    "\n",
    "* **Número de iteraciones: n+1** (número de elementos de conjunto_de_valores)\n",
    "* **Valor de *variable* en cada iteración**:\n",
    "    * Iteración 0: elemento_0 (primer elemento de conjunto_de_valores)\n",
    "    * Iteración 1: elemento_1 (segundo elemento de conjunto_de_valores)     \n",
    "     $\\dots$\n",
    "    * Iteración n+1: elemento_n (último elemento del conjunto de valores)"
   ]
  },
  {
   "cell_type": "code",
   "execution_count": null,
   "metadata": {
    "slideshow": {
     "slide_type": "fragment"
    }
   },
   "outputs": [],
   "source": [
    "lista_profes=['Eugene','Diana','Juan Carlos','Conchi','María Rosa',\\\n",
    "              'Camino','Petri','Jesús']\n",
    "\n",
    "for nombre in lista_profes:\n",
    "    print ('\\t %s' %(nombre))"
   ]
  },
  {
   "cell_type": "markdown",
   "metadata": {
    "slideshow": {
     "slide_type": "slide"
    }
   },
   "source": [
    "**Se puede conocer el número de la iteración en curso convirtiendo una lista a un tipo de datos enumerado:**\n",
    "\n",
    "```python \n",
    "enumerate(lista)\n",
    "```"
   ]
  },
  {
   "cell_type": "code",
   "execution_count": null,
   "metadata": {
    "slideshow": {
     "slide_type": "fragment"
    }
   },
   "outputs": [],
   "source": [
    "for indice,nombre in enumerate(lista_profes):\n",
    "    print ('%d -> %s'%(indice,nombre))"
   ]
  },
  {
   "cell_type": "markdown",
   "metadata": {
    "slideshow": {
     "slide_type": "slide"
    }
   },
   "source": [
    "## Secuencias de números enteros\n",
    "\n",
    "**Números enteros consecutivos**:   \n",
    "\n",
    "`range(v0,v1)` Incluye a v0, pero no a v1\n",
    "\n",
    "**Números enteros con paso k**:\n",
    "\n",
    "`range(v0,v1,k)` Incluye a v0, pero no a v1\n",
    "    \n",
    "* Una secuencia es válida como conjunto de valores para un bucle de tipo for\n",
    "* Una secuencia se puede convertir a lista: ```list(secuencia)```"
   ]
  },
  {
   "cell_type": "code",
   "execution_count": null,
   "metadata": {
    "slideshow": {
     "slide_type": "fragment"
    }
   },
   "outputs": [],
   "source": [
    "secuencia1=range(10,16)\n",
    "print(list(secuencia1))"
   ]
  },
  {
   "cell_type": "code",
   "execution_count": null,
   "metadata": {
    "slideshow": {
     "slide_type": "fragment"
    }
   },
   "outputs": [],
   "source": [
    "secuencia2=range(1,21,3)\n",
    "print(list(secuencia2))"
   ]
  },
  {
   "cell_type": "code",
   "execution_count": null,
   "metadata": {
    "slideshow": {
     "slide_type": "fragment"
    }
   },
   "outputs": [],
   "source": [
    "secuencia3=range(20,-20,-5)\n",
    "print(list(secuencia3))"
   ]
  },
  {
   "cell_type": "markdown",
   "metadata": {
    "slideshow": {
     "slide_type": "slide"
    }
   },
   "source": [
    "## Ejemplo: tabla de multiplicar con bucles for"
   ]
  },
  {
   "cell_type": "code",
   "execution_count": null,
   "metadata": {
    "slideshow": {
     "slide_type": "fragment"
    }
   },
   "outputs": [],
   "source": [
    "n=int(input('De qué número quieres la tabla de multiplicar'))\n",
    "\n",
    "bucle for en el que i toma todos los valores enteros (range) entre 1 y 10, ambos incluidos:\n",
    "    s es el valor de n por el valor de i en la iteración actual \n",
    "    print (f'{n}*{i}={s}')"
   ]
  },
  {
   "cell_type": "markdown",
   "metadata": {
    "slideshow": {
     "slide_type": "slide"
    }
   },
   "source": [
    "## 2.7. Estructuras de repetición: rotura de bucles (*break*)\n",
    "\n",
    "La instrucción `break` sale de un bucle y continúa con la ejecución del programa "
   ]
  },
  {
   "cell_type": "code",
   "execution_count": null,
   "metadata": {
    "slideshow": {
     "slide_type": "fragment"
    }
   },
   "outputs": [],
   "source": [
    "for i in range(0,101):\n",
    "    print (i, end='')\n",
    "    if i>=20:\n",
    "        break\n",
    "    print (', ',end='')\n",
    "print ('\\nFIN')"
   ]
  },
  {
   "cell_type": "markdown",
   "metadata": {
    "slideshow": {
     "slide_type": "slide"
    }
   },
   "source": [
    "## 2.8. Anidamiento de estructuras de repetición"
   ]
  },
  {
   "cell_type": "markdown",
   "metadata": {},
   "source": [
    "```python\n",
    "for v1 in conjunto_1:\n",
    "    # v1 va tomando los valores de conjunto_1 \n",
    "    for v2 in conjunto_2:\n",
    "        # v2 va tomando los valores de conjunto_2\n",
    "```"
   ]
  },
  {
   "cell_type": "code",
   "execution_count": null,
   "metadata": {
    "slideshow": {
     "slide_type": "fragment"
    }
   },
   "outputs": [],
   "source": [
    "for i in ['a','b','c']:\n",
    "    for j in [0,1,2,3,4,5]:\n",
    "        print ('%s%d'%(i,j), end=' ')\n",
    "    print ('\\n')"
   ]
  },
  {
   "cell_type": "markdown",
   "metadata": {
    "slideshow": {
     "slide_type": "slide"
    }
   },
   "source": [
    "## Ejemplo: Imprimir varias tablas de multiplicar"
   ]
  },
  {
   "cell_type": "code",
   "execution_count": null,
   "metadata": {},
   "outputs": [],
   "source": [
    "instrucción for en la que i toma los valores de la lista [2,4,6]:\n",
    "    print (f'Tabla del {i}')\n",
    "    instrucción for en la que j toma todos los valores enteros de range(1,11):\n",
    "        muestra por pantalla el valor de i*j"
   ]
  },
  {
   "cell_type": "markdown",
   "metadata": {
    "slideshow": {
     "slide_type": "slide"
    }
   },
   "source": [
    "## Tratamiento de excepciones: *try...except*"
   ]
  },
  {
   "cell_type": "markdown",
   "metadata": {},
   "source": [
    "La estructura de control `try ... except` simplifica la captura y el tratamiento de excepciones:\n",
    "\n",
    "```python\n",
    "try: # Intenta ejecutar este bloque, susceptible de generar excepciones\n",
    "    instrucción_P1\n",
    "    ...\n",
    "    instrucción_Pn\n",
    "except: # En caso de error de ejecución, ejecuta el bloque siguiente\n",
    "    instrucción_E1\n",
    "    ...\n",
    "    instrucción_E2\n",
    "```\n",
    "\n",
    "\n",
    "Se pueden capturar los diferentes tipos de excepciones que captura el sistema operativo:   \n",
    "\n",
    "* `ValueError`\n",
    "* `ZeroDivisionError`   \n",
    "..."
   ]
  },
  {
   "cell_type": "code",
   "execution_count": null,
   "metadata": {
    "slideshow": {
     "slide_type": "slide"
    }
   },
   "outputs": [],
   "source": [
    "num=float(input('¿Numerador?'))\n",
    "den=float(input('¿Denominador?'))\n",
    "\n",
    "try:\n",
    "    sol=num/den\n",
    "    print (f'{num}/{den}={sol:.2}')\n",
    "except:\n",
    "    if den==0:\n",
    "           print (\"Lo siento, se trata de una división entre 0\")"
   ]
  },
  {
   "cell_type": "markdown",
   "metadata": {
    "slideshow": {
     "slide_type": "slide"
    }
   },
   "source": [
    "## Ejemplo: Ecuación de segundo grado"
   ]
  },
  {
   "cell_type": "code",
   "execution_count": null,
   "metadata": {},
   "outputs": [],
   "source": [
    "'''Resolución ecuación de segundo grado ax^2+bx+c=0'''\n",
    "'''(versión con try...except)'''\n",
    "''' x0=(-b+sqrt(b^2-4ac))/(2a)'''\n",
    "''' x1=(-b-sqrt(b^2-4ac))/(2a)'''\n",
    "\n",
    "from math import sqrt   #importar la función raíz cuadrada\n",
    "\n",
    "print('Escribe los valores de los coeficientes de la ecuación ax^2+bx+c=0')\n",
    "a=float(input('a?'))\n",
    "b=float(input('b?'))\n",
    "c=float(input('c?'))\n",
    "\n",
    "try:\n",
    "    x0=(-b+(sqrt(b**2-4*a*c)))/(2*a)\n",
    "    x1=(-b-(sqrt(b**2-4*a*c)))/(2*a)\n",
    "    if (x0!=x1):\n",
    "        print (f'Soluciones ecuación 2o grado: x0={x0:.2}; x1={x1:.2}')\n",
    "    else:\n",
    "        print (f'Soluciones ecuación 2o grado: x0=x1={x0:.2}')\n",
    "except:\n",
    "    if a==0 and b!=0:  # Es una ecuación de primer grado\n",
    "        sol=-c/b\n",
    "        print (f'Solución ecuación 1er grado: x={sol:.2}')\n",
    "    elif b**2-4*a*c<0:\n",
    "        print ('Las soluciones de la ecuación son valores complejos')\n",
    "    else:\n",
    "        print ('Los coeficientes no corresponden a una ecuación')"
   ]
  },
  {
   "cell_type": "markdown",
   "metadata": {
    "slideshow": {
     "slide_type": "slide"
    }
   },
   "source": [
    "El programa anterior genera  excepciones diferentes cuando intenta resolver las siguientes dos ecuaciones:\n",
    "\n",
    "$4x^2+x+4=0$ $\\rightarrow$ `ValueError`\n",
    "\n",
    "$0x^2+2x+1=0$ $\\rightarrow$ `ZeroDivisionError`"
   ]
  },
  {
   "cell_type": "code",
   "execution_count": null,
   "metadata": {
    "slideshow": {
     "slide_type": "fragment"
    }
   },
   "outputs": [],
   "source": [
    "a=4; b=1; c=4\n",
    "x0=(-b+(sqrt(b**2-4*a*c)))/(2*a)"
   ]
  },
  {
   "cell_type": "code",
   "execution_count": null,
   "metadata": {
    "slideshow": {
     "slide_type": "fragment"
    }
   },
   "outputs": [],
   "source": [
    "a=0; b=2; c=1\n",
    "x0=(-b+(sqrt(b**2-4*a*c)))/(2*a)"
   ]
  },
  {
   "cell_type": "markdown",
   "metadata": {
    "slideshow": {
     "slide_type": "slide"
    }
   },
   "source": [
    "## Ejemplo: Ecuación de segundo grado capturando excepciones *ZeroDivisionError* y *ValueError*"
   ]
  },
  {
   "cell_type": "code",
   "execution_count": null,
   "metadata": {},
   "outputs": [],
   "source": [
    "'''Resolución ecuación de segundo grado ax^2+bx+c=0'''\n",
    "'''(versión con try...except capturando ZeroDivisionError y ValueError)'''\n",
    "''' x0=(-b+sqrt(b^2-4ac))/(2a)'''\n",
    "''' x1=(-b-sqrt(b^2-4ac))/(2a)'''\n",
    "\n",
    "from math import sqrt   #importar la función raíz cuadrada\n",
    "\n",
    "print('Escribe los valores de los coeficientes de la ecuación ax^2+bx+c=0')\n",
    "a=float(input('a?')); b=float(input('b?')); c=float(input('c?'))\n",
    "\n",
    "try:\n",
    "    x0=(-b+(sqrt(b**2-4*a*c)))/(2*a)\n",
    "    x1=(-b-(sqrt(b**2-4*a*c)))/(2*a)\n",
    "    if (x0!=x1):\n",
    "        print (f'Soluciones ecuación 2o grado: x0={x0:.2}; x1={x1:.2}')\n",
    "    else:\n",
    "        print (f'Soluciones ecuación 2o grado: x0=x1={x0:.2}')\n",
    "except ZeroDivisionError:\n",
    "    if a==0 and b!=0:  # Es una ecuación de primer grado\n",
    "        sol=-c/b\n",
    "        print (f'Solución ecuación 1er grado: x={sol:.2}')\n",
    "    else:\n",
    "        print ('Los coeficientes no corresponden a una ecuación')\n",
    "except ValueError:    \n",
    "    if b**2-4*a*c<0:\n",
    "        print ('Las soluciones de la ecuación son valores complejos')\n",
    "except: # Resto de posibles excepciones no especificadas\n",
    "        print ('Se ha detectado un error en tiempo de ejecución')"
   ]
  }
 ],
 "metadata": {
  "kernelspec": {
   "display_name": "Python 3",
   "language": "python",
   "name": "python3"
  },
  "language_info": {
   "codemirror_mode": {
    "name": "ipython",
    "version": 3
   },
   "file_extension": ".py",
   "mimetype": "text/x-python",
   "name": "python",
   "nbconvert_exporter": "python",
   "pygments_lexer": "ipython3",
   "version": "3.7.5"
  }
 },
 "nbformat": 4,
 "nbformat_minor": 4
}
