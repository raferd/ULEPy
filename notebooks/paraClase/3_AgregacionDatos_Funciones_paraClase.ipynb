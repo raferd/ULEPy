{
 "cells": [
  {
   "cell_type": "markdown",
   "metadata": {
    "slideshow": {
     "slide_type": "slide"
    }
   },
   "source": [
    "# 3. Agregaciones de datos\n",
    "   \n",
    "* Cadenas de caracteres\n",
    "* Listas\n",
    "* Tuplas\n",
    "* Diccionarios"
   ]
  },
  {
   "cell_type": "markdown",
   "metadata": {
    "slideshow": {
     "slide_type": "slide"
    }
   },
   "source": [
    "## 3.1 Cadenas de caracteres"
   ]
  },
  {
   "cell_type": "markdown",
   "metadata": {},
   "source": [
    "### Indexación\n",
    "\n",
    "* El primer carácter de una cadena ocupa la posición 0\n",
    "* `str[i]` $\\rightarrow$ carácter situado en la posición `i` de la cadena de caracteres `str`\n",
    "* `str[i:j]` $\\rightarrow$ sub-cadena formada por los caracteres situados entre las posiciones `i` y `j-1` de `str`, ambas incluidas\n",
    "* `str[i:j:k]` $\\rightarrow$ análogo a `str[i:j]`, utilizando paso `k`\n",
    "* Se pueden utilizar índices negativos: `-1` corresponde al último carácter de la cadena"
   ]
  },
  {
   "cell_type": "code",
   "execution_count": null,
   "metadata": {
    "slideshow": {
     "slide_type": "fragment"
    }
   },
   "outputs": [],
   "source": [
    "cadena='@Esta es mi cadena de caracteres.#'"
   ]
  },
  {
   "cell_type": "code",
   "execution_count": null,
   "metadata": {},
   "outputs": [],
   "source": [
    "cadena[0] # Primer carácter"
   ]
  },
  {
   "cell_type": "code",
   "execution_count": null,
   "metadata": {
    "slideshow": {
     "slide_type": "fragment"
    }
   },
   "outputs": [],
   "source": [
    "# Escribe el código para acceder al segundo carácter de la variable cadena:\n",
    "\n"
   ]
  },
  {
   "cell_type": "code",
   "execution_count": null,
   "metadata": {
    "slideshow": {
     "slide_type": "slide"
    }
   },
   "outputs": [],
   "source": [
    "cadena[len(cadena)-1] # Último carácter"
   ]
  },
  {
   "cell_type": "code",
   "execution_count": null,
   "metadata": {
    "slideshow": {
     "slide_type": "fragment"
    }
   },
   "outputs": [],
   "source": [
    "cadena [-1] # Último carácter"
   ]
  },
  {
   "cell_type": "code",
   "execution_count": null,
   "metadata": {
    "slideshow": {
     "slide_type": "fragment"
    }
   },
   "outputs": [],
   "source": [
    "# Escribe el código para acceder al penúltimo carácter de la variable cadena:\n",
    "\n"
   ]
  },
  {
   "cell_type": "code",
   "execution_count": null,
   "metadata": {
    "slideshow": {
     "slide_type": "fragment"
    }
   },
   "outputs": [],
   "source": [
    "cadena[0:5]"
   ]
  },
  {
   "cell_type": "code",
   "execution_count": null,
   "metadata": {
    "slideshow": {
     "slide_type": "fragment"
    }
   },
   "outputs": [],
   "source": [
    "# Escribe el código que selecciona la subcadena 'tere' de la variable cadena utilizando índices negativos solamente:\n"
   ]
  },
  {
   "cell_type": "code",
   "execution_count": null,
   "metadata": {
    "slideshow": {
     "slide_type": "slide"
    }
   },
   "outputs": [],
   "source": [
    "cadena[:] # Todos los elementos de la cadena"
   ]
  },
  {
   "cell_type": "code",
   "execution_count": null,
   "metadata": {
    "slideshow": {
     "slide_type": "fragment"
    }
   },
   "outputs": [],
   "source": [
    "cadena[:10]"
   ]
  },
  {
   "cell_type": "code",
   "execution_count": null,
   "metadata": {
    "slideshow": {
     "slide_type": "fragment"
    }
   },
   "outputs": [],
   "source": [
    "cadena[-7:]"
   ]
  },
  {
   "cell_type": "code",
   "execution_count": null,
   "metadata": {
    "slideshow": {
     "slide_type": "fragment"
    }
   },
   "outputs": [],
   "source": [
    "cadena='ab1cd2ef3gh4ij5kl6mn7op8qr9j'\n",
    "cadena[2:len(cadena):3] # Corte de cadena utilizando paso 3"
   ]
  },
  {
   "cell_type": "markdown",
   "metadata": {
    "slideshow": {
     "slide_type": "slide"
    }
   },
   "source": [
    "## Recorrido por todos los caracteres de una cadena"
   ]
  },
  {
   "cell_type": "code",
   "execution_count": null,
   "metadata": {},
   "outputs": [],
   "source": [
    "mi_cadena='¡Qué pequeño es el mundo!'"
   ]
  },
  {
   "cell_type": "code",
   "execution_count": null,
   "metadata": {
    "slideshow": {
     "slide_type": "fragment"
    }
   },
   "outputs": [],
   "source": [
    "for i in range(len(mi_cadena)):\n",
    "    print (mi_cadena[i], end='..')"
   ]
  },
  {
   "cell_type": "code",
   "execution_count": null,
   "metadata": {
    "slideshow": {
     "slide_type": "fragment"
    }
   },
   "outputs": [],
   "source": [
    "for letra in mi_cadena:  # Forma alternativa de recorrer una cadena\n",
    "    print (letra, end='..')"
   ]
  },
  {
   "cell_type": "markdown",
   "metadata": {
    "slideshow": {
     "slide_type": "slide"
    }
   },
   "source": [
    "### Ejemplo: inversión del orden de una cadena"
   ]
  },
  {
   "cell_type": "code",
   "execution_count": null,
   "metadata": {},
   "outputs": [],
   "source": [
    "str='desserts'\n",
    "\n",
    "for i in range(len(str)-1,-1,-1): # valores de i=[7,6,5,...,1,0]\n",
    "    print(str[i], end='')"
   ]
  },
  {
   "cell_type": "code",
   "execution_count": null,
   "metadata": {
    "slideshow": {
     "slide_type": "fragment"
    }
   },
   "outputs": [],
   "source": [
    "''' Solución sin bucles for'''\n",
    "str1='ALI TOMO TILA'\n",
    "print(str1[-1:-len(str1)-1:-1]) # Invierte los caracteres de cadena"
   ]
  },
  {
   "cell_type": "code",
   "execution_count": null,
   "metadata": {
    "slideshow": {
     "slide_type": "fragment"
    }
   },
   "outputs": [],
   "source": [
    "'''Crear una cadena que contenga el resultado de invertir a str2'''\n",
    "str2='DABALE ARROZ A LA ZORRA EL ABAD'\n",
    "reverse_str=''  # La solucion está vacía al principio\n",
    "for i in range(len(str2)-1,-1,-1):\n",
    "    reverse_str+=str2[i]  # Concatena a la solución el carácter str[i]\n",
    "\n",
    "print(reverse_str)"
   ]
  },
  {
   "cell_type": "markdown",
   "metadata": {
    "slideshow": {
     "slide_type": "slide"
    }
   },
   "source": [
    "### Ejemplo: contar espacios en blanco"
   ]
  },
  {
   "cell_type": "code",
   "execution_count": null,
   "metadata": {
    "slideshow": {
     "slide_type": "fragment"
    }
   },
   "outputs": [],
   "source": [
    "str='Tengo 4 espacios en blanco'\n",
    "\n",
    "num_blancos=0\n",
    "for letra in str:\n",
    "    if letra==' ':\n",
    "        num_blancos+=1\n",
    "print (f'Número de blancos: {num_blancos}')"
   ]
  },
  {
   "cell_type": "markdown",
   "metadata": {
    "slideshow": {
     "slide_type": "slide"
    }
   },
   "source": [
    "### Ejemplo: contar palabras"
   ]
  },
  {
   "cell_type": "code",
   "execution_count": null,
   "metadata": {
    "slideshow": {
     "slide_type": "fragment"
    }
   },
   "outputs": [],
   "source": [
    "''' Contar palabras:\n",
    "    Algoritmo:\n",
    "    El número de palabras es el número de espacios en blanco más uno'''\n",
    "str=input('Escribe una frase:')\n",
    "\n",
    "num_blancos=0\n",
    "for letra in str:\n",
    "    if letra==' ':\n",
    "        num_blancos+=1\n",
    "\n",
    "num_palabras=num_blancos+1\n",
    "\n",
    "print (f'Número de palabras: {num_palabras}')"
   ]
  },
  {
   "cell_type": "markdown",
   "metadata": {
    "slideshow": {
     "slide_type": "fragment"
    }
   },
   "source": [
    "Comprueba cómo se comporta el programa anterior en los casos siguientes:\n",
    "* La frase comienza con uno o más espacios en blanco\n",
    "* Hay palabras separadas por más de un espacio en blanco"
   ]
  },
  {
   "cell_type": "code",
   "execution_count": null,
   "metadata": {
    "slideshow": {
     "slide_type": "slide"
    }
   },
   "outputs": [],
   "source": [
    "''' Contar palabras (versión mejorada)\n",
    "    Algoritmo:\n",
    "        1. Contar el número de transiciones 'blanco'->'no blanco'\n",
    "        2. Si el primer carácter de la cadena es un blanco:\n",
    "              número de palabras es igual al número de transiciones\n",
    "           En caso contrario:\n",
    "              número de palabras es igual al número de transiciones + 1\n",
    "        '''\n",
    "str=input('Escribe una frase:')\n",
    "\n",
    "num_transiciones=0\n",
    "\n",
    "letra_anterior='' # No hay ningún carácter anterior al primero\n",
    "for letra_actual in str:\n",
    "    if letra_anterior==' ' and letra_actual!=' ':\n",
    "        num_transiciones+=1\n",
    "    letra_anterior=letra_actual # En la próxima iteración, la letra actual pasa a ser la anterior\n",
    "\n",
    "    \n",
    "# Añade el código que se ocupe del paso 2 del algoritmo:\n",
    "\n",
    "\n",
    "\n",
    "\n",
    "\n",
    "# Escribe una instrucción print que muestre el número de palabras de la cadena str:\n",
    "\n",
    "\n",
    "\n"
   ]
  },
  {
   "cell_type": "markdown",
   "metadata": {
    "slideshow": {
     "slide_type": "slide"
    }
   },
   "source": [
    "## Modificación de cadenas de caracteres\n",
    "\n",
    "* Las cadenas de caracteres son **inmutables** en Python: una vez creadas, no se puede cambiar su contenido"
   ]
  },
  {
   "cell_type": "code",
   "execution_count": null,
   "metadata": {},
   "outputs": [],
   "source": [
    "str='My new look'"
   ]
  },
  {
   "cell_type": "code",
   "execution_count": null,
   "metadata": {},
   "outputs": [],
   "source": [
    "str[7]='b'"
   ]
  },
  {
   "cell_type": "code",
   "execution_count": null,
   "metadata": {
    "slideshow": {
     "slide_type": "fragment"
    }
   },
   "outputs": [],
   "source": [
    "str2=str[:7]+'b'+str[8:]\n",
    "print(str2)"
   ]
  },
  {
   "cell_type": "markdown",
   "metadata": {
    "slideshow": {
     "slide_type": "slide"
    }
   },
   "source": [
    "## 3.2. Listas"
   ]
  },
  {
   "cell_type": "markdown",
   "metadata": {},
   "source": [
    "```python\n",
    "lista=[elemento_0, elemento_1, ..., elemento_n]\n",
    "\n",
    "elemento_i=lista[i]\n",
    "```\n",
    "* Las listas pueden contener elementos de tipos no homogéneos\n",
    "* Las listas son mutables\n",
    "* Se puede acceder a posiciones negativas (empieza por el final)\n",
    "* Una lista puede ser elemento de otra lista"
   ]
  },
  {
   "cell_type": "code",
   "execution_count": null,
   "metadata": {
    "slideshow": {
     "slide_type": "slide"
    }
   },
   "outputs": [],
   "source": [
    "lista1=[1,3,5,7,9]\n",
    "print(lista1)"
   ]
  },
  {
   "cell_type": "code",
   "execution_count": null,
   "metadata": {
    "slideshow": {
     "slide_type": "fragment"
    }
   },
   "outputs": [],
   "source": [
    "lista2=['Renault', 'Ford', 'Seat', 'Ferrari', 'Porsche', 'RTULE']\n",
    "print(lista2)"
   ]
  },
  {
   "cell_type": "code",
   "execution_count": null,
   "metadata": {
    "slideshow": {
     "slide_type": "fragment"
    }
   },
   "outputs": [],
   "source": [
    "a=5\n",
    "lista3=['hola',3*a,'@'*8,'adios']\n",
    "print(lista3)"
   ]
  },
  {
   "cell_type": "code",
   "execution_count": null,
   "metadata": {
    "slideshow": {
     "slide_type": "fragment"
    }
   },
   "outputs": [],
   "source": [
    "lista_vacia=[]\n",
    "print(lista_vacia)"
   ]
  },
  {
   "cell_type": "code",
   "execution_count": null,
   "metadata": {
    "slideshow": {
     "slide_type": "slide"
    }
   },
   "outputs": [],
   "source": [
    "lista2=['Renault', 'Ford', 'Seat', 'Ferrari', 'Porsche', 'RTULE']\n",
    "lista3=['hola',15,'@'*8,'adios']"
   ]
  },
  {
   "cell_type": "code",
   "execution_count": null,
   "metadata": {
    "slideshow": {
     "slide_type": "fragment"
    }
   },
   "outputs": [],
   "source": [
    "len(lista3)"
   ]
  },
  {
   "cell_type": "code",
   "execution_count": null,
   "metadata": {
    "slideshow": {
     "slide_type": "fragment"
    }
   },
   "outputs": [],
   "source": [
    "'''Crea una lista de nombre lista_concatenada, cuyo contenido sea el de aplicar el operador de concatenación de listas (+)\n",
    "a las listas [1,2,3] y ['A','B','C']. Muestra el resultado por pantalla:\n",
    "'''\n",
    "\n",
    "\n",
    "\n"
   ]
  },
  {
   "cell_type": "code",
   "execution_count": null,
   "metadata": {
    "slideshow": {
     "slide_type": "fragment"
    }
   },
   "outputs": [],
   "source": [
    "lista_triple=['$','=']*3\n",
    "print(lista_triple)"
   ]
  },
  {
   "cell_type": "code",
   "execution_count": null,
   "metadata": {
    "slideshow": {
     "slide_type": "fragment"
    }
   },
   "outputs": [],
   "source": [
    "segundo_elemento_lista2=lista2[1]\n",
    "print(segundo_elemento_lista2)"
   ]
  },
  {
   "cell_type": "code",
   "execution_count": null,
   "metadata": {
    "slideshow": {
     "slide_type": "fragment"
    }
   },
   "outputs": [],
   "source": [
    "sublista=lista2[2:4]\n",
    "print(sublista)"
   ]
  },
  {
   "cell_type": "markdown",
   "metadata": {
    "slideshow": {
     "slide_type": "slide"
    }
   },
   "source": [
    "## Comparación de listas\n",
    "\n",
    "`==`, `!=` (Dos listas son iguales si tienen el *mismo número de elementos* y todos ellos son iguales)\n",
    "\n",
    "`<`, `<=`, `>`, `>=` (funcionamiento análogo a la comparación de cadenas de caracteres)"
   ]
  },
  {
   "cell_type": "code",
   "execution_count": null,
   "metadata": {},
   "outputs": [],
   "source": [
    "[1,2,3,4]==[1,2,3,4]"
   ]
  },
  {
   "cell_type": "code",
   "execution_count": null,
   "metadata": {},
   "outputs": [],
   "source": [
    "[1,2,3,4]!=[1,3,4,2]"
   ]
  },
  {
   "cell_type": "code",
   "execution_count": null,
   "metadata": {},
   "outputs": [],
   "source": [
    "[1,2,3,4]!=[1,2,3]"
   ]
  },
  {
   "cell_type": "code",
   "execution_count": null,
   "metadata": {},
   "outputs": [],
   "source": [
    "['a','b','hola','2']!=['a','b','hola',2]"
   ]
  },
  {
   "cell_type": "code",
   "execution_count": null,
   "metadata": {},
   "outputs": [],
   "source": [
    "['a','b','hola','2']==['a','b','hola','2']"
   ]
  },
  {
   "cell_type": "code",
   "execution_count": null,
   "metadata": {},
   "outputs": [],
   "source": [
    "[8,9,10,11,12]!=[8,9,10,11]"
   ]
  },
  {
   "cell_type": "code",
   "execution_count": null,
   "metadata": {
    "slideshow": {
     "slide_type": "slide"
    }
   },
   "outputs": [],
   "source": [
    "[11,12,13,14,15]>[11,12,14]"
   ]
  },
  {
   "cell_type": "code",
   "execution_count": null,
   "metadata": {},
   "outputs": [],
   "source": [
    "[21,22,23,24,25]>[20,21,22,23,24,25,26,27]"
   ]
  },
  {
   "cell_type": "code",
   "execution_count": null,
   "metadata": {},
   "outputs": [],
   "source": [
    "['a','b','c','d']>=['a','b','c','D']"
   ]
  },
  {
   "cell_type": "code",
   "execution_count": null,
   "metadata": {},
   "outputs": [],
   "source": [
    "['a','b','c','d']>=['a','b','c','d','e']"
   ]
  },
  {
   "cell_type": "code",
   "execution_count": null,
   "metadata": {},
   "outputs": [],
   "source": [
    "['a','b','c','d']>=['a','b','c']"
   ]
  },
  {
   "cell_type": "code",
   "execution_count": null,
   "metadata": {},
   "outputs": [],
   "source": [
    "[1,2]<[0]"
   ]
  },
  {
   "cell_type": "code",
   "execution_count": null,
   "metadata": {},
   "outputs": [],
   "source": [
    "[1,2]<=[]"
   ]
  },
  {
   "cell_type": "markdown",
   "metadata": {
    "slideshow": {
     "slide_type": "slide"
    }
   },
   "source": [
    "## Recorrido de una lista"
   ]
  },
  {
   "cell_type": "code",
   "execution_count": null,
   "metadata": {},
   "outputs": [],
   "source": [
    "theSimpsons=['Marge','Homer','Bart','Lisa','Maggie']"
   ]
  },
  {
   "cell_type": "code",
   "execution_count": null,
   "metadata": {
    "slideshow": {
     "slide_type": "fragment"
    }
   },
   "outputs": [],
   "source": [
    "for i in range(5):\n",
    "    print(theSimpsons[i], end=' ')"
   ]
  },
  {
   "cell_type": "code",
   "execution_count": null,
   "metadata": {
    "slideshow": {
     "slide_type": "fragment"
    }
   },
   "outputs": [],
   "source": [
    "for i in range(len(theSimpsons)):\n",
    "    print(theSimpsons[i], end=' ')"
   ]
  },
  {
   "cell_type": "code",
   "execution_count": null,
   "metadata": {
    "slideshow": {
     "slide_type": "fragment"
    }
   },
   "outputs": [],
   "source": [
    "for nombre in theSimpsons:\n",
    "    print(nombre, end=' ')"
   ]
  },
  {
   "cell_type": "markdown",
   "metadata": {
    "slideshow": {
     "slide_type": "slide"
    }
   },
   "source": [
    "## Adición de elementos a una lista: concatenación, *append*"
   ]
  },
  {
   "cell_type": "code",
   "execution_count": null,
   "metadata": {},
   "outputs": [],
   "source": [
    "lista=[0,1,2]"
   ]
  },
  {
   "cell_type": "code",
   "execution_count": null,
   "metadata": {},
   "outputs": [],
   "source": [
    "lista+=3  # Genera error: no se puede concatenar un número entero a una lista"
   ]
  },
  {
   "cell_type": "code",
   "execution_count": null,
   "metadata": {
    "slideshow": {
     "slide_type": "fragment"
    }
   },
   "outputs": [],
   "source": [
    "lista+=[3]  # Se concatena la lista [3]\n",
    "print(lista)"
   ]
  },
  {
   "cell_type": "code",
   "execution_count": null,
   "metadata": {
    "slideshow": {
     "slide_type": "fragment"
    }
   },
   "outputs": [],
   "source": [
    "lista.append(4)\n",
    "print(lista)"
   ]
  },
  {
   "cell_type": "code",
   "execution_count": null,
   "metadata": {
    "slideshow": {
     "slide_type": "slide"
    }
   },
   "outputs": [],
   "source": [
    "theSimpsons=['Marge','Homer','Bart','Lisa','Maggie']"
   ]
  },
  {
   "cell_type": "code",
   "execution_count": null,
   "metadata": {
    "slideshow": {
     "slide_type": "fragment"
    }
   },
   "outputs": [],
   "source": [
    "# Utiliza el operando + para añadir a la lista theSimpsons la lista de nombres ['Krusty','Flanders','Mou']:\n",
    "\n",
    "\n",
    "\n"
   ]
  },
  {
   "cell_type": "code",
   "execution_count": null,
   "metadata": {
    "slideshow": {
     "slide_type": "fragment"
    }
   },
   "outputs": [],
   "source": [
    "# Utiliza el método append para añadir a la variable theSimpsons el nombre 'Milhouse':\n",
    "\n",
    "\n"
   ]
  },
  {
   "cell_type": "code",
   "execution_count": null,
   "metadata": {
    "slideshow": {
     "slide_type": "fragment"
    }
   },
   "outputs": [],
   "source": [
    "print(theSimpsons)"
   ]
  },
  {
   "cell_type": "markdown",
   "metadata": {
    "slideshow": {
     "slide_type": "slide"
    }
   },
   "source": [
    "## Ejemplo: rellenar una lista desde teclado"
   ]
  },
  {
   "cell_type": "code",
   "execution_count": null,
   "metadata": {},
   "outputs": [],
   "source": [
    "mi_lista=[] # Crea una lista vacía\n",
    "nombre=input('Nombre?')\n",
    "\n",
    "while nombre!='': # control por centinela (nombre)\n",
    "    mi_lista.append(nombre)\n",
    "    nombre=input('Nombre?')  # se pide el siguiente nombre\n",
    "    \n",
    "print (mi_lista)"
   ]
  },
  {
   "cell_type": "markdown",
   "metadata": {
    "slideshow": {
     "slide_type": "slide"
    }
   },
   "source": [
    "## Eliminación de elementos de una lista: *del*"
   ]
  },
  {
   "cell_type": "code",
   "execution_count": null,
   "metadata": {},
   "outputs": [],
   "source": [
    "numeros=[2,0,3,0,0,4,6,0,9,-1,-3]"
   ]
  },
  {
   "cell_type": "code",
   "execution_count": null,
   "metadata": {
    "slideshow": {
     "slide_type": "fragment"
    }
   },
   "outputs": [],
   "source": [
    "del numeros[1] # Elimina el segundo elemento (la lista queda modificada)\n",
    "print(numeros)"
   ]
  },
  {
   "cell_type": "code",
   "execution_count": null,
   "metadata": {},
   "outputs": [],
   "source": [
    "del numeros[-4:-1]\n",
    "print(numeros)"
   ]
  },
  {
   "cell_type": "code",
   "execution_count": null,
   "metadata": {
    "slideshow": {
     "slide_type": "fragment"
    }
   },
   "outputs": [],
   "source": [
    "del numeros[:3]\n",
    "print(numeros)"
   ]
  },
  {
   "cell_type": "code",
   "execution_count": null,
   "metadata": {
    "slideshow": {
     "slide_type": "fragment"
    }
   },
   "outputs": [],
   "source": [
    "# Elimina todos los valores de la lista números (escribe solamente una instrucción):\n",
    "\n",
    "\n"
   ]
  },
  {
   "cell_type": "markdown",
   "metadata": {
    "slideshow": {
     "slide_type": "slide"
    }
   },
   "source": [
    "## Ejemplo: eliminación de elementos recorriendo una lista"
   ]
  },
  {
   "cell_type": "markdown",
   "metadata": {},
   "source": [
    "Eliminar todos los valores `0` de la lista `[2,0,3,0,0,4,6,0,9,-1,-3]`"
   ]
  },
  {
   "cell_type": "code",
   "execution_count": null,
   "metadata": {
    "slideshow": {
     "slide_type": "fragment"
    }
   },
   "outputs": [],
   "source": [
    "numeros=[2,0,3,0,0,4,6,0,9,-1,-3]\n",
    "\n",
    "for i in range(len(numeros)):\n",
    "    if numeros[i]==0:\n",
    "        del numeros[i]\n",
    "print (numeros)"
   ]
  },
  {
   "cell_type": "markdown",
   "metadata": {
    "slideshow": {
     "slide_type": "fragment"
    }
   },
   "source": [
    "**Se produce un error de tipo *índice fuera de rango* porque la lista cambia cada vez que se elimina uno de sus elementos**"
   ]
  },
  {
   "cell_type": "code",
   "execution_count": null,
   "metadata": {
    "slideshow": {
     "slide_type": "slide"
    }
   },
   "outputs": [],
   "source": [
    "numeros=[2,0,3,0,0,4,6,0,9,-1,-3]\n",
    "\n",
    "for i in range(len(numeros)):\n",
    "    if numeros[i]==0:\n",
    "        del numeros[i]\n",
    "    print ('i=', i, ':', numeros,'-->',len(numeros),'elementos')"
   ]
  },
  {
   "cell_type": "code",
   "execution_count": null,
   "metadata": {
    "slideshow": {
     "slide_type": "slide"
    }
   },
   "outputs": [],
   "source": [
    "numeros=[2,0,3,0,0,4,6,0,9,-1,-3]\n",
    "\n",
    "i=0\n",
    "while i< len(numeros): # El contador (posición) ha de ser menor que la longitud de la lista\n",
    "    if numeros[i]==0:\n",
    "        del numeros[i]\n",
    "    print ('i', i, ':', numeros,'-->',len(numeros),'elementos')\n",
    "    i+=1"
   ]
  },
  {
   "cell_type": "markdown",
   "metadata": {
    "slideshow": {
     "slide_type": "fragment"
    }
   },
   "source": [
    "**Cuando hay dos elementos `0` consecutivos, uno de ellos no se elimina** porque el contador aumenta"
   ]
  },
  {
   "cell_type": "markdown",
   "metadata": {
    "slideshow": {
     "slide_type": "slide"
    }
   },
   "source": [
    "## Modificar una lista $\\Rightarrow$ controlar la longitud de la lista y la actualización de contadores"
   ]
  },
  {
   "cell_type": "code",
   "execution_count": null,
   "metadata": {},
   "outputs": [],
   "source": [
    "numeros=[2,0,3,0,0,4,6,0,9,-1,-3]\n",
    "\n",
    "i=0\n",
    "while i<len(numeros): # El contador (posición) ha de ser menor que la longitud de la lista\n",
    "    if numeros[i]==0:\n",
    "        '''Inserta aquí el código para eliminar el elemento de la lista numeros que está en la posición i:'''\n",
    "        \n",
    "        \n",
    "    else:\n",
    "        i+=1  # Tras eliminar un elemento, no se actualiza el valor del contador \n",
    "print (numeros)"
   ]
  },
  {
   "cell_type": "markdown",
   "metadata": {
    "slideshow": {
     "slide_type": "slide"
    }
   },
   "source": [
    "## Pertenencia de un elemento a una lista: *in*"
   ]
  },
  {
   "cell_type": "code",
   "execution_count": null,
   "metadata": {},
   "outputs": [],
   "source": [
    "juguetes=['aro','pelota','yo-yo','muñeca','coche']"
   ]
  },
  {
   "cell_type": "code",
   "execution_count": null,
   "metadata": {},
   "outputs": [],
   "source": [
    "'yo-yo' in juguetes"
   ]
  },
  {
   "cell_type": "code",
   "execution_count": null,
   "metadata": {
    "slideshow": {
     "slide_type": "fragment"
    }
   },
   "outputs": [],
   "source": [
    "# Escribe el código que devuelve True si 'trompo' está en la lista juguetes:\n",
    "\n"
   ]
  },
  {
   "cell_type": "code",
   "execution_count": null,
   "metadata": {
    "slideshow": {
     "slide_type": "fragment"
    }
   },
   "outputs": [],
   "source": [
    "'''Escribe a continuación el código que ejecute el siguiente algoritmo:\n",
    "\n",
    "Si 'globo' no está en la lista juguetes:\n",
    "   entonces añade 'globo' a la lista juguetes utilizando el método append\n",
    "   \n",
    "Muestra por pantalla la lista de juguetes\n",
    "'''\n",
    "\n",
    "\n",
    "\n",
    "\n"
   ]
  },
  {
   "cell_type": "markdown",
   "metadata": {
    "slideshow": {
     "slide_type": "slide"
    }
   },
   "source": [
    "## Conversión de cadena a lista: *list*, *split*"
   ]
  },
  {
   "cell_type": "code",
   "execution_count": null,
   "metadata": {
    "slideshow": {
     "slide_type": "fragment"
    }
   },
   "outputs": [],
   "source": [
    "list('letras') # Crea una lista con los caracteres de una cadena"
   ]
  },
  {
   "cell_type": "code",
   "execution_count": null,
   "metadata": {
    "slideshow": {
     "slide_type": "fragment"
    }
   },
   "outputs": [],
   "source": [
    "str='Esta frase    tiene    5 palabras'"
   ]
  },
  {
   "cell_type": "code",
   "execution_count": null,
   "metadata": {
    "slideshow": {
     "slide_type": "fragment"
    }
   },
   "outputs": [],
   "source": [
    "str.split() # Convierte una cadena a una lista de palabras"
   ]
  },
  {
   "cell_type": "code",
   "execution_count": null,
   "metadata": {
    "slideshow": {
     "slide_type": "fragment"
    }
   },
   "outputs": [],
   "source": [
    "str2='9.8, 10, 6.7, 5, 8.2, 9.1'"
   ]
  },
  {
   "cell_type": "code",
   "execution_count": null,
   "metadata": {
    "slideshow": {
     "slide_type": "fragment"
    }
   },
   "outputs": [],
   "source": [
    "str2.split(', ') # Se puede especificar la cadena separadora entre palabras"
   ]
  },
  {
   "cell_type": "markdown",
   "metadata": {
    "slideshow": {
     "slide_type": "slide"
    }
   },
   "source": [
    "**Ejemplos:**"
   ]
  },
  {
   "cell_type": "code",
   "execution_count": null,
   "metadata": {},
   "outputs": [],
   "source": [
    "str2='9.8, 10, 6.7, 5, 8.2, 9.1'"
   ]
  },
  {
   "cell_type": "code",
   "execution_count": null,
   "metadata": {
    "slideshow": {
     "slide_type": "fragment"
    }
   },
   "outputs": [],
   "source": [
    "len(str2.split(', '))"
   ]
  },
  {
   "cell_type": "code",
   "execution_count": null,
   "metadata": {
    "slideshow": {
     "slide_type": "fragment"
    }
   },
   "outputs": [],
   "source": [
    "str2.split(', ')[0]"
   ]
  },
  {
   "cell_type": "code",
   "execution_count": null,
   "metadata": {
    "slideshow": {
     "slide_type": "fragment"
    }
   },
   "outputs": [],
   "source": [
    "float(str2.split(', ')[2])"
   ]
  },
  {
   "cell_type": "code",
   "execution_count": null,
   "metadata": {
    "slideshow": {
     "slide_type": "fragment"
    }
   },
   "outputs": [],
   "source": [
    "c=str2.split(', ')\n",
    "c.append('11')\n",
    "c[len(c)-3]"
   ]
  },
  {
   "cell_type": "code",
   "execution_count": null,
   "metadata": {
    "slideshow": {
     "slide_type": "fragment"
    }
   },
   "outputs": [],
   "source": [
    "d=[]\n",
    "for s in c:\n",
    "    d.append(float(s))\n",
    "d"
   ]
  },
  {
   "cell_type": "markdown",
   "metadata": {
    "slideshow": {
     "slide_type": "slide"
    }
   },
   "source": [
    "## Conversión de lista a cadena de caracteres: *join*"
   ]
  },
  {
   "cell_type": "code",
   "execution_count": null,
   "metadata": {},
   "outputs": [],
   "source": [
    "lista=['redes neuronales','algoritmos genéticos','minería de datos','HPC']"
   ]
  },
  {
   "cell_type": "code",
   "execution_count": null,
   "metadata": {},
   "outputs": [],
   "source": [
    "'; '.join(lista)"
   ]
  },
  {
   "cell_type": "markdown",
   "metadata": {
    "slideshow": {
     "slide_type": "fragment"
    }
   },
   "source": [
    "**Ejemplos:**"
   ]
  },
  {
   "cell_type": "code",
   "execution_count": null,
   "metadata": {},
   "outputs": [],
   "source": [
    "print (''.join(['H','o','l','a']))"
   ]
  },
  {
   "cell_type": "code",
   "execution_count": null,
   "metadata": {
    "slideshow": {
     "slide_type": "fragment"
    }
   },
   "outputs": [],
   "source": [
    "print ('::'.join(['10','20','30','40','50']))"
   ]
  },
  {
   "cell_type": "code",
   "execution_count": null,
   "metadata": {
    "slideshow": {
     "slide_type": "fragment"
    }
   },
   "outputs": [],
   "source": [
    "# Eliminación de blancos sobrantes\n",
    "frase=' Tengo  3     palabras'\n",
    "lista_aux=frase.split()\n",
    "frase_limpia=' '.join(lista_aux)\n",
    "print (frase_limpia)"
   ]
  },
  {
   "cell_type": "markdown",
   "metadata": {
    "slideshow": {
     "slide_type": "slide"
    }
   },
   "source": [
    "## Listas de listas"
   ]
  },
  {
   "cell_type": "code",
   "execution_count": null,
   "metadata": {},
   "outputs": [],
   "source": [
    "matriz=[[11,12,13],[21,22,23],[31,32,33]]"
   ]
  },
  {
   "cell_type": "code",
   "execution_count": null,
   "metadata": {
    "slideshow": {
     "slide_type": "fragment"
    }
   },
   "outputs": [],
   "source": [
    "matriz[0] # Primera fila de matriz"
   ]
  },
  {
   "cell_type": "code",
   "execution_count": null,
   "metadata": {
    "slideshow": {
     "slide_type": "fragment"
    }
   },
   "outputs": [],
   "source": [
    "matriz[2][1] # Elemento 1 de la fila 2 de matriz"
   ]
  },
  {
   "cell_type": "code",
   "execution_count": null,
   "metadata": {
    "slideshow": {
     "slide_type": "fragment"
    }
   },
   "outputs": [],
   "source": [
    "lista=[1,'dos',['tres', 'cuatro'],5]"
   ]
  },
  {
   "cell_type": "code",
   "execution_count": null,
   "metadata": {
    "slideshow": {
     "slide_type": "fragment"
    }
   },
   "outputs": [],
   "source": [
    "lista[1]"
   ]
  },
  {
   "cell_type": "code",
   "execution_count": null,
   "metadata": {
    "slideshow": {
     "slide_type": "fragment"
    }
   },
   "outputs": [],
   "source": [
    "lista[2][1]"
   ]
  },
  {
   "cell_type": "markdown",
   "metadata": {
    "slideshow": {
     "slide_type": "slide"
    }
   },
   "source": [
    "## 3.3. Tuplas"
   ]
  },
  {
   "cell_type": "markdown",
   "metadata": {},
   "source": [
    "* Las tuplas son **listas inmutables**, una vez creadas no se pueden añadir ni eliminar elementos\n",
    "* Son más rápidas que las listas\n",
    "* El acceso a sus elementos es análogo al de las listas\n",
    "* Se definen delimitadas por paréntesis:\n",
    "```python\n",
    "variable_tupla=(elemento_0, elemento_1, ..., elemento_n)\n",
    "```"
   ]
  },
  {
   "cell_type": "code",
   "execution_count": null,
   "metadata": {
    "slideshow": {
     "slide_type": "fragment"
    }
   },
   "outputs": [],
   "source": [
    "transportes=('tierra','mar','aire')"
   ]
  },
  {
   "cell_type": "code",
   "execution_count": null,
   "metadata": {},
   "outputs": [],
   "source": [
    "transportes[0]"
   ]
  },
  {
   "cell_type": "code",
   "execution_count": null,
   "metadata": {
    "slideshow": {
     "slide_type": "fragment"
    }
   },
   "outputs": [],
   "source": [
    "transportes[-1]"
   ]
  },
  {
   "cell_type": "code",
   "execution_count": null,
   "metadata": {
    "slideshow": {
     "slide_type": "fragment"
    }
   },
   "outputs": [],
   "source": [
    "transportes[1:3]"
   ]
  },
  {
   "cell_type": "markdown",
   "metadata": {
    "slideshow": {
     "slide_type": "slide"
    }
   },
   "source": [
    "## 3.4. Diccionarios\n",
    "\n",
    "* Agregaciones de datos `clave:valor`\n",
    "* Se accede a los datos utilizando el valor de la clave\n",
    "* Se definen delimitados entre llaves:\n",
    "```python\n",
    "variable_diccionario={clave_0:valor_0, \n",
    "                      clave_1:valor_1,\n",
    "                      ...\n",
    "                      clave_n:valor_n\n",
    "                     }\n",
    "```"
   ]
  },
  {
   "cell_type": "code",
   "execution_count": null,
   "metadata": {
    "slideshow": {
     "slide_type": "fragment"
    }
   },
   "outputs": [],
   "source": [
    "equipos={'León':'Cultural y Deportiva Leonesa',\n",
    "        'Ponferrada':'S.D. Ponferradina',\n",
    "        'Gijón': 'Real Sporting de Gijón',\n",
    "        'Oviedo': 'Real Oviedo',\n",
    "        }"
   ]
  },
  {
   "cell_type": "code",
   "execution_count": null,
   "metadata": {},
   "outputs": [],
   "source": [
    "equipos"
   ]
  },
  {
   "cell_type": "code",
   "execution_count": null,
   "metadata": {
    "slideshow": {
     "slide_type": "fragment"
    }
   },
   "outputs": [],
   "source": [
    "equipos['Gijón']"
   ]
  },
  {
   "cell_type": "markdown",
   "metadata": {
    "slideshow": {
     "slide_type": "slide"
    }
   },
   "source": [
    "**Cualquier elemento inmutable puede actuar como clave de un diccionario**:"
   ]
  },
  {
   "cell_type": "code",
   "execution_count": null,
   "metadata": {
    "slideshow": {
     "slide_type": "fragment"
    }
   },
   "outputs": [],
   "source": [
    "diccionario_2={3:'hola', 2:'hello', 1:'hallo'}"
   ]
  },
  {
   "cell_type": "code",
   "execution_count": null,
   "metadata": {
    "slideshow": {
     "slide_type": "fragment"
    }
   },
   "outputs": [],
   "source": [
    "# Muestra por pantalla el primer valor de diccionario_2:\n",
    "\n",
    "\n"
   ]
  },
  {
   "cell_type": "code",
   "execution_count": null,
   "metadata": {
    "slideshow": {
     "slide_type": "fragment"
    }
   },
   "outputs": [],
   "source": [
    "diccionario_3={'UNO':'valor 1', (2,'b'): 'valor 2', 3:'valor 3'}"
   ]
  },
  {
   "cell_type": "code",
   "execution_count": null,
   "metadata": {
    "slideshow": {
     "slide_type": "fragment"
    }
   },
   "outputs": [],
   "source": [
    "diccionario_3['UNO']"
   ]
  },
  {
   "cell_type": "code",
   "execution_count": null,
   "metadata": {
    "slideshow": {
     "slide_type": "fragment"
    }
   },
   "outputs": [],
   "source": [
    "# Muestra por pantalla el segundo valor de diccionario_3:\n",
    "\n",
    "\n"
   ]
  },
  {
   "cell_type": "code",
   "execution_count": null,
   "metadata": {
    "slideshow": {
     "slide_type": "fragment"
    }
   },
   "outputs": [],
   "source": [
    "diccionario_3[3]"
   ]
  },
  {
   "cell_type": "markdown",
   "metadata": {
    "slideshow": {
     "slide_type": "slide"
    }
   },
   "source": [
    "# 4. Funciones y Paquetes \n",
    "* Funciones \n",
    "    * Con nombre (*def*)\n",
    "    * Anónimas (*lambda*)\n",
    "* Paquetes: \n",
    "    * numpy\n",
    "    * matplotlib"
   ]
  },
  {
   "cell_type": "markdown",
   "metadata": {
    "slideshow": {
     "slide_type": "slide"
    }
   },
   "source": [
    "## 4.1. Funciones\n",
    "\n",
    "### Funciones con nombre ( *def* ):\n",
    "\n",
    "```python\n",
    "def nombre_función(argumento_0[=valor_por_defecto_0],\n",
    "                   argumento_1[=valor_por_defecto_1],\n",
    "                   ...,\n",
    "                   argumento_n[=valor_por_defecto_n]):\n",
    "    # Nota: El número de parámetros puede ser 0\n",
    "    instrucción_0 \n",
    "    instrucción_1\n",
    "    ...\n",
    "    instrucción_K\n",
    "    [return valor] # La función puede devolver un resultado\n",
    "```"
   ]
  },
  {
   "cell_type": "markdown",
   "metadata": {
    "slideshow": {
     "slide_type": "fragment"
    }
   },
   "source": [
    "* **Llamada** a una función:\n",
    "\n",
    "```python\n",
    "variable_resultado=nombre_función(valor_argumento_1, ..., valor_argumento_n)\n",
    "```"
   ]
  },
  {
   "cell_type": "code",
   "execution_count": null,
   "metadata": {
    "slideshow": {
     "slide_type": "slide"
    }
   },
   "outputs": [],
   "source": [
    "'''Función suma'''\n",
    "def suma(a,b=100):\n",
    "    resultado=a+b\n",
    "    return resultado\n",
    "\n",
    "'''Ejemplos de uso de la función suma'''\n",
    "\n",
    "print (suma(1.5,2.4)) # a=1.5, b=2.4\n",
    "\n",
    "print (suma(1)) # Se utiliza el valor por defecto de b\n",
    "\n",
    "res1=suma(2,9)\n",
    "res2=suma(4+1j,3+2j)\n",
    "res3=suma(res1,res2)  # a=res1, b=res2\n",
    "print (f'{res1}+{res2}={res3}')\n",
    "\n"
   ]
  },
  {
   "cell_type": "markdown",
   "metadata": {
    "slideshow": {
     "slide_type": "slide"
    }
   },
   "source": [
    "### Módulos\n",
    "\n",
    "* Un módulo es un archivo que contiene un conjunto de definiciones de funciones y/o v variables\n",
    "* Para utilizar las funciones y las variables de un módulo en otros programas hay que importarlas.\n",
    "* Formas de importar un módulo genérico, MOD1:\n",
    "\n",
    "```python\n",
    "# a. Importar el módulo y acceder a él con el nombre mm\n",
    "import MOD1 as mm\n",
    "# Utilizar una función del módulo importado\n",
    "mm.función_del_módulo()\n",
    "\n",
    "# b. Importar algunas funciones del módulo para utilizarlas directamente\n",
    "from nombre_del_módulo import función_1[,función_2,...,función_n]) \n",
    "# Utilizar  las funciones importadas\n",
    "función_1()\n",
    "\n",
    "# c. Importar todas las funciones del módulo para utilizarlas directamente\n",
    "from nombre_del_módulo import *\n",
    "# Utilizar las funciones importadas\n",
    "función_1()\n",
    "función_2()\n",
    "...\n",
    "función_n()\n",
    "```\n"
   ]
  },
  {
   "cell_type": "markdown",
   "metadata": {
    "slideshow": {
     "slide_type": "slide"
    }
   },
   "source": [
    "### Ejemplo de módulo: archivo **mis_funciones.py**"
   ]
  },
  {
   "cell_type": "code",
   "execution_count": null,
   "metadata": {},
   "outputs": [],
   "source": [
    "'''Módulo mis_funciones'''\n",
    "\n",
    "# Aceleración de la gravedad en m/s^2\n",
    "g=9.8\n",
    "\n",
    "'''función suma'''\n",
    "def suma(a,b):\n",
    "    return a+b\n",
    "\n",
    "'''función resta'''\n",
    "def resta(a,b):\n",
    "    return a-b\n",
    "\n",
    "'''función valor absoluto'''\n",
    "def valor_absoluto(n):\n",
    "    if n>=0:\n",
    "        absoluto=n\n",
    "    else:\n",
    "        absoluto=-n\n",
    "    return absoluto"
   ]
  },
  {
   "cell_type": "markdown",
   "metadata": {
    "slideshow": {
     "slide_type": "slide"
    }
   },
   "source": [
    "**Utilización del módulo mis_funciones.py**"
   ]
  },
  {
   "cell_type": "code",
   "execution_count": null,
   "metadata": {},
   "outputs": [],
   "source": [
    "''' \n",
    "1. Crea un nuevo archivo de texto y copia allí el texto del módulo mis_funciones (celda anterior)\n",
    "2. Guarda el archivo con el nombre mis_funciones.py en la misma carpeta en que está almacenado este notebook\n",
    "\n",
    "Una vez grabado el archivo, ya se puede importar el módulo mis_funciones\n",
    "'''\n",
    "\n",
    "import mis_funciones as mf \n",
    "\n",
    "a=3\n",
    "b=-4\n",
    "c=3.3\n",
    "d=2.2"
   ]
  },
  {
   "cell_type": "code",
   "execution_count": null,
   "metadata": {},
   "outputs": [],
   "source": [
    "mf.suma(a,b)"
   ]
  },
  {
   "cell_type": "code",
   "execution_count": null,
   "metadata": {
    "slideshow": {
     "slide_type": "fragment"
    }
   },
   "outputs": [],
   "source": [
    "# Utiliza la función resta del módulo mis_funciones para calcular el valor resta(c,d):\n",
    "\n",
    "\n"
   ]
  },
  {
   "cell_type": "code",
   "execution_count": null,
   "metadata": {
    "slideshow": {
     "slide_type": "fragment"
    }
   },
   "outputs": [],
   "source": [
    "mf.valor_absoluto(b)"
   ]
  },
  {
   "cell_type": "code",
   "execution_count": null,
   "metadata": {
    "slideshow": {
     "slide_type": "fragment"
    }
   },
   "outputs": [],
   "source": [
    "''' Utiliza la función suma del módulo mis_fumnciones para calcular el valor \n",
    "     suma([1,2,3],[4,5,6]) \n",
    "     \n",
    "    Comprueba con print que el resultado sumar listas es concatenarlas\n",
    "'''\n",
    "\n",
    "\n",
    "\n",
    "\n"
   ]
  },
  {
   "cell_type": "code",
   "execution_count": null,
   "metadata": {
    "slideshow": {
     "slide_type": "fragment"
    }
   },
   "outputs": [],
   "source": [
    "print ('F=m*g=3*g=%.3f'%(3*mf.g))"
   ]
  },
  {
   "cell_type": "markdown",
   "metadata": {
    "slideshow": {
     "slide_type": "slide"
    }
   },
   "source": [
    "###  Funciones anónimas (*lambda*)\n",
    "\n",
    "* Se escriben en una sola línea de código\n",
    "* Se pueden utilizar inmediatamente\n",
    "\n",
    "```python\n",
    "lambda argumento_0[,...,argumento_n]:expressión\n",
    "```"
   ]
  },
  {
   "cell_type": "code",
   "execution_count": null,
   "metadata": {
    "slideshow": {
     "slide_type": "fragment"
    }
   },
   "outputs": [],
   "source": [
    "sumar=lambda x,y: x+y"
   ]
  },
  {
   "cell_type": "code",
   "execution_count": null,
   "metadata": {
    "slideshow": {
     "slide_type": "fragment"
    }
   },
   "outputs": [],
   "source": [
    "sumar(1,2)"
   ]
  },
  {
   "cell_type": "markdown",
   "metadata": {
    "slideshow": {
     "slide_type": "fragment"
    }
   },
   "source": [
    "**Aplicación de una función a todos y cada uno de los elementos de una lista**:"
   ]
  },
  {
   "cell_type": "code",
   "execution_count": null,
   "metadata": {},
   "outputs": [],
   "source": [
    "lista=[10,11,12,13,14,15,16]\n",
    "es_par=lambda x:x%2  # Devuelve True si x es par"
   ]
  },
  {
   "cell_type": "code",
   "execution_count": null,
   "metadata": {
    "slideshow": {
     "slide_type": "fragment"
    }
   },
   "outputs": [],
   "source": [
    "[es_par(i) for i in lista] # Lista generada aplicando una función a cada elemento de otra"
   ]
  },
  {
   "cell_type": "markdown",
   "metadata": {
    "slideshow": {
     "slide_type": "slide"
    }
   },
   "source": [
    "# 4.2. Paquetes\n",
    "* Numpy\n",
    "* Matplotlib\n",
    "\n",
    "Nota: La mayoría de paquetes han de instalarse (desde Anaconda, por ejemplo)"
   ]
  },
  {
   "cell_type": "markdown",
   "metadata": {
    "slideshow": {
     "slide_type": "slide"
    }
   },
   "source": [
    "## Numpy"
   ]
  },
  {
   "cell_type": "markdown",
   "metadata": {},
   "source": [
    "Proporciona funcionalidad de alto rendimiento para cálculo numérico: \n",
    "* Trabajar con arrays numéricos\n",
    "* Utilizar herramientas del Álgebra Lineal\n",
    "* Realizar transformadas de Fourier\n",
    "* Realizar operaciones con números aleatorios\n",
    "* etc"
   ]
  },
  {
   "cell_type": "code",
   "execution_count": null,
   "metadata": {},
   "outputs": [],
   "source": [
    "import numpy as np"
   ]
  },
  {
   "cell_type": "markdown",
   "metadata": {
    "slideshow": {
     "slide_type": "slide"
    }
   },
   "source": [
    "## Creación de Arrays"
   ]
  },
  {
   "cell_type": "markdown",
   "metadata": {},
   "source": [
    "**Arrays a partir de listas**"
   ]
  },
  {
   "cell_type": "code",
   "execution_count": null,
   "metadata": {
    "slideshow": {
     "slide_type": "fragment"
    }
   },
   "outputs": [],
   "source": [
    "a=np.array([1,2,3]) # Vector de 3 elementos\n",
    "print(a)"
   ]
  },
  {
   "cell_type": "code",
   "execution_count": null,
   "metadata": {
    "slideshow": {
     "slide_type": "fragment"
    }
   },
   "outputs": [],
   "source": [
    "b=np.array([[1.0,2,3],[20,30,40]]) # Matriz de 2 filas y 3 columnas\n",
    "print(b)"
   ]
  },
  {
   "cell_type": "markdown",
   "metadata": {
    "slideshow": {
     "slide_type": "fragment"
    }
   },
   "source": [
    "**Arrays a partir de sus dimensiones**"
   ]
  },
  {
   "cell_type": "code",
   "execution_count": null,
   "metadata": {
    "slideshow": {
     "slide_type": "fragment"
    }
   },
   "outputs": [],
   "source": [
    "# Array de 0s\n",
    "np.zeros((2,3))  # El argumento es la tupla: (número_filas, número columnas)"
   ]
  },
  {
   "cell_type": "code",
   "execution_count": null,
   "metadata": {
    "slideshow": {
     "slide_type": "slide"
    }
   },
   "outputs": [],
   "source": [
    "# Array de 1s\n",
    "np.ones((2,2))"
   ]
  },
  {
   "cell_type": "code",
   "execution_count": null,
   "metadata": {
    "slideshow": {
     "slide_type": "fragment"
    }
   },
   "outputs": [],
   "source": [
    "# Array con valores equiespaciados (paso=1, por defecto)\n",
    "np.arange(1,13,3)"
   ]
  },
  {
   "cell_type": "code",
   "execution_count": null,
   "metadata": {
    "slideshow": {
     "slide_type": "fragment"
    }
   },
   "outputs": [],
   "source": [
    "# Array de k valores equiespaciados\n",
    "k=5\n",
    "np.linspace(0,1000,k)"
   ]
  },
  {
   "cell_type": "code",
   "execution_count": null,
   "metadata": {
    "slideshow": {
     "slide_type": "fragment"
    }
   },
   "outputs": [],
   "source": [
    "# Array con asignación de dimensiones y valor inicial\n",
    "np.full((2,3),5.6)  "
   ]
  },
  {
   "cell_type": "code",
   "execution_count": null,
   "metadata": {
    "slideshow": {
     "slide_type": "fragment"
    }
   },
   "outputs": [],
   "source": [
    "# Matriz identidad\n",
    "np.eye(3)"
   ]
  },
  {
   "cell_type": "code",
   "execution_count": null,
   "metadata": {
    "slideshow": {
     "slide_type": "slide"
    }
   },
   "outputs": [],
   "source": [
    "np.random.randint(5,10) # Valor entero aleatorio en el intervalor [5,9)"
   ]
  },
  {
   "cell_type": "code",
   "execution_count": null,
   "metadata": {
    "slideshow": {
     "slide_type": "fragment"
    }
   },
   "outputs": [],
   "source": [
    "# Array de valores aleatorios de tipo entero en el intervalo [0, 10)\n",
    "np.random.randint(10,size=5)"
   ]
  },
  {
   "cell_type": "code",
   "execution_count": null,
   "metadata": {
    "slideshow": {
     "slide_type": "fragment"
    }
   },
   "outputs": [],
   "source": [
    "# Array de valores aleatorios de tipo entero en el intervalo [1,5)\n",
    "np.random.randint(1,5,size=(2,6))  # "
   ]
  },
  {
   "cell_type": "code",
   "execution_count": null,
   "metadata": {
    "slideshow": {
     "slide_type": "fragment"
    }
   },
   "outputs": [],
   "source": [
    "np.random.random() # Valor real aleatorio en el intervalo [0,1)"
   ]
  },
  {
   "cell_type": "code",
   "execution_count": null,
   "metadata": {
    "slideshow": {
     "slide_type": "fragment"
    }
   },
   "outputs": [],
   "source": [
    "# Array de valores aleatorios en el intervalo [0,1)\n",
    "np.random.random((2,4))"
   ]
  },
  {
   "cell_type": "code",
   "execution_count": null,
   "metadata": {
    "slideshow": {
     "slide_type": "fragment"
    }
   },
   "outputs": [],
   "source": [
    "np.empty((2,2))"
   ]
  },
  {
   "cell_type": "markdown",
   "metadata": {
    "slideshow": {
     "slide_type": "slide"
    }
   },
   "source": [
    "## Acceso a los elementos de un array"
   ]
  },
  {
   "cell_type": "code",
   "execution_count": null,
   "metadata": {},
   "outputs": [],
   "source": [
    "''' Crea una variable de nombre 'a' que contenga un array de 3 filas y 4 columnas\n",
    "    y cuyos valores sean números reales aleatorios pertenecientes al intervalo [0,1).\n",
    "    \n",
    "    Muestra el array 'a' por pantalla\n",
    "'''\n",
    "\n",
    "\n",
    "\n",
    "\n"
   ]
  },
  {
   "cell_type": "code",
   "execution_count": null,
   "metadata": {},
   "outputs": [],
   "source": [
    "a[0] # fila 0"
   ]
  },
  {
   "cell_type": "code",
   "execution_count": null,
   "metadata": {
    "slideshow": {
     "slide_type": "fragment"
    }
   },
   "outputs": [],
   "source": [
    "a[0,1] # fila0, columna 1"
   ]
  },
  {
   "cell_type": "code",
   "execution_count": null,
   "metadata": {
    "slideshow": {
     "slide_type": "fragment"
    }
   },
   "outputs": [],
   "source": [
    "a[1,0:2] #fila 1, columnas 0 y 1 "
   ]
  },
  {
   "cell_type": "code",
   "execution_count": null,
   "metadata": {
    "slideshow": {
     "slide_type": "fragment"
    }
   },
   "outputs": [],
   "source": [
    "a[0, 2:] # fila 1, columnas 2 y siguientes"
   ]
  },
  {
   "cell_type": "code",
   "execution_count": null,
   "metadata": {
    "slideshow": {
     "slide_type": "fragment"
    }
   },
   "outputs": [],
   "source": [
    "a[:2,1:] # filas 0 y 1, columnas 1 y siguientes"
   ]
  },
  {
   "cell_type": "markdown",
   "metadata": {
    "slideshow": {
     "slide_type": "slide"
    }
   },
   "source": [
    "## Consultar dimensiones de un array"
   ]
  },
  {
   "cell_type": "code",
   "execution_count": null,
   "metadata": {},
   "outputs": [],
   "source": [
    "a=np.random.random((2,4))"
   ]
  },
  {
   "cell_type": "code",
   "execution_count": null,
   "metadata": {
    "slideshow": {
     "slide_type": "fragment"
    }
   },
   "outputs": [],
   "source": [
    "a.shape # (filas, columnas) de a"
   ]
  },
  {
   "cell_type": "code",
   "execution_count": null,
   "metadata": {
    "slideshow": {
     "slide_type": "fragment"
    }
   },
   "outputs": [],
   "source": [
    "a.shape[1] # Número de columnas de a"
   ]
  },
  {
   "cell_type": "code",
   "execution_count": null,
   "metadata": {
    "slideshow": {
     "slide_type": "fragment"
    }
   },
   "outputs": [],
   "source": [
    "len(a) # longitud de a (número de filas)"
   ]
  },
  {
   "cell_type": "markdown",
   "metadata": {
    "slideshow": {
     "slide_type": "slide"
    }
   },
   "source": [
    "## Operaciones con arrays"
   ]
  },
  {
   "cell_type": "code",
   "execution_count": null,
   "metadata": {},
   "outputs": [],
   "source": [
    "a=np.array([[10,11,12],[20,21,22]])\n",
    "b=np.array([[1,1,1],[10,10,10]])"
   ]
  },
  {
   "cell_type": "code",
   "execution_count": null,
   "metadata": {
    "slideshow": {
     "slide_type": "fragment"
    }
   },
   "outputs": [],
   "source": [
    "a+b"
   ]
  },
  {
   "cell_type": "code",
   "execution_count": null,
   "metadata": {},
   "outputs": [],
   "source": [
    "np.add(a,b)"
   ]
  },
  {
   "cell_type": "code",
   "execution_count": null,
   "metadata": {
    "slideshow": {
     "slide_type": "fragment"
    }
   },
   "outputs": [],
   "source": [
    "a-b"
   ]
  },
  {
   "cell_type": "code",
   "execution_count": null,
   "metadata": {},
   "outputs": [],
   "source": [
    "np.subtract(a,b)"
   ]
  },
  {
   "cell_type": "code",
   "execution_count": null,
   "metadata": {
    "slideshow": {
     "slide_type": "slide"
    }
   },
   "outputs": [],
   "source": [
    "a*b  # Producto elemento a elemento"
   ]
  },
  {
   "cell_type": "code",
   "execution_count": null,
   "metadata": {},
   "outputs": [],
   "source": [
    "np.multiply(a,b)  # Producto elemento a elemento"
   ]
  },
  {
   "cell_type": "code",
   "execution_count": null,
   "metadata": {
    "slideshow": {
     "slide_type": "fragment"
    }
   },
   "outputs": [],
   "source": [
    "a/b # División elemento a elemento"
   ]
  },
  {
   "cell_type": "code",
   "execution_count": null,
   "metadata": {},
   "outputs": [],
   "source": [
    "np.divide(a,b)"
   ]
  },
  {
   "cell_type": "code",
   "execution_count": null,
   "metadata": {
    "slideshow": {
     "slide_type": "slide"
    }
   },
   "outputs": [],
   "source": [
    "np.exp(a)"
   ]
  },
  {
   "cell_type": "code",
   "execution_count": null,
   "metadata": {},
   "outputs": [],
   "source": [
    "np.sqrt(a)"
   ]
  },
  {
   "cell_type": "code",
   "execution_count": null,
   "metadata": {
    "slideshow": {
     "slide_type": "fragment"
    }
   },
   "outputs": [],
   "source": [
    "valor_pi=np.pi  # Valor del número 'pi' definido en numpy\n",
    "np.cos(2*valor_pi) # Funciones trigonométricas -> ángulos en radianes"
   ]
  },
  {
   "cell_type": "code",
   "execution_count": null,
   "metadata": {},
   "outputs": [],
   "source": [
    "np.sin(a) "
   ]
  },
  {
   "cell_type": "code",
   "execution_count": null,
   "metadata": {
    "slideshow": {
     "slide_type": "fragment"
    }
   },
   "outputs": [],
   "source": [
    "# Calcula el array coseno de los elementos del array a:\n",
    "\n",
    "\n"
   ]
  },
  {
   "cell_type": "code",
   "execution_count": null,
   "metadata": {
    "slideshow": {
     "slide_type": "fragment"
    }
   },
   "outputs": [],
   "source": [
    "np.tan(a)"
   ]
  },
  {
   "cell_type": "code",
   "execution_count": null,
   "metadata": {
    "slideshow": {
     "slide_type": "slide"
    }
   },
   "outputs": [],
   "source": [
    "np.e # Valor del número 'e' definido en numpy"
   ]
  },
  {
   "cell_type": "code",
   "execution_count": null,
   "metadata": {
    "slideshow": {
     "slide_type": "fragment"
    }
   },
   "outputs": [],
   "source": [
    "np.log(np.array([1,np.e])) # Logaritmo neperiano"
   ]
  },
  {
   "cell_type": "code",
   "execution_count": null,
   "metadata": {
    "slideshow": {
     "slide_type": "fragment"
    }
   },
   "outputs": [],
   "source": [
    "np.log10(10) # Logaritmo decimal"
   ]
  },
  {
   "cell_type": "code",
   "execution_count": null,
   "metadata": {
    "slideshow": {
     "slide_type": "fragment"
    }
   },
   "outputs": [],
   "source": [
    "c=np.array([1,2,3])\n",
    "d=np.array([1,10,100])\n",
    "c.dot(d) # Producto escalar"
   ]
  },
  {
   "cell_type": "code",
   "execution_count": null,
   "metadata": {
    "slideshow": {
     "slide_type": "fragment"
    }
   },
   "outputs": [],
   "source": [
    "e=np.array([1,2,3])\n",
    "f=np.array([3,2,1])\n",
    "np.cross(e,f) # Producto vectorial "
   ]
  },
  {
   "cell_type": "code",
   "execution_count": null,
   "metadata": {
    "slideshow": {
     "slide_type": "slide"
    }
   },
   "outputs": [],
   "source": [
    "np.transpose(g) # Transpuesta de una matriz"
   ]
  },
  {
   "cell_type": "code",
   "execution_count": null,
   "metadata": {
    "slideshow": {
     "slide_type": "fragment"
    }
   },
   "outputs": [],
   "source": [
    "g=np.array([[1,2,3],[10,20,30]])\n",
    "h=np.array([[1,1],[2,2],[3,0]])\n",
    "g@h # Producto de dos matrices"
   ]
  },
  {
   "cell_type": "code",
   "execution_count": null,
   "metadata": {
    "slideshow": {
     "slide_type": "fragment"
    }
   },
   "outputs": [],
   "source": [
    "g.ravel()  # Convertir a matriz unidimensional"
   ]
  },
  {
   "cell_type": "code",
   "execution_count": null,
   "metadata": {
    "slideshow": {
     "slide_type": "fragment"
    }
   },
   "outputs": [],
   "source": [
    "g.reshape((3,2)) # Redimensionar una matriz"
   ]
  },
  {
   "cell_type": "markdown",
   "metadata": {
    "slideshow": {
     "slide_type": "slide"
    }
   },
   "source": [
    "## Almacenamiento/Lectura de arrays en disco"
   ]
  },
  {
   "cell_type": "markdown",
   "metadata": {},
   "source": [
    "**Archivos binarios**"
   ]
  },
  {
   "cell_type": "code",
   "execution_count": null,
   "metadata": {},
   "outputs": [],
   "source": [
    "a=np.random.random((2,4))\n",
    "print(a)"
   ]
  },
  {
   "cell_type": "code",
   "execution_count": null,
   "metadata": {},
   "outputs": [],
   "source": [
    "np.save('array_a',a) #almacena el array a en el archivo 'array_a.npy'"
   ]
  },
  {
   "cell_type": "code",
   "execution_count": null,
   "metadata": {},
   "outputs": [],
   "source": [
    "a_read=np.load('array_a.npy') # lee el array del archivo 'array_a.npy'\n",
    "print(a_read)"
   ]
  },
  {
   "cell_type": "markdown",
   "metadata": {
    "slideshow": {
     "slide_type": "slide"
    }
   },
   "source": [
    "**Archivos de texto**"
   ]
  },
  {
   "cell_type": "code",
   "execution_count": null,
   "metadata": {},
   "outputs": [],
   "source": [
    "np.savetxt('array_a.csv',a, delimiter=',')"
   ]
  },
  {
   "cell_type": "code",
   "execution_count": null,
   "metadata": {},
   "outputs": [],
   "source": [
    "a_csv=np.genfromtxt('array_a.csv', delimiter=',')\n",
    "print(a_csv)"
   ]
  },
  {
   "cell_type": "markdown",
   "metadata": {
    "slideshow": {
     "slide_type": "slide"
    }
   },
   "source": [
    "## Matplotlib\n",
    "\n",
    "Librería con utilidades para representación gráfica"
   ]
  },
  {
   "cell_type": "code",
   "execution_count": null,
   "metadata": {},
   "outputs": [],
   "source": [
    "import matplotlib.pyplot as plt"
   ]
  },
  {
   "cell_type": "code",
   "execution_count": null,
   "metadata": {
    "slideshow": {
     "slide_type": "fragment"
    }
   },
   "outputs": [],
   "source": [
    "import numpy as np\n",
    "x=np.arange(-10,10,0.01)\n",
    "y=(x-3)**2+10\n",
    "z=np.sin(x)"
   ]
  },
  {
   "cell_type": "code",
   "execution_count": null,
   "metadata": {
    "slideshow": {
     "slide_type": "fragment"
    }
   },
   "outputs": [],
   "source": [
    "plt.plot(x,y)  # Curva x-y"
   ]
  },
  {
   "cell_type": "markdown",
   "metadata": {
    "slideshow": {
     "slide_type": "slide"
    }
   },
   "source": [
    "## Figuras con uno o más gráficos (*subplots*)"
   ]
  },
  {
   "cell_type": "code",
   "execution_count": null,
   "metadata": {},
   "outputs": [],
   "source": [
    "# 1. Crear una figura\n",
    "figura=plt.figure() \n",
    "# 2. Asignar ejes \n",
    "ax1=figura.add_subplot(211) # Usando 2 filas y 1 columnas, ax1 corresponde al gráfico 1\n",
    "ax2=figura.add_subplot(212) # Usando 2 filas y 1 columnas, ax2 corresponde al gráfico 2\n",
    "# 3. Dibujar en cada eje\n",
    "ax1.plot(x,y)\n",
    "#Segundo eje: \n",
    "''' Añade a continuación el código necesaeio para que en el eje ax2 se muestre una curva \n",
    "    que represente los valores de x en abscisas y los de z en ordenadas:\n",
    "'''\n",
    "\n",
    "\n",
    "\n",
    "# 4. Mostrar la figura\n",
    "# figura.show() # Necesario en una aplicación con ventanas gráficas"
   ]
  },
  {
   "cell_type": "code",
   "execution_count": null,
   "metadata": {
    "slideshow": {
     "slide_type": "slide"
    }
   },
   "outputs": [],
   "source": [
    "x2=np.arange(0,15)\n",
    "y2=np.random.randint(0,10,15)\n",
    "plt.scatter(x2,y2,color='r') # Muestra los puntos en color rojo (Red) sin unirlos \n",
    "plt.plot(x2,y2,'k') # Plot de color negro (blacK)\n",
    "# Línea horizontal:\n",
    "    # Cota: 5\n",
    "    # Color azul (Blue)\n",
    "    # Discontinua (trazos de 4 puntos separados por 2 puntos)\n",
    "plt.axhline(5,color='b',dashes=(4,2)) "
   ]
  },
  {
   "cell_type": "code",
   "execution_count": null,
   "metadata": {
    "slideshow": {
     "slide_type": "slide"
    }
   },
   "outputs": [],
   "source": [
    "x=np.arange(0,15)\n",
    "y=np.random.randint(0,10,15)\n",
    "plt.bar(x,y) # Diagrama de barras verticales \n",
    "plt.plot(x,y,'r') # Muestra los puntos y los une mediante una línea"
   ]
  },
  {
   "cell_type": "code",
   "execution_count": null,
   "metadata": {
    "slideshow": {
     "slide_type": "slide"
    }
   },
   "outputs": [],
   "source": [
    "x=np.arange(0,15)\n",
    "y=np.random.randint(0,10,15)\n",
    "\n",
    "#Crea una figura, fig2:\n",
    "\n",
    "\n",
    "\n",
    "\n",
    "ax21=fig2.add_subplot(221)\n",
    "ax22=fig2.add_subplot(222)\n",
    "ax23=fig2.add_subplot(212)\n",
    "\n",
    "# Representa en el eje ax21 el diagrama de barras verticales con 'y' en ordenadas y 'x' en abscisas:\n",
    "\n",
    "\n",
    "\n",
    "\n",
    "\n",
    "ax22.barh(x,y) # Diagrama de barras horizontales\n",
    "\n",
    "# Representa en el eje ax23 un plot de color verde con 'y' en ordenadas y 'x' en abscisas:\n",
    "\n",
    "\n",
    "\n",
    "\n",
    "\n",
    "\n",
    "#línea vertical:\n",
    "    # Posición: 4\n",
    "    # Color verde\n",
    "    # Línea de ejes (trazos de 5 puntos y puntos de 2 puntos; separaciones de 2 puntos) \n",
    "ax23.axvline(4 ,color='purple',dashes=(5,3,2,3))"
   ]
  },
  {
   "cell_type": "code",
   "execution_count": null,
   "metadata": {
    "slideshow": {
     "slide_type": "slide"
    }
   },
   "outputs": [],
   "source": [
    "x3=np.arange(0,1.0,0.1)\n",
    "y3=np.exp(x3)\n",
    "\n",
    "fig3=plt.figure()\n",
    "ax3=fig3.add_subplot(111)\n",
    "\n",
    "'''Asignar títulos a los ejes'''\n",
    "ax3.set(title='Ejemplo de título',\n",
    "        ylabel= r'$e^x$',   # Formato LaTeX para Ecuaciones\n",
    "        xlabel='x')  \n",
    "ax3.plot(x3,y3) # plot x-y"
   ]
  },
  {
   "cell_type": "markdown",
   "metadata": {
    "slideshow": {
     "slide_type": "slide"
    }
   },
   "source": [
    "## Mostrar imágenes"
   ]
  },
  {
   "cell_type": "code",
   "execution_count": null,
   "metadata": {},
   "outputs": [],
   "source": [
    "'''Configuración de Jupyter Lab para mostrar imágenes y gráficos de matplotlib:\n",
    "%matplotlib inline -> (opción por defecto) En la ventana de Jupyter Lab\n",
    "%matplotlib qt  ->  En una ventana diferente con opciones de 'zoom' y 'grabar', entre otras\n",
    "'''\n",
    "\n",
    "''' Configura Jupyter Lab para que muestre gráficos e imágenes \n",
    "en una ventana diferente. Para ello has de corregir la siguiente instrucción:\n",
    "'''\n",
    "\n",
    "%matplotlib inline/qt\n",
    "\n",
    "\n",
    "import matplotlib.pyplot as plt\n",
    "import matplotlib.image as mpimg  # Adecuada para imágenes en formato png\n",
    "\n",
    "# Abrir archivo con una imagen\n",
    "img = mpimg.imread('http://ingenierias.unileon.es/wp-content/uploads/2019/10/logo_ingenierias_retina.png')\n",
    "# No mostrar los ejes del gráfico\n",
    "plt.axis('off') \n",
    "# Mostrar la imagen \n",
    "plt.imshow(img); "
   ]
  },
  {
   "cell_type": "markdown",
   "metadata": {
    "slideshow": {
     "slide_type": "slide"
    }
   },
   "source": [
    "## Guardar figuras"
   ]
  },
  {
   "cell_type": "code",
   "execution_count": null,
   "metadata": {},
   "outputs": [],
   "source": [
    "x=np.arange(0,15)\n",
    "y=np.random.randint(0,10,15)\n",
    "z=np.random.randint(5,15,15)\n",
    "p=np.random.randint(0,5,15)\n",
    "\n",
    "fig=plt.figure()\n",
    "ax=fig.add_subplot(111)\n",
    "ax.scatter(x,y, marker='x', color='blue') \n",
    "ax.scatter(x,z, marker='o', color='red') \n",
    "ax.scatter(x,p, marker='^', color='green') \n",
    "\n",
    "# Grabar la imagen:\n",
    "    # dpi (puntos por pulgada): valor por defecto, el de la visualización\n",
    "    # transparent: por defecto el fondo no es transparente (False)\n",
    "fig.savefig('mi_imagen.png') # Por defecto, el dpi de la gráfica  (dpi)\n",
    "fig.savefig('mi_imagen_fondo_transparente.png', dpi=150, transparent=True)"
   ]
  },
  {
   "cell_type": "markdown",
   "metadata": {},
   "source": [
    "Nota: También se pueden guardar las figuras desde las ventanas de la aplicación"
   ]
  }
 ],
 "metadata": {
  "kernelspec": {
   "display_name": "Python 3",
   "language": "python",
   "name": "python3"
  },
  "language_info": {
   "codemirror_mode": {
    "name": "ipython",
    "version": 3
   },
   "file_extension": ".py",
   "mimetype": "text/x-python",
   "name": "python",
   "nbconvert_exporter": "python",
   "pygments_lexer": "ipython3",
   "version": "3.7.5"
  }
 },
 "nbformat": 4,
 "nbformat_minor": 4
}
